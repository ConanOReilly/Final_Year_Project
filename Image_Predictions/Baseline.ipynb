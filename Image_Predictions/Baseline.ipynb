{
  "nbformat": 4,
  "nbformat_minor": 0,
  "metadata": {
    "colab": {
      "provenance": [],
      "machine_shape": "hm",
      "gpuType": "T4",
      "authorship_tag": "ABX9TyPOOpvnXDuh9xR9T+NdOjCD",
      "include_colab_link": true
    },
    "kernelspec": {
      "name": "python3",
      "display_name": "Python 3"
    },
    "language_info": {
      "name": "python"
    },
    "accelerator": "GPU"
  },
  "cells": [
    {
      "cell_type": "markdown",
      "metadata": {
        "id": "view-in-github",
        "colab_type": "text"
      },
      "source": [
        "<a href=\"https://colab.research.google.com/github/ConanOReilly/Final_Year_Project/blob/main/Image_Data/Baseline.ipynb\" target=\"_parent\"><img src=\"https://colab.research.google.com/assets/colab-badge.svg\" alt=\"Open In Colab\"/></a>"
      ]
    },
    {
      "cell_type": "markdown",
      "source": [
        "# **Baseline Model**\n",
        "A baseline in machine learning serves as a simple reference point to evaluate the performance of more complex models.\n",
        "\n",
        "The models used:\n",
        "\n",
        "\n",
        "*   MobileNetV2 (frozen)\n",
        "*   MobileNetV2 (unfrozen)\n",
        "\n"
      ],
      "metadata": {
        "id": "BKFNchf7KeLC"
      }
    },
    {
      "cell_type": "code",
      "execution_count": null,
      "metadata": {
        "colab": {
          "base_uri": "https://localhost:8080/"
        },
        "id": "9BRBuEk_lNzV",
        "outputId": "32535886-8a4a-4b4a-9052-f2ecef97f4a7"
      },
      "outputs": [
        {
          "output_type": "stream",
          "name": "stdout",
          "text": [
            "Mounted at /content/drive\n"
          ]
        }
      ],
      "source": [
        "from google.colab import drive\n",
        "drive.mount('/content/drive')"
      ]
    },
    {
      "cell_type": "markdown",
      "source": [
        "# **Libraries**"
      ],
      "metadata": {
        "id": "VkzVMmIhLCTJ"
      }
    },
    {
      "cell_type": "code",
      "source": [
        "import pandas as pd\n",
        "import numpy as np\n",
        "import matplotlib.pyplot as plt\n",
        "from sklearn.utils.class_weight import compute_class_weight\n",
        "from sklearn.metrics import classification_report\n",
        "from tensorflow.keras.preprocessing.image import ImageDataGenerator\n",
        "from tensorflow.keras.applications import MobileNetV2\n",
        "from tensorflow.keras.layers import Dense, GlobalAveragePooling2D, Dropout\n",
        "from tensorflow.keras.models import Model\n",
        "from tensorflow.keras.optimizers import Adam"
      ],
      "metadata": {
        "id": "z3wOkAVsprVI"
      },
      "execution_count": null,
      "outputs": []
    },
    {
      "cell_type": "markdown",
      "source": [
        "# **Preprocessing**\n",
        "First iteration didn't identify 'MEL' and 'SCC', therefore class weights were computed."
      ],
      "metadata": {
        "id": "2opt2A32LFUp"
      }
    },
    {
      "cell_type": "code",
      "source": [
        "# Define dataset path\n",
        "data_dir = '/content/drive/MyDrive/Final Year Project/Code/MetaBlock/Data/imgs'\n",
        "metadata_path = '/content/drive/MyDrive/Final Year Project/Data/PAD/Metadata/metadata.csv'"
      ],
      "metadata": {
        "id": "_j4fGqLnnOz4"
      },
      "execution_count": null,
      "outputs": []
    },
    {
      "cell_type": "code",
      "source": [
        "# Load metadata CSV\n",
        "df = pd.read_csv(metadata_path)\n",
        "\n",
        "# Keep only necessary columns\n",
        "df = df[['img_id', 'diagnostic']]\n",
        "df = df.rename(columns={'img_id': 'filename', 'diagnostic': 'label'})"
      ],
      "metadata": {
        "id": "O-03kdzcomzg"
      },
      "execution_count": null,
      "outputs": []
    },
    {
      "cell_type": "code",
      "source": [
        "# Image parameters\n",
        "img_size = 224\n",
        "batch_size = 32\n",
        "\n",
        "# Image Data Augmentation\n",
        "datagen = ImageDataGenerator(\n",
        "    rescale=1.0 / 255,\n",
        "    validation_split=0.2,\n",
        "    rotation_range=20,\n",
        "    width_shift_range=0.2,\n",
        "    height_shift_range=0.2,\n",
        "    horizontal_flip=True\n",
        ")\n",
        "\n",
        "train_generator = datagen.flow_from_dataframe(\n",
        "    dataframe=df,\n",
        "    directory=data_dir,\n",
        "    x_col='filename',\n",
        "    y_col='label',\n",
        "    target_size=(img_size, img_size),\n",
        "    batch_size=batch_size,\n",
        "    class_mode='categorical',\n",
        "    subset='training'\n",
        ")\n",
        "\n",
        "val_generator = datagen.flow_from_dataframe(\n",
        "    dataframe=df,\n",
        "    directory=data_dir,\n",
        "    x_col='filename',\n",
        "    y_col='label',\n",
        "    target_size=(img_size, img_size),\n",
        "    batch_size=batch_size,\n",
        "    class_mode='categorical',\n",
        "    subset='validation'\n",
        ")"
      ],
      "metadata": {
        "colab": {
          "base_uri": "https://localhost:8080/"
        },
        "id": "wd6qOsvzmBIp",
        "outputId": "e134dcbf-5047-4a6d-ff7c-98c11d5eef9a"
      },
      "execution_count": null,
      "outputs": [
        {
          "output_type": "stream",
          "name": "stdout",
          "text": [
            "Found 1839 validated image filenames belonging to 6 classes.\n",
            "Found 459 validated image filenames belonging to 6 classes.\n"
          ]
        }
      ]
    },
    {
      "cell_type": "code",
      "source": [
        "# Class indices\n",
        "class_indices = train_generator.class_indices\n",
        "inv_class_indices = {v: k for k, v in class_indices.items()}\n",
        "\n",
        "# Training set distribution\n",
        "train_classes = train_generator.classes\n",
        "train_class_counts = pd.Series(train_classes).value_counts().sort_index()\n",
        "train_class_names = [inv_class_indices[i] for i in train_class_counts.index]\n",
        "train_distribution = pd.DataFrame({'Class': train_class_names, 'Train Samples': train_class_counts.values})\n",
        "\n",
        "# Validation set distribution\n",
        "val_classes = val_generator.classes\n",
        "val_class_counts = pd.Series(val_classes).value_counts().sort_index()\n",
        "val_class_names = [inv_class_indices[i] for i in val_class_counts.index]\n",
        "val_distribution = pd.DataFrame({'Class': val_class_names, 'Validation Samples': val_class_counts.values})\n",
        "\n",
        "# Combine both\n",
        "full_distribution = pd.merge(train_distribution, val_distribution, on='Class')\n",
        "print(full_distribution)"
      ],
      "metadata": {
        "colab": {
          "base_uri": "https://localhost:8080/"
        },
        "id": "I7iLg1PILzHI",
        "outputId": "43f9ec69-216e-4083-bda9-abb055b5ebd3"
      },
      "execution_count": null,
      "outputs": [
        {
          "output_type": "stream",
          "name": "stdout",
          "text": [
            "  Class  Train Samples  Validation Samples\n",
            "0   ACK            588                 142\n",
            "1   BCC            668                 177\n",
            "2   MEL             41                  11\n",
            "3   NEV            198                  46\n",
            "4   SCC            153                  39\n",
            "5   SEK            191                  44\n"
          ]
        }
      ]
    },
    {
      "cell_type": "code",
      "source": [
        "# Computing Weights\n",
        "y_train = train_generator.classes\n",
        "class_weights = compute_class_weight(class_weight='balanced', classes=np.unique(y_train), y=y_train)\n",
        "class_weights_dict = dict(enumerate(class_weights))\n",
        "print(\"Class Weights:\", class_weights_dict)"
      ],
      "metadata": {
        "colab": {
          "base_uri": "https://localhost:8080/"
        },
        "id": "82LVTbKAMXMQ",
        "outputId": "8b03c460-3260-4a3a-83b0-dd01457b2caa"
      },
      "execution_count": null,
      "outputs": [
        {
          "output_type": "stream",
          "name": "stdout",
          "text": [
            "Class Weights: {0: np.float64(0.5212585034013606), 1: np.float64(0.4588323353293413), 2: np.float64(7.475609756097561), 3: np.float64(1.547979797979798), 4: np.float64(2.003267973856209), 5: np.float64(1.6047120418848169)}\n"
          ]
        }
      ]
    },
    {
      "cell_type": "code",
      "source": [
        "# Map class weights to class names\n",
        "named_weights = {inv_class_indices[i]: round(weight, 4) for i, weight in class_weights_dict.items()}\n",
        "\n",
        "# Print class weights\n",
        "print(\"Class Weights (with class names):\")\n",
        "for label, weight in named_weights.items():\n",
        "    print(f\"{label}: {weight}\")"
      ],
      "metadata": {
        "colab": {
          "base_uri": "https://localhost:8080/"
        },
        "id": "3iwTPFIyMurw",
        "outputId": "290b249e-fb27-4de7-96fe-9294b1d87c15"
      },
      "execution_count": null,
      "outputs": [
        {
          "output_type": "stream",
          "name": "stdout",
          "text": [
            "Class Weights (with class names):\n",
            "ACK: 0.5213\n",
            "BCC: 0.4588\n",
            "MEL: 7.4756\n",
            "NEV: 1.548\n",
            "SCC: 2.0033\n",
            "SEK: 1.6047\n"
          ]
        }
      ]
    },
    {
      "cell_type": "markdown",
      "source": [
        "**Frozen Model**"
      ],
      "metadata": {
        "id": "sWS-hmSMM-Qo"
      }
    },
    {
      "cell_type": "code",
      "source": [
        "# Load Pretrained MobileNetV2\n",
        "base_model = MobileNetV2(weights='imagenet', include_top=False, input_shape=(img_size, img_size, 3))\n",
        "base_model.trainable = False\n",
        "\n",
        "# Custom Classification Layers\n",
        "x = base_model.output\n",
        "x = GlobalAveragePooling2D()(x)\n",
        "x = Dense(128, activation='relu')(x)\n",
        "x = Dropout(0.3)(x)\n",
        "x = Dense(6, activation='softmax')(x)\n",
        "\n",
        "model = Model(inputs=base_model.input, outputs=x)\n",
        "\n",
        "# Compile Model\n",
        "model.compile(optimizer='adam', loss='categorical_crossentropy', metrics=['accuracy'])\n",
        "\n",
        "# Train Model\n",
        "history = model.fit(\n",
        "    train_generator,\n",
        "    validation_data=val_generator,\n",
        "    epochs=10,\n",
        "    verbose=1,\n",
        "    class_weight=class_weights_dict\n",
        ")"
      ],
      "metadata": {
        "colab": {
          "base_uri": "https://localhost:8080/"
        },
        "id": "AginJOakLnd5",
        "outputId": "1ea4b822-c8db-448c-8bdd-0c78b95ebd43"
      },
      "execution_count": null,
      "outputs": [
        {
          "output_type": "stream",
          "name": "stdout",
          "text": [
            "Downloading data from https://storage.googleapis.com/tensorflow/keras-applications/mobilenet_v2/mobilenet_v2_weights_tf_dim_ordering_tf_kernels_1.0_224_no_top.h5\n",
            "\u001b[1m9406464/9406464\u001b[0m \u001b[32m━━━━━━━━━━━━━━━━━━━━\u001b[0m\u001b[37m\u001b[0m \u001b[1m0s\u001b[0m 0us/step\n"
          ]
        },
        {
          "output_type": "stream",
          "name": "stderr",
          "text": [
            "/usr/local/lib/python3.11/dist-packages/keras/src/trainers/data_adapters/py_dataset_adapter.py:121: UserWarning: Your `PyDataset` class should call `super().__init__(**kwargs)` in its constructor. `**kwargs` can include `workers`, `use_multiprocessing`, `max_queue_size`. Do not pass these arguments to `fit()`, as they will be ignored.\n",
            "  self._warn_if_super_not_called()\n"
          ]
        },
        {
          "output_type": "stream",
          "name": "stdout",
          "text": [
            "Epoch 1/10\n",
            "\u001b[1m58/58\u001b[0m \u001b[32m━━━━━━━━━━━━━━━━━━━━\u001b[0m\u001b[37m\u001b[0m \u001b[1m1179s\u001b[0m 20s/step - accuracy: 0.2761 - loss: 1.8950 - val_accuracy: 0.4771 - val_loss: 1.4060\n",
            "Epoch 2/10\n",
            "\u001b[1m58/58\u001b[0m \u001b[32m━━━━━━━━━━━━━━━━━━━━\u001b[0m\u001b[37m\u001b[0m \u001b[1m99s\u001b[0m 2s/step - accuracy: 0.4038 - loss: 1.4827 - val_accuracy: 0.4379 - val_loss: 1.3932\n",
            "Epoch 3/10\n",
            "\u001b[1m58/58\u001b[0m \u001b[32m━━━━━━━━━━━━━━━━━━━━\u001b[0m\u001b[37m\u001b[0m \u001b[1m98s\u001b[0m 2s/step - accuracy: 0.4512 - loss: 1.3392 - val_accuracy: 0.3529 - val_loss: 1.3722\n",
            "Epoch 4/10\n",
            "\u001b[1m58/58\u001b[0m \u001b[32m━━━━━━━━━━━━━━━━━━━━\u001b[0m\u001b[37m\u001b[0m \u001b[1m98s\u001b[0m 2s/step - accuracy: 0.4223 - loss: 1.3347 - val_accuracy: 0.4619 - val_loss: 1.3575\n",
            "Epoch 5/10\n",
            "\u001b[1m58/58\u001b[0m \u001b[32m━━━━━━━━━━━━━━━━━━━━\u001b[0m\u001b[37m\u001b[0m \u001b[1m98s\u001b[0m 2s/step - accuracy: 0.4702 - loss: 1.2139 - val_accuracy: 0.4597 - val_loss: 1.3013\n",
            "Epoch 6/10\n",
            "\u001b[1m58/58\u001b[0m \u001b[32m━━━━━━━━━━━━━━━━━━━━\u001b[0m\u001b[37m\u001b[0m \u001b[1m98s\u001b[0m 2s/step - accuracy: 0.4844 - loss: 1.1881 - val_accuracy: 0.5381 - val_loss: 1.1387\n",
            "Epoch 7/10\n",
            "\u001b[1m58/58\u001b[0m \u001b[32m━━━━━━━━━━━━━━━━━━━━\u001b[0m\u001b[37m\u001b[0m \u001b[1m98s\u001b[0m 2s/step - accuracy: 0.4928 - loss: 1.2097 - val_accuracy: 0.4684 - val_loss: 1.2571\n",
            "Epoch 8/10\n",
            "\u001b[1m58/58\u001b[0m \u001b[32m━━━━━━━━━━━━━━━━━━━━\u001b[0m\u001b[37m\u001b[0m \u001b[1m98s\u001b[0m 2s/step - accuracy: 0.5253 - loss: 1.0665 - val_accuracy: 0.3834 - val_loss: 1.5301\n",
            "Epoch 9/10\n",
            "\u001b[1m58/58\u001b[0m \u001b[32m━━━━━━━━━━━━━━━━━━━━\u001b[0m\u001b[37m\u001b[0m \u001b[1m98s\u001b[0m 2s/step - accuracy: 0.4907 - loss: 1.1060 - val_accuracy: 0.4728 - val_loss: 1.2738\n",
            "Epoch 10/10\n",
            "\u001b[1m58/58\u001b[0m \u001b[32m━━━━━━━━━━━━━━━━━━━━\u001b[0m\u001b[37m\u001b[0m \u001b[1m98s\u001b[0m 2s/step - accuracy: 0.5100 - loss: 1.0593 - val_accuracy: 0.4967 - val_loss: 1.2530\n"
          ]
        }
      ]
    },
    {
      "cell_type": "markdown",
      "source": [
        "**Evaluation**"
      ],
      "metadata": {
        "id": "BEknrVmOV6gV"
      }
    },
    {
      "cell_type": "code",
      "source": [
        "# Compute classification report\n",
        "val_preds = model.predict(val_generator)\n",
        "val_preds_classes = np.argmax(val_preds, axis=1)\n",
        "true_classes = val_generator.classes\n",
        "class_labels = list(val_generator.class_indices.keys())\n",
        "\n",
        "class_report = classification_report(true_classes, val_preds_classes, target_names=class_labels, digits=4)\n",
        "print(\"\\nClassification Report:\\n\", class_report)"
      ],
      "metadata": {
        "colab": {
          "base_uri": "https://localhost:8080/"
        },
        "id": "auSfKuxUyVno",
        "outputId": "052529e4-12ca-4ead-9937-5eb9faeeadde"
      },
      "execution_count": null,
      "outputs": [
        {
          "output_type": "stream",
          "name": "stdout",
          "text": [
            "\u001b[1m15/15\u001b[0m \u001b[32m━━━━━━━━━━━━━━━━━━━━\u001b[0m\u001b[37m\u001b[0m \u001b[1m24s\u001b[0m 1s/step\n",
            "\n",
            "Classification Report:\n",
            "               precision    recall  f1-score   support\n",
            "\n",
            "         ACK     0.4034    0.3380    0.3678       142\n",
            "         BCC     0.4082    0.2260    0.2909       177\n",
            "         MEL     0.0000    0.0000    0.0000        11\n",
            "         NEV     0.0943    0.1087    0.1010        46\n",
            "         SCC     0.1068    0.2821    0.1549        39\n",
            "         SEK     0.1410    0.2500    0.1803        44\n",
            "\n",
            "    accuracy                         0.2505       459\n",
            "   macro avg     0.1923    0.2008    0.1825       459\n",
            "weighted avg     0.3142    0.2505    0.2665       459\n",
            "\n"
          ]
        }
      ]
    },
    {
      "cell_type": "markdown",
      "source": [
        "**Unfrozen Model**"
      ],
      "metadata": {
        "id": "g0mvqNjotm0j"
      }
    },
    {
      "cell_type": "code",
      "source": [
        "# Load Pretrained MobileNetV2\n",
        "base_model = MobileNetV2(weights='imagenet', include_top=False, input_shape=(img_size, img_size, 3))\n",
        "base_model.trainable = True\n",
        "\n",
        "# Custom Classification Layers\n",
        "x = base_model.output\n",
        "x = GlobalAveragePooling2D()(x)\n",
        "x = Dense(128, activation='relu')(x)\n",
        "x = Dropout(0.3)(x)\n",
        "x = Dense(6, activation='softmax')(x)\n",
        "\n",
        "unfrozen_model = Model(inputs=base_model.input, outputs=x)\n",
        "\n",
        "# Compile Model\n",
        "unfrozen_model.compile(optimizer='adam', loss='categorical_crossentropy', metrics=['accuracy'])\n",
        "\n",
        "# Train Model\n",
        "history = unfrozen_model.fit(\n",
        "    train_generator,\n",
        "    validation_data=val_generator,\n",
        "    epochs=10,\n",
        "    verbose=1,\n",
        "    class_weight=class_weights_dict\n",
        ")"
      ],
      "metadata": {
        "colab": {
          "base_uri": "https://localhost:8080/"
        },
        "id": "pR90GqRftrHB",
        "outputId": "71c13d7b-b350-438d-f113-aadf585b6dbb"
      },
      "execution_count": null,
      "outputs": [
        {
          "output_type": "stream",
          "name": "stdout",
          "text": [
            "Epoch 1/10\n",
            "\u001b[1m58/58\u001b[0m \u001b[32m━━━━━━━━━━━━━━━━━━━━\u001b[0m\u001b[37m\u001b[0m \u001b[1m2113s\u001b[0m 36s/step - accuracy: 0.3201 - loss: 1.7727 - val_accuracy: 0.1002 - val_loss: 11.5470\n",
            "Epoch 2/10\n",
            "\u001b[1m58/58\u001b[0m \u001b[32m━━━━━━━━━━━━━━━━━━━━\u001b[0m\u001b[37m\u001b[0m \u001b[1m100s\u001b[0m 2s/step - accuracy: 0.4645 - loss: 1.2748 - val_accuracy: 0.1002 - val_loss: 10.5919\n",
            "Epoch 3/10\n",
            "\u001b[1m58/58\u001b[0m \u001b[32m━━━━━━━━━━━━━━━━━━━━\u001b[0m\u001b[37m\u001b[0m \u001b[1m101s\u001b[0m 2s/step - accuracy: 0.5290 - loss: 1.1223 - val_accuracy: 0.1002 - val_loss: 11.4435\n",
            "Epoch 4/10\n",
            "\u001b[1m58/58\u001b[0m \u001b[32m━━━━━━━━━━━━━━━━━━━━\u001b[0m\u001b[37m\u001b[0m \u001b[1m99s\u001b[0m 2s/step - accuracy: 0.4997 - loss: 1.0962 - val_accuracy: 0.1002 - val_loss: 14.4489\n",
            "Epoch 5/10\n",
            "\u001b[1m58/58\u001b[0m \u001b[32m━━━━━━━━━━━━━━━━━━━━\u001b[0m\u001b[37m\u001b[0m \u001b[1m100s\u001b[0m 2s/step - accuracy: 0.5492 - loss: 1.0418 - val_accuracy: 0.1002 - val_loss: 12.6247\n",
            "Epoch 6/10\n",
            "\u001b[1m58/58\u001b[0m \u001b[32m━━━━━━━━━━━━━━━━━━━━\u001b[0m\u001b[37m\u001b[0m \u001b[1m100s\u001b[0m 2s/step - accuracy: 0.5784 - loss: 1.0013 - val_accuracy: 0.1002 - val_loss: 17.8501\n",
            "Epoch 7/10\n",
            "\u001b[1m58/58\u001b[0m \u001b[32m━━━━━━━━━━━━━━━━━━━━\u001b[0m\u001b[37m\u001b[0m \u001b[1m101s\u001b[0m 2s/step - accuracy: 0.6223 - loss: 1.0431 - val_accuracy: 0.1002 - val_loss: 21.9279\n",
            "Epoch 8/10\n",
            "\u001b[1m58/58\u001b[0m \u001b[32m━━━━━━━━━━━━━━━━━━━━\u001b[0m\u001b[37m\u001b[0m \u001b[1m100s\u001b[0m 2s/step - accuracy: 0.6904 - loss: 0.8290 - val_accuracy: 0.1046 - val_loss: 20.3200\n",
            "Epoch 9/10\n",
            "\u001b[1m58/58\u001b[0m \u001b[32m━━━━━━━━━━━━━━━━━━━━\u001b[0m\u001b[37m\u001b[0m \u001b[1m100s\u001b[0m 2s/step - accuracy: 0.6718 - loss: 0.7919 - val_accuracy: 0.1046 - val_loss: 17.1764\n",
            "Epoch 10/10\n",
            "\u001b[1m58/58\u001b[0m \u001b[32m━━━━━━━━━━━━━━━━━━━━\u001b[0m\u001b[37m\u001b[0m \u001b[1m99s\u001b[0m 2s/step - accuracy: 0.7014 - loss: 0.9208 - val_accuracy: 0.1002 - val_loss: 19.0214\n"
          ]
        }
      ]
    },
    {
      "cell_type": "markdown",
      "source": [
        "**Evaluation**"
      ],
      "metadata": {
        "id": "nDE8hQyFt0jM"
      }
    },
    {
      "cell_type": "code",
      "source": [
        "# Compute classification report\n",
        "val_preds = unfrozen_model.predict(val_generator)\n",
        "val_preds_classes = np.argmax(val_preds, axis=1)\n",
        "true_classes = val_generator.classes\n",
        "class_labels = list(val_generator.class_indices.keys())\n",
        "\n",
        "class_report = classification_report(true_classes, val_preds_classes, target_names=class_labels, digits=4)\n",
        "print(\"\\nClassification Report:\\n\", class_report)"
      ],
      "metadata": {
        "colab": {
          "base_uri": "https://localhost:8080/"
        },
        "id": "gyS7s-V-t3US",
        "outputId": "1c78d768-3e47-4311-8581-20f098f0df71"
      },
      "execution_count": null,
      "outputs": [
        {
          "output_type": "stream",
          "name": "stdout",
          "text": [
            "\u001b[1m15/15\u001b[0m \u001b[32m━━━━━━━━━━━━━━━━━━━━\u001b[0m\u001b[37m\u001b[0m \u001b[1m24s\u001b[0m 1s/step\n",
            "\n",
            "Classification Report:\n",
            "               precision    recall  f1-score   support\n",
            "\n",
            "         ACK     0.0000    0.0000    0.0000       142\n",
            "         BCC     0.0000    0.0000    0.0000       177\n",
            "         MEL     0.0000    0.0000    0.0000        11\n",
            "         NEV     0.1002    1.0000    0.1822        46\n",
            "         SCC     0.0000    0.0000    0.0000        39\n",
            "         SEK     0.0000    0.0000    0.0000        44\n",
            "\n",
            "    accuracy                         0.1002       459\n",
            "   macro avg     0.0167    0.1667    0.0304       459\n",
            "weighted avg     0.0100    0.1002    0.0183       459\n",
            "\n"
          ]
        },
        {
          "output_type": "stream",
          "name": "stderr",
          "text": [
            "/usr/local/lib/python3.11/dist-packages/sklearn/metrics/_classification.py:1565: UndefinedMetricWarning: Precision is ill-defined and being set to 0.0 in labels with no predicted samples. Use `zero_division` parameter to control this behavior.\n",
            "  _warn_prf(average, modifier, f\"{metric.capitalize()} is\", len(result))\n",
            "/usr/local/lib/python3.11/dist-packages/sklearn/metrics/_classification.py:1565: UndefinedMetricWarning: Precision is ill-defined and being set to 0.0 in labels with no predicted samples. Use `zero_division` parameter to control this behavior.\n",
            "  _warn_prf(average, modifier, f\"{metric.capitalize()} is\", len(result))\n",
            "/usr/local/lib/python3.11/dist-packages/sklearn/metrics/_classification.py:1565: UndefinedMetricWarning: Precision is ill-defined and being set to 0.0 in labels with no predicted samples. Use `zero_division` parameter to control this behavior.\n",
            "  _warn_prf(average, modifier, f\"{metric.capitalize()} is\", len(result))\n"
          ]
        }
      ]
    }
  ]
}
