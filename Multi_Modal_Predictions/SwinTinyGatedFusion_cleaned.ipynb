{
  "cells": [
    {
      "cell_type": "markdown",
      "metadata": {
        "id": "view-in-github",
        "colab_type": "text"
      },
      "source": [
        "<a href=\"https://colab.research.google.com/github/ConanOReilly/Final_Year_Project/blob/main/Multi_Modal_Predictions/SwinTinyGatedFusion_cleaned.ipynb\" target=\"_parent\"><img src=\"https://colab.research.google.com/assets/colab-badge.svg\" alt=\"Open In Colab\"/></a>"
      ]
    },
    {
      "cell_type": "markdown",
      "metadata": {
        "id": "p2Gk8DsL6bKb"
      },
      "source": [
        "# **Swin-Tiny Gated Fusion**\n",
        "Building upon the WnB Swin-Tiny model, to add complexity and attempt to enhance the accuracy of the model, a multi-modal approach was implemented using Gated Fusion as the concatenation method."
      ]
    },
    {
      "cell_type": "code",
      "execution_count": null,
      "metadata": {
        "id": "BzIuVzB86bKf",
        "outputId": "423939fd-3a58-4991-ff80-51203595a0ae"
      },
      "outputs": [
        {
          "name": "stdout",
          "output_type": "stream",
          "text": [
            "Mounted at /content/drive\n"
          ]
        }
      ],
      "source": [
        "from google.colab import drive\n",
        "drive.mount('/content/drive')"
      ]
    },
    {
      "cell_type": "markdown",
      "metadata": {
        "id": "7rQwInUf6bKh"
      },
      "source": [
        "# **Libraries**"
      ]
    },
    {
      "cell_type": "code",
      "execution_count": null,
      "metadata": {
        "id": "LDYJfchY6bKh"
      },
      "outputs": [],
      "source": [
        "import torch\n",
        "from torch import nn\n",
        "from torch.utils.data import Dataset, DataLoader, WeightedRandomSampler\n",
        "from transformers import Swinv2Model\n",
        "from torchvision import transforms\n",
        "from PIL import Image, UnidentifiedImageError\n",
        "import os\n",
        "import pandas as pd\n",
        "import random\n",
        "from tqdm import tqdm\n",
        "from sklearn.metrics import classification_report, confusion_matrix\n",
        "import matplotlib.pyplot as plt\n",
        "import seaborn as sns\n",
        "from sklearn.preprocessing import StandardScaler\n",
        "from torch.optim.lr_scheduler import ReduceLROnPlateau"
      ]
    },
    {
      "cell_type": "markdown",
      "metadata": {
        "id": "QwcG_ZEH6bKh"
      },
      "source": [
        "# **Defining Dataset, Classes, and Weights**"
      ]
    },
    {
      "cell_type": "code",
      "execution_count": null,
      "metadata": {
        "id": "luJQFW556bKi"
      },
      "outputs": [],
      "source": [
        "# Dataset\n",
        "class PADUFESDataset(Dataset):\n",
        "    def __init__(self, dataframe, img_dir, augment=True):\n",
        "      self.skin_df = dataframe\n",
        "      self.img_dir = img_dir\n",
        "      self.augment = augment\n",
        "\n",
        "      # Encode labels\n",
        "      self.label_dict = {label: idx for idx, label in enumerate(sorted(self.skin_df['diagnostic'].unique()))}\n",
        "      self.skin_df['label_encoded'] = self.skin_df['diagnostic'].map(self.label_dict)\n",
        "\n",
        "      # Columns to exclude from metadata\n",
        "      exclude_cols = [\n",
        "          'img_id', 'diagnostic', 'patient_id', 'lesion_id',\n",
        "          'folder', 'diagnostic_number', 'label_encoded'\n",
        "      ]\n",
        "\n",
        "      # Dynamically select all metadata columns\n",
        "      self.metadata_cols = [col for col in self.skin_df.columns if col not in exclude_cols]\n",
        "\n",
        "      # Fill missing values in metadata\n",
        "      self.skin_df[self.metadata_cols] = self.skin_df[self.metadata_cols].fillna(0)\n",
        "\n",
        "      # Transforms\n",
        "      self.transform = transforms.Compose([\n",
        "          transforms.Resize((256, 256)),\n",
        "          transforms.RandomRotation(20),\n",
        "          transforms.RandomHorizontalFlip(),\n",
        "          transforms.RandomVerticalFlip(),\n",
        "          transforms.ToTensor(),\n",
        "          transforms.Normalize(mean=[0.485, 0.456, 0.406],\n",
        "                                std=[0.229, 0.224, 0.225]),\n",
        "      ])\n",
        "\n",
        "      self.base_transform = transforms.Compose([\n",
        "          transforms.Resize((256, 256)),\n",
        "          transforms.ToTensor(),\n",
        "          transforms.Normalize(mean=[0.485, 0.456, 0.406],\n",
        "                                std=[0.229, 0.224, 0.225]),\n",
        "      ])\n",
        "\n",
        "      print(\"Using metadata columns:\", self.metadata_cols)\n",
        "\n",
        "    def __len__(self):\n",
        "        return len(self.skin_df)\n",
        "\n",
        "    def __getitem__(self, idx):\n",
        "        attempts = 0\n",
        "        max_attempts = 100\n",
        "        while attempts < max_attempts:\n",
        "            try:\n",
        "                row = self.skin_df.iloc[idx]\n",
        "                img_path = os.path.join(self.img_dir, row['img_id'])\n",
        "                image = Image.open(img_path).convert(\"RGB\")\n",
        "                image = self.transform(image) if self.augment else self.base_transform(image)\n",
        "                try:\n",
        "                    metadata = torch.tensor(row[self.metadata_cols].astype(float).values, dtype=torch.float32)\n",
        "                except Exception as e:\n",
        "                    print(\"Error converting metadata row:\", row[self.metadata_cols])\n",
        "                    raise e\n",
        "\n",
        "                label = row['label_encoded']\n",
        "                return image, metadata, label\n",
        "\n",
        "            except (FileNotFoundError, UnidentifiedImageError):\n",
        "                attempts += 1\n",
        "                idx = random.randint(0, len(self.skin_df) - 1)\n",
        "\n",
        "        raise Exception(f\"Failed to load image after {max_attempts} attempts.\")"
      ]
    },
    {
      "cell_type": "code",
      "execution_count": null,
      "metadata": {
        "id": "E3r4ExUL6bKi"
      },
      "outputs": [],
      "source": [
        "# Balanced sampling\n",
        "def make_weights_for_balanced_classes(dataset):\n",
        "    class_counts = dataset.skin_df['label_encoded'].value_counts()\n",
        "    num_samples = len(dataset)\n",
        "    class_weights = {i: num_samples / class_counts[i] for i in range(len(class_counts))}\n",
        "    weights = [class_weights[label] for label in dataset.skin_df['label_encoded']]\n",
        "    return weights"
      ]
    },
    {
      "cell_type": "code",
      "execution_count": null,
      "metadata": {
        "id": "k9FtrnBe6bKi"
      },
      "outputs": [],
      "source": [
        "# Gated-Fusion module\n",
        "class GatedFusion(nn.Module):\n",
        "    def __init__(self, dim_img, dim_meta):\n",
        "        super(GatedFusion, self).__init__()\n",
        "        self.gate = nn.Sequential(\n",
        "            nn.Linear(dim_img + dim_meta, 1),\n",
        "            nn.Sigmoid()\n",
        "        )\n",
        "\n",
        "    def forward(self, img_feat, meta_feat):\n",
        "        combined = torch.cat((img_feat, meta_feat), dim=1)\n",
        "        alpha = self.gate(combined)\n",
        "        return alpha * img_feat + (1 - alpha) * meta_feat"
      ]
    },
    {
      "cell_type": "code",
      "execution_count": null,
      "metadata": {
        "id": "lhikkl7d6bKj"
      },
      "outputs": [],
      "source": [
        "# Multi-modal model\n",
        "class MultiModalSwinClassifier(nn.Module):\n",
        "    def __init__(self, num_classes, metadata_dim):\n",
        "        super(MultiModalSwinClassifier, self).__init__()\n",
        "        self.image_model = Swinv2Model.from_pretrained(\"microsoft/swinv2-tiny-patch4-window8-256\")\n",
        "\n",
        "        self.image_fc = nn.Sequential(\n",
        "            nn.Linear(self.image_model.config.hidden_size, 128),\n",
        "            nn.ReLU(),\n",
        "            nn.Dropout(0.3)\n",
        "        )\n",
        "\n",
        "        self.metadata_fc = nn.Sequential(\n",
        "            nn.Linear(metadata_dim, 64),\n",
        "            nn.ReLU(),\n",
        "            nn.LayerNorm(64),\n",
        "            nn.Dropout(0.3),\n",
        "            nn.Linear(64, 64),\n",
        "            nn.ReLU(),\n",
        "            nn.Linear(64, 128)\n",
        "        )\n",
        "\n",
        "        self.fusion = GatedFusion(128, 128)\n",
        "        self.classifier = nn.Linear(128, num_classes)\n",
        "\n",
        "    def forward(self, image, metadata):\n",
        "        image_features = self.image_model(image).pooler_output\n",
        "        image_features = self.image_fc(image_features)\n",
        "\n",
        "        metadata_features = self.metadata_fc(metadata)\n",
        "\n",
        "        fused = self.fusion(image_features, metadata_features)\n",
        "        return self.classifier(fused)"
      ]
    },
    {
      "cell_type": "code",
      "execution_count": null,
      "metadata": {
        "id": "Z9JhhXam6bKj"
      },
      "outputs": [],
      "source": [
        "# Training function\n",
        "def train(model, train_loader, criterion, optimizer, device):\n",
        "    model.train()\n",
        "    total_loss, correct, total = 0, 0, 0\n",
        "\n",
        "    loop = tqdm(train_loader, desc=\"Training\", leave=False)\n",
        "    for images, metadata, labels in loop:\n",
        "        images, metadata, labels = images.to(device), metadata.to(device), labels.to(device)\n",
        "        optimizer.zero_grad()\n",
        "        outputs = model(images, metadata)\n",
        "        loss = criterion(outputs, labels)\n",
        "        loss.backward()\n",
        "        optimizer.step()\n",
        "\n",
        "        total_loss += loss.item()\n",
        "        correct += (outputs.argmax(1) == labels).sum().item()\n",
        "        total += labels.size(0)\n",
        "\n",
        "    return total_loss / len(train_loader), correct / total\n"
      ]
    },
    {
      "cell_type": "code",
      "execution_count": null,
      "metadata": {
        "id": "sG6yNQsb6bKk"
      },
      "outputs": [],
      "source": [
        "# Evaluation function\n",
        "def evaluate(model, val_loader, criterion, device):\n",
        "    model.eval()\n",
        "    total_loss, correct, total = 0, 0, 0\n",
        "    all_preds, all_labels = [], []\n",
        "\n",
        "    loop = tqdm(val_loader, desc=\"Evaluating\", leave=False)\n",
        "    with torch.no_grad():\n",
        "        for images, metadata, labels in loop:\n",
        "            images, metadata, labels = images.to(device), metadata.to(device), labels.to(device)\n",
        "            outputs = model(images, metadata)\n",
        "            loss = criterion(outputs, labels)\n",
        "\n",
        "            total_loss += loss.item()\n",
        "            preds = outputs.argmax(1)\n",
        "            correct += (preds == labels).sum().item()\n",
        "            total += labels.size(0)\n",
        "\n",
        "            all_preds.extend(preds.cpu().numpy())\n",
        "            all_labels.extend(labels.cpu().numpy())\n",
        "\n",
        "    return total_loss / len(val_loader), correct / total, all_preds, all_labels"
      ]
    },
    {
      "cell_type": "code",
      "execution_count": null,
      "metadata": {
        "id": "KwEFCsGp6bKk"
      },
      "outputs": [],
      "source": [
        "# Paths\n",
        "train_csv = \"/content/drive/MyDrive/Final Year Project/Code/MetaBlock/Data/pad-ufes-20_parsed_folders.csv\"\n",
        "test_csv = \"/content/drive/MyDrive/Final Year Project/Code/MetaBlock/Data/pad-ufes-20_parsed_test.csv\"\n",
        "img_dir = \"/content/drive/MyDrive/Final Year Project/Data/PAD/imgs\"\n",
        "save_path = \"/content/drive/MyDrive/Final Year Project/Code/Hugging Face Models/WandB model/Model Paths/swin_tiny_multimodal_gated_fusion_50_epochs.pth\""
      ]
    },
    {
      "cell_type": "code",
      "execution_count": null,
      "metadata": {
        "id": "yJTmfRwe6bKk"
      },
      "outputs": [],
      "source": [
        "# Load CSVs\n",
        "train_df = pd.read_csv(train_csv)\n",
        "test_df = pd.read_csv(test_csv)"
      ]
    },
    {
      "cell_type": "code",
      "execution_count": null,
      "metadata": {
        "id": "_xgFrI0D6bKl"
      },
      "outputs": [],
      "source": [
        "# Define metadata columns\n",
        "exclude_cols = ['img_id', 'diagnostic', 'patient_id', 'lesion_id', 'folder', 'diagnostic_number', 'label_encoded']\n",
        "metadata_cols = [col for col in train_df.columns if col not in exclude_cols]"
      ]
    },
    {
      "cell_type": "code",
      "execution_count": null,
      "metadata": {
        "id": "EBGHprxK6bKl"
      },
      "outputs": [],
      "source": [
        "# Apply StandardScaler\n",
        "scaler = StandardScaler()\n",
        "train_df[metadata_cols] = scaler.fit_transform(train_df[metadata_cols])\n",
        "test_df[metadata_cols] = scaler.transform(test_df[metadata_cols])"
      ]
    },
    {
      "cell_type": "code",
      "execution_count": null,
      "metadata": {
        "id": "moRbgSHA6bKl"
      },
      "outputs": [],
      "source": [
        "# Device\n",
        "device = torch.device(\"cuda\" if torch.cuda.is_available() else \"cpu\")"
      ]
    },
    {
      "cell_type": "code",
      "execution_count": null,
      "metadata": {
        "id": "cuSiRe8w6bKl",
        "outputId": "e05afa48-b1dd-4ec3-87bf-e0cae4410b5f"
      },
      "outputs": [
        {
          "name": "stdout",
          "output_type": "stream",
          "text": [
            "Using metadata columns: ['smoke_False', 'smoke_True', 'drink_False', 'drink_True', 'background_father_POMERANIA', 'background_father_GERMANY', 'background_father_BRAZIL', 'background_father_NETHERLANDS', 'background_father_ITALY', 'background_father_POLAND', 'background_father_UNK', 'background_father_PORTUGAL', 'background_father_BRASIL', 'background_father_CZECH', 'background_father_AUSTRIA', 'background_father_SPAIN', 'background_father_ISRAEL', 'background_mother_POMERANIA', 'background_mother_ITALY', 'background_mother_GERMANY', 'background_mother_BRAZIL', 'background_mother_UNK', 'background_mother_POLAND', 'background_mother_NORWAY', 'background_mother_PORTUGAL', 'background_mother_NETHERLANDS', 'background_mother_FRANCE', 'background_mother_SPAIN', 'age', 'pesticide_False', 'pesticide_True', 'gender_FEMALE', 'gender_MALE', 'skin_cancer_history_True', 'skin_cancer_history_False', 'cancer_history_True', 'cancer_history_False', 'has_piped_water_True', 'has_piped_water_False', 'has_sewage_system_True', 'has_sewage_system_False', 'fitspatrick_3.0', 'fitspatrick_1.0', 'fitspatrick_2.0', 'fitspatrick_4.0', 'fitspatrick_5.0', 'fitspatrick_6.0', 'region_ARM', 'region_NECK', 'region_FACE', 'region_HAND', 'region_FOREARM', 'region_CHEST', 'region_NOSE', 'region_THIGH', 'region_SCALP', 'region_EAR', 'region_BACK', 'region_FOOT', 'region_ABDOMEN', 'region_LIP', 'diameter_1', 'diameter_2', 'itch_False', 'itch_True', 'itch_UNK', 'grew_False', 'grew_True', 'grew_UNK', 'hurt_False', 'hurt_True', 'hurt_UNK', 'changed_False', 'changed_True', 'changed_UNK', 'bleed_False', 'bleed_True', 'bleed_UNK', 'elevation_False', 'elevation_True', 'elevation_UNK', 'biopsed']\n",
            "Using metadata columns: ['smoke_False', 'smoke_True', 'drink_False', 'drink_True', 'background_father_POMERANIA', 'background_father_GERMANY', 'background_father_BRAZIL', 'background_father_NETHERLANDS', 'background_father_ITALY', 'background_father_POLAND', 'background_father_UNK', 'background_father_PORTUGAL', 'background_father_BRASIL', 'background_father_CZECH', 'background_father_AUSTRIA', 'background_father_SPAIN', 'background_father_ISRAEL', 'background_mother_POMERANIA', 'background_mother_ITALY', 'background_mother_GERMANY', 'background_mother_BRAZIL', 'background_mother_UNK', 'background_mother_POLAND', 'background_mother_NORWAY', 'background_mother_PORTUGAL', 'background_mother_NETHERLANDS', 'background_mother_FRANCE', 'background_mother_SPAIN', 'age', 'pesticide_False', 'pesticide_True', 'gender_FEMALE', 'gender_MALE', 'skin_cancer_history_True', 'skin_cancer_history_False', 'cancer_history_True', 'cancer_history_False', 'has_piped_water_True', 'has_piped_water_False', 'has_sewage_system_True', 'has_sewage_system_False', 'fitspatrick_3.0', 'fitspatrick_1.0', 'fitspatrick_2.0', 'fitspatrick_4.0', 'fitspatrick_5.0', 'fitspatrick_6.0', 'region_ARM', 'region_NECK', 'region_FACE', 'region_HAND', 'region_FOREARM', 'region_CHEST', 'region_NOSE', 'region_THIGH', 'region_SCALP', 'region_EAR', 'region_BACK', 'region_FOOT', 'region_ABDOMEN', 'region_LIP', 'diameter_1', 'diameter_2', 'itch_False', 'itch_True', 'itch_UNK', 'grew_False', 'grew_True', 'grew_UNK', 'hurt_False', 'hurt_True', 'hurt_UNK', 'changed_False', 'changed_True', 'changed_UNK', 'bleed_False', 'bleed_True', 'bleed_UNK', 'elevation_False', 'elevation_True', 'elevation_UNK', 'biopsed']\n"
          ]
        }
      ],
      "source": [
        "# Datasets and Loaders\n",
        "train_ds = PADUFESDataset(train_df, img_dir)\n",
        "test_ds = PADUFESDataset(test_df, img_dir, augment=False)"
      ]
    },
    {
      "cell_type": "code",
      "execution_count": null,
      "metadata": {
        "id": "zNMULNxn6bKl"
      },
      "outputs": [],
      "source": [
        "weights = make_weights_for_balanced_classes(train_ds)\n",
        "sampler = WeightedRandomSampler(weights, len(weights))"
      ]
    },
    {
      "cell_type": "code",
      "execution_count": null,
      "metadata": {
        "id": "zhf6_I3W6bKl"
      },
      "outputs": [],
      "source": [
        "train_loader = DataLoader(train_ds, batch_size=12, sampler=sampler)\n",
        "test_loader = DataLoader(test_ds, batch_size=12)"
      ]
    },
    {
      "cell_type": "code",
      "execution_count": null,
      "metadata": {
        "id": "xpbiyI6i6bKl",
        "outputId": "d5841f59-8e45-4c02-830b-ac0fd7b87c10",
        "colab": {
          "referenced_widgets": [
            "c02d2e9680a1469d8e18a69d4bd820aa",
            "230b24eed10145d1aeeffc54074ba06f"
          ]
        }
      },
      "outputs": [
        {
          "name": "stderr",
          "output_type": "stream",
          "text": [
            "/usr/local/lib/python3.11/dist-packages/huggingface_hub/utils/_auth.py:94: UserWarning: \n",
            "The secret `HF_TOKEN` does not exist in your Colab secrets.\n",
            "To authenticate with the Hugging Face Hub, create a token in your settings tab (https://huggingface.co/settings/tokens), set it as secret in your Google Colab and restart your session.\n",
            "You will be able to reuse this secret in all of your notebooks.\n",
            "Please note that authentication is recommended but still optional to access public models or datasets.\n",
            "  warnings.warn(\n"
          ]
        },
        {
          "data": {
            "application/vnd.jupyter.widget-view+json": {
              "model_id": "c02d2e9680a1469d8e18a69d4bd820aa",
              "version_major": 2,
              "version_minor": 0
            },
            "text/plain": [
              "config.json:   0%|          | 0.00/69.9k [00:00<?, ?B/s]"
            ]
          },
          "metadata": {},
          "output_type": "display_data"
        },
        {
          "data": {
            "application/vnd.jupyter.widget-view+json": {
              "model_id": "230b24eed10145d1aeeffc54074ba06f",
              "version_major": 2,
              "version_minor": 0
            },
            "text/plain": [
              "pytorch_model.bin:   0%|          | 0.00/113M [00:00<?, ?B/s]"
            ]
          },
          "metadata": {},
          "output_type": "display_data"
        }
      ],
      "source": [
        "# Model\n",
        "model = MultiModalSwinClassifier(\n",
        "    num_classes=len(train_ds.label_dict),\n",
        "    metadata_dim=len(train_ds.metadata_cols)\n",
        ").to(device)"
      ]
    },
    {
      "cell_type": "code",
      "execution_count": null,
      "metadata": {
        "id": "D9CF5t6m6bKl"
      },
      "outputs": [],
      "source": [
        "# Training setup\n",
        "criterion = nn.CrossEntropyLoss()\n",
        "optimizer = torch.optim.Adam(model.parameters(), lr=1e-4)\n",
        "scheduler = ReduceLROnPlateau(optimizer, mode='max', factor=0.5, patience=2, verbose=True)\n",
        "\n",
        "epochs = 50\n",
        "patience = 5\n",
        "best_val_acc = 0.0\n",
        "epochs_no_improve = 0\n",
        "\n",
        "# Track metrics\n",
        "train_losses = []\n",
        "val_losses = []\n",
        "\n",
        "train_accuracies = []\n",
        "val_accuracies = []\n",
        "\n",
        "lrs = []"
      ]
    },
    {
      "cell_type": "markdown",
      "metadata": {
        "id": "R-L89nxH6bKm"
      },
      "source": [
        "# **Training Model**"
      ]
    },
    {
      "cell_type": "code",
      "execution_count": null,
      "metadata": {
        "id": "2oWgQKSy6bKm",
        "outputId": "1d1c1d97-3d70-4050-f591-683ad2c8b5ea"
      },
      "outputs": [
        {
          "name": "stderr",
          "output_type": "stream",
          "text": []
        },
        {
          "name": "stdout",
          "output_type": "stream",
          "text": [
            "Epoch 01 | Train Loss: 1.3139 | Val Loss: 0.9965 | Train Acc: 0.4580 | Val Acc: 0.5979\n",
            "Saved best model to /content/drive/MyDrive/Final Year Project/Code/Hugging Face Models/WandB model/Model Paths/swin_tiny_multimodal_gated_fusion_50_epochs.pth\n"
          ]
        },
        {
          "name": "stderr",
          "output_type": "stream",
          "text": []
        },
        {
          "name": "stdout",
          "output_type": "stream",
          "text": [
            "Epoch 02 | Train Loss: 0.8446 | Val Loss: 0.9098 | Train Acc: 0.6757 | Val Acc: 0.6345\n",
            "Saved best model to /content/drive/MyDrive/Final Year Project/Code/Hugging Face Models/WandB model/Model Paths/swin_tiny_multimodal_gated_fusion_50_epochs.pth\n"
          ]
        },
        {
          "name": "stderr",
          "output_type": "stream",
          "text": []
        },
        {
          "name": "stdout",
          "output_type": "stream",
          "text": [
            "Epoch 03 | Train Loss: 0.6397 | Val Loss: 0.9277 | Train Acc: 0.7640 | Val Acc: 0.6710\n",
            "Saved best model to /content/drive/MyDrive/Final Year Project/Code/Hugging Face Models/WandB model/Model Paths/swin_tiny_multimodal_gated_fusion_50_epochs.pth\n"
          ]
        },
        {
          "name": "stderr",
          "output_type": "stream",
          "text": []
        },
        {
          "name": "stdout",
          "output_type": "stream",
          "text": [
            "Epoch 04 | Train Loss: 0.5572 | Val Loss: 0.7673 | Train Acc: 0.7817 | Val Acc: 0.7415\n",
            "Saved best model to /content/drive/MyDrive/Final Year Project/Code/Hugging Face Models/WandB model/Model Paths/swin_tiny_multimodal_gated_fusion_50_epochs.pth\n"
          ]
        },
        {
          "name": "stderr",
          "output_type": "stream",
          "text": []
        },
        {
          "name": "stdout",
          "output_type": "stream",
          "text": [
            "Epoch 05 | Train Loss: 0.4511 | Val Loss: 0.6576 | Train Acc: 0.8392 | Val Acc: 0.7546\n",
            "Saved best model to /content/drive/MyDrive/Final Year Project/Code/Hugging Face Models/WandB model/Model Paths/swin_tiny_multimodal_gated_fusion_50_epochs.pth\n"
          ]
        },
        {
          "name": "stderr",
          "output_type": "stream",
          "text": []
        },
        {
          "name": "stdout",
          "output_type": "stream",
          "text": [
            "Epoch 06 | Train Loss: 0.4079 | Val Loss: 0.8166 | Train Acc: 0.8407 | Val Acc: 0.7728\n",
            "Saved best model to /content/drive/MyDrive/Final Year Project/Code/Hugging Face Models/WandB model/Model Paths/swin_tiny_multimodal_gated_fusion_50_epochs.pth\n"
          ]
        },
        {
          "name": "stderr",
          "output_type": "stream",
          "text": []
        },
        {
          "name": "stdout",
          "output_type": "stream",
          "text": [
            "Epoch 07 | Train Loss: 0.3740 | Val Loss: 0.8196 | Train Acc: 0.8684 | Val Acc: 0.6893\n"
          ]
        },
        {
          "name": "stderr",
          "output_type": "stream",
          "text": []
        },
        {
          "name": "stdout",
          "output_type": "stream",
          "text": [
            "Epoch 08 | Train Loss: 0.3150 | Val Loss: 0.6956 | Train Acc: 0.8982 | Val Acc: 0.7546\n"
          ]
        },
        {
          "name": "stderr",
          "output_type": "stream",
          "text": []
        },
        {
          "name": "stdout",
          "output_type": "stream",
          "text": [
            "Epoch 09 | Train Loss: 0.3146 | Val Loss: 0.6953 | Train Acc: 0.8898 | Val Acc: 0.7833\n",
            "Saved best model to /content/drive/MyDrive/Final Year Project/Code/Hugging Face Models/WandB model/Model Paths/swin_tiny_multimodal_gated_fusion_50_epochs.pth\n"
          ]
        },
        {
          "name": "stderr",
          "output_type": "stream",
          "text": []
        },
        {
          "name": "stdout",
          "output_type": "stream",
          "text": [
            "Epoch 10 | Train Loss: 0.2773 | Val Loss: 0.6708 | Train Acc: 0.9018 | Val Acc: 0.7807\n"
          ]
        },
        {
          "name": "stderr",
          "output_type": "stream",
          "text": []
        },
        {
          "name": "stdout",
          "output_type": "stream",
          "text": [
            "Epoch 11 | Train Loss: 0.2288 | Val Loss: 0.8761 | Train Acc: 0.9196 | Val Acc: 0.7728\n"
          ]
        },
        {
          "name": "stderr",
          "output_type": "stream",
          "text": []
        },
        {
          "name": "stdout",
          "output_type": "stream",
          "text": [
            "Epoch 12 | Train Loss: 0.2495 | Val Loss: 0.8990 | Train Acc: 0.9039 | Val Acc: 0.7467\n"
          ]
        },
        {
          "name": "stderr",
          "output_type": "stream",
          "text": []
        },
        {
          "name": "stdout",
          "output_type": "stream",
          "text": [
            "Epoch 13 | Train Loss: 0.1604 | Val Loss: 0.7534 | Train Acc: 0.9478 | Val Acc: 0.8042\n",
            "Saved best model to /content/drive/MyDrive/Final Year Project/Code/Hugging Face Models/WandB model/Model Paths/swin_tiny_multimodal_gated_fusion_50_epochs.pth\n"
          ]
        },
        {
          "name": "stderr",
          "output_type": "stream",
          "text": []
        },
        {
          "name": "stdout",
          "output_type": "stream",
          "text": [
            "Epoch 14 | Train Loss: 0.1288 | Val Loss: 0.6793 | Train Acc: 0.9582 | Val Acc: 0.8146\n",
            "Saved best model to /content/drive/MyDrive/Final Year Project/Code/Hugging Face Models/WandB model/Model Paths/swin_tiny_multimodal_gated_fusion_50_epochs.pth\n"
          ]
        },
        {
          "name": "stderr",
          "output_type": "stream",
          "text": []
        },
        {
          "name": "stdout",
          "output_type": "stream",
          "text": [
            "Epoch 15 | Train Loss: 0.1062 | Val Loss: 0.7508 | Train Acc: 0.9681 | Val Acc: 0.8172\n",
            "Saved best model to /content/drive/MyDrive/Final Year Project/Code/Hugging Face Models/WandB model/Model Paths/swin_tiny_multimodal_gated_fusion_50_epochs.pth\n"
          ]
        },
        {
          "name": "stderr",
          "output_type": "stream",
          "text": []
        },
        {
          "name": "stdout",
          "output_type": "stream",
          "text": [
            "Epoch 16 | Train Loss: 0.0913 | Val Loss: 0.8206 | Train Acc: 0.9744 | Val Acc: 0.8146\n"
          ]
        },
        {
          "name": "stderr",
          "output_type": "stream",
          "text": []
        },
        {
          "name": "stdout",
          "output_type": "stream",
          "text": [
            "Epoch 17 | Train Loss: 0.0919 | Val Loss: 0.8211 | Train Acc: 0.9713 | Val Acc: 0.8016\n"
          ]
        },
        {
          "name": "stderr",
          "output_type": "stream",
          "text": []
        },
        {
          "name": "stdout",
          "output_type": "stream",
          "text": [
            "Epoch 18 | Train Loss: 0.0861 | Val Loss: 0.7725 | Train Acc: 0.9697 | Val Acc: 0.8198\n",
            "Saved best model to /content/drive/MyDrive/Final Year Project/Code/Hugging Face Models/WandB model/Model Paths/swin_tiny_multimodal_gated_fusion_50_epochs.pth\n"
          ]
        },
        {
          "name": "stderr",
          "output_type": "stream",
          "text": []
        },
        {
          "name": "stdout",
          "output_type": "stream",
          "text": [
            "Epoch 19 | Train Loss: 0.0422 | Val Loss: 0.9019 | Train Acc: 0.9875 | Val Acc: 0.8120\n"
          ]
        },
        {
          "name": "stderr",
          "output_type": "stream",
          "text": []
        },
        {
          "name": "stdout",
          "output_type": "stream",
          "text": [
            "Epoch 20 | Train Loss: 0.0706 | Val Loss: 0.9049 | Train Acc: 0.9749 | Val Acc: 0.7885\n"
          ]
        },
        {
          "name": "stderr",
          "output_type": "stream",
          "text": []
        },
        {
          "name": "stdout",
          "output_type": "stream",
          "text": [
            "Epoch 21 | Train Loss: 0.0692 | Val Loss: 0.8922 | Train Acc: 0.9796 | Val Acc: 0.7937\n"
          ]
        },
        {
          "name": "stderr",
          "output_type": "stream",
          "text": []
        },
        {
          "name": "stdout",
          "output_type": "stream",
          "text": [
            "Epoch 22 | Train Loss: 0.0522 | Val Loss: 0.9139 | Train Acc: 0.9869 | Val Acc: 0.8120\n"
          ]
        },
        {
          "name": "stderr",
          "output_type": "stream",
          "text": [
            "                                                           "
          ]
        },
        {
          "name": "stdout",
          "output_type": "stream",
          "text": [
            "Epoch 23 | Train Loss: 0.0468 | Val Loss: 0.9386 | Train Acc: 0.9880 | Val Acc: 0.8068\n",
            "Early stopping triggered at epoch 23\n"
          ]
        },
        {
          "name": "stderr",
          "output_type": "stream",
          "text": [
            "\r"
          ]
        }
      ],
      "source": [
        "# Training loop\n",
        "for epoch in range(epochs):\n",
        "    train_loss, train_acc = train(model, train_loader, criterion, optimizer, device)\n",
        "    val_loss, val_acc, val_preds, val_labels = evaluate(model, test_loader, criterion, device)\n",
        "\n",
        "    # Logging\n",
        "    train_losses.append(train_loss)\n",
        "    val_losses.append(val_loss)\n",
        "    train_accuracies.append(train_acc)\n",
        "    val_accuracies.append(val_acc)\n",
        "    lrs.append(optimizer.param_groups[0]['lr'])\n",
        "\n",
        "    print(f\"Epoch {epoch+1:02d} | Train Loss: {train_loss:.4f} | Val Loss: {val_loss:.4f} | Train Acc: {train_acc:.4f} | Val Acc: {val_acc:.4f}\")\n",
        "\n",
        "    scheduler.step(val_acc)\n",
        "\n",
        "    # Early stopping\n",
        "    if val_acc > best_val_acc:\n",
        "        best_val_acc = val_acc\n",
        "        epochs_no_improve = 0\n",
        "        torch.save(model.state_dict(), save_path)\n",
        "        print(f\"Saved best model to {save_path}\")\n",
        "    else:\n",
        "        epochs_no_improve += 1\n",
        "        if epochs_no_improve >= patience:\n",
        "            print(f\"Early stopping triggered at epoch {epoch+1}\")\n",
        "            break"
      ]
    },
    {
      "cell_type": "markdown",
      "metadata": {
        "id": "4DHe1cSQ6bKm"
      },
      "source": [
        "# **Evaluation**"
      ]
    },
    {
      "cell_type": "code",
      "execution_count": null,
      "metadata": {
        "id": "YcWs38A16bKm"
      },
      "outputs": [],
      "source": [
        "class_names = [label for label, idx in sorted(train_ds.label_dict.items(), key=lambda x: x[1])]"
      ]
    },
    {
      "cell_type": "code",
      "execution_count": null,
      "metadata": {
        "id": "brp0HXL66bKm",
        "outputId": "dca917d6-6986-43a1-bc6e-2ce5be7bce0a"
      },
      "outputs": [
        {
          "name": "stdout",
          "output_type": "stream",
          "text": [
            "\n",
            "Classification Report:\n",
            "               precision    recall  f1-score   support\n",
            "\n",
            "         ACK       0.87      0.90      0.89       122\n",
            "         BCC       0.83      0.88      0.85       141\n",
            "         MEL       0.70      0.78      0.74         9\n",
            "         NEV       0.77      0.82      0.80        40\n",
            "         SCC       0.35      0.28      0.31        32\n",
            "         SEK       0.93      0.67      0.78        39\n",
            "\n",
            "    accuracy                           0.81       383\n",
            "   macro avg       0.74      0.72      0.73       383\n",
            "weighted avg       0.80      0.81      0.80       383\n",
            "\n"
          ]
        },
        {
          "data": {
            "image/png": "[encoded data removed]",
            "text/plain": [
              "<Figure size 1000x800 with 2 Axes>"
            ]
          },
          "metadata": {},
          "output_type": "display_data"
        }
      ],
      "source": [
        "# Ensure labels are integers\n",
        "val_preds = [int(p) for p in val_preds]\n",
        "val_labels = [int(l) for l in val_labels]\n",
        "\n",
        "# Classification report\n",
        "report = classification_report(val_labels, val_preds, target_names=class_names)\n",
        "print(\"\\nClassification Report:\\n\", report)\n",
        "\n",
        "# Confusion matrix\n",
        "cm = confusion_matrix(val_labels, val_preds)\n",
        "\n",
        "# Plot confusion matrix\n",
        "plt.figure(figsize=(10, 8))\n",
        "sns.heatmap(cm, annot=True, fmt=\"d\", cmap=\"Blues\", xticklabels=class_names, yticklabels=class_names)\n",
        "plt.xlabel(\"Predicted Label\")\n",
        "plt.ylabel(\"True Label\")\n",
        "plt.title(\"Confusion Matrix\")\n",
        "plt.tight_layout()\n",
        "plt.show()"
      ]
    },
    {
      "cell_type": "code",
      "execution_count": null,
      "metadata": {
        "id": "7hDvIBP16bKm",
        "outputId": "dc826793-ac53-4b52-dabf-66568841a9b2"
      },
      "outputs": [
        {
          "data": {
            "image/png": "[encoded data removed]",
            "text/plain": [
              "<Figure size 1400x400 with 3 Axes>"
            ]
          },
          "metadata": {},
          "output_type": "display_data"
        }
      ],
      "source": [
        "epochs_ran = len(train_losses)\n",
        "x = list(range(1, epochs_ran + 1))\n",
        "\n",
        "plt.figure(figsize=(14, 4))\n",
        "\n",
        "# Loss\n",
        "plt.subplot(1, 3, 1)\n",
        "plt.plot(x, train_losses, label=\"Train Loss\")\n",
        "plt.plot(x, val_losses, label=\"Val Loss\")\n",
        "plt.xlabel(\"Epoch\")\n",
        "plt.ylabel(\"Loss\")\n",
        "plt.title(\"Loss\")\n",
        "plt.legend()\n",
        "\n",
        "# Accuracy\n",
        "plt.subplot(1, 3, 2)\n",
        "plt.plot(x, train_accuracies, label=\"Train Acc\")\n",
        "plt.plot(x, val_accuracies, label=\"Val Acc\")\n",
        "plt.xlabel(\"Epoch\")\n",
        "plt.ylabel(\"Accuracy\")\n",
        "plt.title(\"Accuracy\")\n",
        "plt.legend()\n",
        "\n",
        "# Learning Rate\n",
        "plt.subplot(1, 3, 3)\n",
        "plt.plot(x, lrs, label=\"LR\", color=\"purple\")\n",
        "plt.xlabel(\"Epoch\")\n",
        "plt.ylabel(\"Learning Rate\")\n",
        "plt.title(\"LR Schedule\")\n",
        "plt.legend()\n",
        "\n",
        "plt.tight_layout()\n",
        "plt.show()"
      ]
    }
  ],
  "metadata": {
    "colab": {
      "provenance": [],
      "include_colab_link": true
    }
  },
  "nbformat": 4,
  "nbformat_minor": 0
}