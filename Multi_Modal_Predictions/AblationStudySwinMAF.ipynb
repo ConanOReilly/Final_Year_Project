{
  "cells": [
    {
      "cell_type": "markdown",
      "metadata": {
        "id": "view-in-github",
        "colab_type": "text"
      },
      "source": [
        "<a href=\"https://colab.research.google.com/github/ConanOReilly/Final_Year_Project/blob/main/Multi_Modal_Predictions/AblationStudySwinMAF_cleaned.ipynb\" target=\"_parent\"><img src=\"https://colab.research.google.com/assets/colab-badge.svg\" alt=\"Open In Colab\"/></a>"
      ]
    },
    {
      "cell_type": "markdown",
      "metadata": {
        "id": "r2nxGhJ5KUnH"
      },
      "source": [
        "# **Ablation Study for Swin-Tiny MAF Model**\n",
        "\n",
        "To test the validaty, and possibly enhance model performance, an ablation study will be conducted to compare to the current model.\n",
        "\n",
        "The study will include:\n",
        "\n",
        "\n",
        "*   Simple Concatenation\n",
        "*   UnFrozen\n",
        "*   Image Only\n",
        "*   Metadata Only\n",
        "*   Shallow MLP\n",
        "*   Deep MLP"
      ]
    },
    {
      "cell_type": "code",
      "execution_count": null,
      "metadata": {
        "id": "4DtVX2DyKUnU",
        "outputId": "05b8c445-4190-4eb1-a894-ea71a343936d"
      },
      "outputs": [
        {
          "name": "stdout",
          "output_type": "stream",
          "text": [
            "Mounted at /content/drive\n"
          ]
        }
      ],
      "source": [
        "from google.colab import drive\n",
        "drive.mount('/content/drive')"
      ]
    },
    {
      "cell_type": "markdown",
      "metadata": {
        "id": "3p2nCw2FKUnZ"
      },
      "source": [
        "# **Libraries**"
      ]
    },
    {
      "cell_type": "code",
      "execution_count": null,
      "metadata": {
        "id": "ac74__gCKUnb"
      },
      "outputs": [],
      "source": [
        "!pip install wandb -q"
      ]
    },
    {
      "cell_type": "code",
      "execution_count": null,
      "metadata": {
        "id": "aSfB8-mHKUnc"
      },
      "outputs": [],
      "source": [
        "import torch\n",
        "from torch import nn\n",
        "from torch.utils.data import Dataset, DataLoader, WeightedRandomSampler\n",
        "from transformers import Swinv2Model\n",
        "from torchvision import transforms\n",
        "from PIL import Image, UnidentifiedImageError\n",
        "import os\n",
        "import pandas as pd\n",
        "import random\n",
        "from tqdm import tqdm\n",
        "from sklearn.metrics import classification_report, confusion_matrix, precision_recall_fscore_support\n",
        "import matplotlib.pyplot as plt\n",
        "import seaborn as sns\n",
        "from sklearn.preprocessing import StandardScaler\n",
        "from torch.optim.lr_scheduler import ReduceLROnPlateau\n",
        "import torch.nn.functional as F\n",
        "import numpy as np\n",
        "import wandb\n",
        "from datetime import datetime"
      ]
    },
    {
      "cell_type": "markdown",
      "metadata": {
        "id": "QPXfyFvpKUnd"
      },
      "source": [
        "# **Defining Dataset, Classes, Weights, and Focal Loss**"
      ]
    },
    {
      "cell_type": "code",
      "execution_count": null,
      "metadata": {
        "id": "MTV9JtShKUnf",
        "outputId": "fc427784-6572-470f-801c-3af8a5341f14"
      },
      "outputs": [
        {
          "name": "stderr",
          "output_type": "stream",
          "text": [
            "\u001b[34m\u001b[1mwandb\u001b[0m: \u001b[33mWARNING\u001b[0m Calling wandb.login() after wandb.init() has no effect.\n"
          ]
        },
        {
          "data": {
            "text/html": [],
            "text/plain": [
              "<IPython.core.display.HTML object>"
            ]
          },
          "metadata": {},
          "output_type": "display_data"
        },
        {
          "data": {
            "text/html": [
              " View run <strong style=\"color:#cdcd00\">attention_frozen_focal_multi_20250418_175452</strong> at: <a href='https://wandb.ai/conanoreilly-technological-university-dublin/Swin-Tiny-MAF-Ablation-Study/runs/qiq7z64x' target=\"_blank\">https://wandb.ai/conanoreilly-technological-university-dublin/Swin-Tiny-MAF-Ablation-Study/runs/qiq7z64x</a><br> View project at: <a href='https://wandb.ai/conanoreilly-technological-university-dublin/Swin-Tiny-MAF-Ablation-Study' target=\"_blank\">https://wandb.ai/conanoreilly-technological-university-dublin/Swin-Tiny-MAF-Ablation-Study</a><br>Synced 5 W&B file(s), 0 media file(s), 0 artifact file(s) and 0 other file(s)"
            ],
            "text/plain": [
              "<IPython.core.display.HTML object>"
            ]
          },
          "metadata": {},
          "output_type": "display_data"
        },
        {
          "data": {
            "text/html": [
              "Find logs at: <code>./wandb/run-20250418_175452-qiq7z64x/logs</code>"
            ],
            "text/plain": [
              "<IPython.core.display.HTML object>"
            ]
          },
          "metadata": {},
          "output_type": "display_data"
        },
        {
          "data": {
            "text/html": [
              "Tracking run with wandb version 0.19.9"
            ],
            "text/plain": [
              "<IPython.core.display.HTML object>"
            ]
          },
          "metadata": {},
          "output_type": "display_data"
        },
        {
          "data": {
            "text/html": [
              "Run data is saved locally in <code>/content/wandb/run-20250418_175718-em6htsy6</code>"
            ],
            "text/plain": [
              "<IPython.core.display.HTML object>"
            ]
          },
          "metadata": {},
          "output_type": "display_data"
        },
        {
          "data": {
            "text/html": [
              "Syncing run <strong><a href='https://wandb.ai/conanoreilly-technological-university-dublin/Swin-Tiny-MAF-Ablation-Study/runs/em6htsy6' target=\"_blank\">attention_frozen_focal_multi_shallow_20250418_175718</a></strong> to <a href='https://wandb.ai/conanoreilly-technological-university-dublin/Swin-Tiny-MAF-Ablation-Study' target=\"_blank\">Weights & Biases</a> (<a href='https://wandb.me/developer-guide' target=\"_blank\">docs</a>)<br>"
            ],
            "text/plain": [
              "<IPython.core.display.HTML object>"
            ]
          },
          "metadata": {},
          "output_type": "display_data"
        },
        {
          "data": {
            "text/html": [
              " View project at <a href='https://wandb.ai/conanoreilly-technological-university-dublin/Swin-Tiny-MAF-Ablation-Study' target=\"_blank\">https://wandb.ai/conanoreilly-technological-university-dublin/Swin-Tiny-MAF-Ablation-Study</a>"
            ],
            "text/plain": [
              "<IPython.core.display.HTML object>"
            ]
          },
          "metadata": {},
          "output_type": "display_data"
        },
        {
          "data": {
            "text/html": [
              " View run at <a href='https://wandb.ai/conanoreilly-technological-university-dublin/Swin-Tiny-MAF-Ablation-Study/runs/em6htsy6' target=\"_blank\">https://wandb.ai/conanoreilly-technological-university-dublin/Swin-Tiny-MAF-Ablation-Study/runs/em6htsy6</a>"
            ],
            "text/plain": [
              "<IPython.core.display.HTML object>"
            ]
          },
          "metadata": {},
          "output_type": "display_data"
        }
      ],
      "source": [
        "class Args:\n",
        "    fusion = 'attention'     # options: attention, gated, concat\n",
        "    freeze = 'frozen'        # options: frozen, partial, unfrozen\n",
        "    loss = 'focal'           # options: focal, crossentropy\n",
        "    input = 'multi'          # options: multi, image, meta\n",
        "    mlp_depth = 'shallow'       # deep, shallow\n",
        "    epochs = 25\n",
        "    save_path = '/content/drive/MyDrive/Final Year Project/Code/Ablation Study/Data/swin_tiny_experiment_shallow_mlp.pth'\n",
        "    use_wandb = True\n",
        "    wandb_project = 'Swin-Tiny-MAF-Ablation-Study'\n",
        "\n",
        "args = Args()\n",
        "\n",
        "if args.use_wandb:\n",
        "    wandb.login()\n",
        "    run_name = f\"{args.fusion}_{args.freeze}_{args.loss}_{args.input}_{args.mlp_depth}_{datetime.now().strftime('%Y%m%d_%H%M%S')}\"\n",
        "    wandb.init(\n",
        "        project=args.wandb_project,\n",
        "        config={\n",
        "            \"fusion\": args.fusion,\n",
        "            \"freeze\": args.freeze,\n",
        "            \"loss\": args.loss,\n",
        "            \"input\": args.input,\n",
        "            \"epochs\": args.epochs,\n",
        "            \"mlp_depth\": args.mlp_depth\n",
        "        },\n",
        "        name=run_name\n",
        "    )"
      ]
    },
    {
      "cell_type": "code",
      "execution_count": null,
      "metadata": {
        "id": "9Gaddi7AKUng"
      },
      "outputs": [],
      "source": [
        "# Dataset\n",
        "class PADUFESDataset(Dataset):\n",
        "    def __init__(self, dataframe, img_dir, augment=True, input_type='multi'):\n",
        "        self.skin_df = dataframe\n",
        "        self.img_dir = img_dir\n",
        "        self.augment = augment\n",
        "        self.input_type = input_type\n",
        "\n",
        "        self.label_dict = {label: idx for idx, label in enumerate(sorted(self.skin_df['diagnostic'].unique()))}\n",
        "        self.skin_df['label_encoded'] = self.skin_df['diagnostic'].map(self.label_dict)\n",
        "\n",
        "        exclude_cols = ['img_id', 'diagnostic', 'patient_id', 'lesion_id', 'folder', 'diagnostic_number', 'label_encoded']\n",
        "        self.metadata_cols = [col for col in self.skin_df.columns if col not in exclude_cols]\n",
        "        self.skin_df[self.metadata_cols] = self.skin_df[self.metadata_cols].fillna(0)\n",
        "\n",
        "        self.transform = transforms.Compose([\n",
        "            transforms.Resize((256, 256)),\n",
        "            transforms.RandomRotation(20),\n",
        "            transforms.RandomHorizontalFlip(),\n",
        "            transforms.RandomVerticalFlip(),\n",
        "            transforms.ToTensor(),\n",
        "            transforms.Normalize(mean=[0.485, 0.456, 0.406], std=[0.229, 0.224, 0.225]),\n",
        "        ])\n",
        "\n",
        "        self.base_transform = transforms.Compose([\n",
        "            transforms.Resize((256, 256)),\n",
        "            transforms.ToTensor(),\n",
        "            transforms.Normalize(mean=[0.485, 0.456, 0.406], std=[0.229, 0.224, 0.225]),\n",
        "        ])\n",
        "\n",
        "    def __len__(self):\n",
        "        return len(self.skin_df)\n",
        "\n",
        "    def __getitem__(self, idx):\n",
        "        row = self.skin_df.iloc[idx]\n",
        "        img_path = os.path.join(self.img_dir, row['img_id'])\n",
        "        image = Image.open(img_path).convert(\"RGB\")\n",
        "        image = self.transform(image) if self.augment else self.base_transform(image)\n",
        "        metadata = torch.tensor(row[self.metadata_cols].astype(float).values, dtype=torch.float32)\n",
        "        label = row['label_encoded']\n",
        "\n",
        "        if args.input == 'image':\n",
        "            metadata = torch.zeros_like(metadata)\n",
        "        elif args.input == 'meta':\n",
        "            image = torch.zeros_like(image)\n",
        "\n",
        "        return image, metadata, label"
      ]
    },
    {
      "cell_type": "code",
      "execution_count": null,
      "metadata": {
        "id": "a10EKoZyKUni"
      },
      "outputs": [],
      "source": [
        "# Balanced sampling\n",
        "def make_weights_for_balanced_classes(dataset):\n",
        "    class_counts = dataset.skin_df['label_encoded'].value_counts()\n",
        "    num_samples = len(dataset)\n",
        "    class_weights = {i: num_samples / class_counts[i] for i in range(len(class_counts))}\n",
        "    weights = [class_weights[label] for label in dataset.skin_df['label_encoded']]\n",
        "    return weights"
      ]
    },
    {
      "cell_type": "code",
      "execution_count": null,
      "metadata": {
        "id": "IRtfOTHiKUnk"
      },
      "outputs": [],
      "source": [
        "# Modality Attention Fusion\n",
        "class ModalityAttentionFusion(nn.Module):\n",
        "    def __init__(self, dim_img, dim_meta):\n",
        "        super().__init__()\n",
        "        self.attn_layer = nn.Sequential(\n",
        "            nn.Linear(dim_img + dim_meta, 128),\n",
        "            nn.ReLU(),\n",
        "            nn.Linear(128, 2),\n",
        "            nn.Softmax(dim=1)\n",
        "        )\n",
        "\n",
        "    def forward(self, img_feat, meta_feat):\n",
        "        combined = torch.cat([img_feat, meta_feat], dim=1)\n",
        "        attn_weights = self.attn_layer(combined)\n",
        "        img_alpha = attn_weights[:, 0].unsqueeze(1)\n",
        "        meta_alpha = attn_weights[:, 1].unsqueeze(1)\n",
        "        return img_alpha * img_feat + meta_alpha * meta_feat"
      ]
    },
    {
      "cell_type": "code",
      "execution_count": null,
      "metadata": {
        "id": "4yigkiZ6KUnl"
      },
      "outputs": [],
      "source": [
        "# Gated fusion\n",
        "class GatedFusion(nn.Module):\n",
        "    def __init__(self, dim_img, dim_meta):\n",
        "        super().__init__()\n",
        "        self.gate = nn.Sequential(\n",
        "            nn.Linear(dim_img + dim_meta, 1),\n",
        "            nn.Sigmoid()\n",
        "        )\n",
        "\n",
        "    def forward(self, img_feat, meta_feat):\n",
        "        combined = torch.cat([img_feat, meta_feat], dim=1)\n",
        "        alpha = self.gate(combined)\n",
        "        return alpha * img_feat + (1 - alpha) * meta_feat"
      ]
    },
    {
      "cell_type": "code",
      "execution_count": null,
      "metadata": {
        "id": "pXhRQPhyKUnn"
      },
      "outputs": [],
      "source": [
        "# Model Builder\n",
        "def get_model(fusion_type, freeze_mode, num_classes, metadata_dim, input_type='multi', mlp_depth='deep'):\n",
        "    class MultiModalSwinClassifier(nn.Module):\n",
        "        def __init__(self):\n",
        "            super().__init__()\n",
        "            self.image_model = Swinv2Model.from_pretrained(\"microsoft/swinv2-tiny-patch4-window8-256\")\n",
        "            self.image_fc = nn.Sequential(\n",
        "                nn.Linear(self.image_model.config.hidden_size, 128),\n",
        "                nn.ReLU(),\n",
        "                nn.Dropout(0.3)\n",
        "            )\n",
        "\n",
        "            if mlp_depth == 'shallow':\n",
        "                self.metadata_fc = nn.Sequential(\n",
        "                    nn.Linear(metadata_dim, 128),\n",
        "                    nn.ReLU()\n",
        "                )\n",
        "            else:\n",
        "                self.metadata_fc = nn.Sequential(\n",
        "                    nn.Linear(metadata_dim, 64),\n",
        "                    nn.ReLU(),\n",
        "                    nn.LayerNorm(64),\n",
        "                    nn.Dropout(0.3),\n",
        "                    nn.Linear(64, 64),\n",
        "                    nn.ReLU(),\n",
        "                    nn.Linear(64, 128)\n",
        "                )\n",
        "\n",
        "            if fusion_type == 'attention':\n",
        "                self.fusion = ModalityAttentionFusion(128, 128)\n",
        "            elif fusion_type == 'gated':\n",
        "                self.fusion = GatedFusion(128, 128)\n",
        "            else:\n",
        "                self.fusion = None\n",
        "                self.classifier = nn.Sequential(\n",
        "                    nn.Linear(256, 128), nn.ReLU(), nn.Dropout(0.3), nn.Linear(128, num_classes))\n",
        "\n",
        "            if fusion_type != 'concat':\n",
        "                self.classifier = nn.Linear(128, num_classes)\n",
        "\n",
        "            self.input_type = input_type\n",
        "\n",
        "        def forward(self, image, metadata):\n",
        "            if self.input_type != 'meta':\n",
        "                img_feat = self.image_fc(self.image_model(image).pooler_output)\n",
        "            else:\n",
        "                img_feat = torch.zeros(metadata.size(0), 128).to(metadata.device)\n",
        "\n",
        "            if self.input_type != 'image':\n",
        "                meta_feat = self.metadata_fc(metadata)\n",
        "            else:\n",
        "                meta_feat = torch.zeros(image.size(0), 128).to(image.device)\n",
        "\n",
        "            if self.fusion:\n",
        "                fused = self.fusion(img_feat, meta_feat)\n",
        "            else:\n",
        "                fused = torch.cat([img_feat, meta_feat], dim=1)\n",
        "\n",
        "            return self.classifier(fused)\n",
        "\n",
        "    model = MultiModalSwinClassifier()\n",
        "    if freeze_mode == 'frozen':\n",
        "        for param in model.image_model.parameters(): param.requires_grad = False\n",
        "    elif freeze_mode == 'partial':\n",
        "        for param in model.image_model.parameters(): param.requires_grad = False\n",
        "        for name, param in model.image_model.named_parameters():\n",
        "            if \"layers.10\" in name or \"layers.11\" in name:\n",
        "                param.requires_grad = True\n",
        "    else:\n",
        "        for param in model.image_model.parameters(): param.requires_grad = True\n",
        "\n",
        "    model.device = torch.device(\"cuda\" if torch.cuda.is_available() else \"cpu\")\n",
        "    return model.to(model.device)"
      ]
    },
    {
      "cell_type": "code",
      "execution_count": null,
      "metadata": {
        "id": "iYvZp2BaKUnp"
      },
      "outputs": [],
      "source": [
        "# Focal Loss\n",
        "class FocalLoss(nn.Module):\n",
        "    def __init__(self, alpha=None, gamma=2.0, reduction='mean'):\n",
        "        super().__init__()\n",
        "        self.alpha = alpha\n",
        "        self.gamma = gamma\n",
        "        self.reduction = reduction\n",
        "\n",
        "    def forward(self, inputs, targets):\n",
        "        ce_loss = F.cross_entropy(inputs, targets, reduction='none', weight=self.alpha)\n",
        "        pt = torch.exp(-ce_loss)\n",
        "        focal_loss = (1 - pt) ** self.gamma * ce_loss\n",
        "        return focal_loss.mean() if self.reduction == 'mean' else focal_loss.sum()"
      ]
    },
    {
      "cell_type": "code",
      "execution_count": null,
      "metadata": {
        "id": "q6ifjRoWKUnq"
      },
      "outputs": [],
      "source": [
        "# Training function\n",
        "def train(model, train_loader, criterion, optimizer, device):\n",
        "    model.train()\n",
        "    total_loss, correct, total = 0, 0, 0\n",
        "    for images, metadata, labels in tqdm(train_loader, desc=\"Training\", leave=False):\n",
        "        images, metadata, labels = images.to(device), metadata.to(device), labels.to(device)\n",
        "        optimizer.zero_grad()\n",
        "        outputs = model(images, metadata)\n",
        "        loss = criterion(outputs, labels)\n",
        "        loss.backward()\n",
        "        optimizer.step()\n",
        "        total_loss += loss.item()\n",
        "        correct += (outputs.argmax(1) == labels).sum().item()\n",
        "        total += labels.size(0)\n",
        "    return total_loss / len(train_loader), correct / total"
      ]
    },
    {
      "cell_type": "code",
      "execution_count": null,
      "metadata": {
        "id": "m5GyEhtqKUnr"
      },
      "outputs": [],
      "source": [
        "# Evaluation function\n",
        "def evaluate(model, val_loader, criterion, device):\n",
        "    model.eval()\n",
        "    total_loss, correct, total = 0, 0, 0\n",
        "    all_preds, all_labels = [], []\n",
        "    with torch.no_grad():\n",
        "        for images, metadata, labels in tqdm(val_loader, desc=\"Evaluating\", leave=False):\n",
        "            images, metadata, labels = images.to(device), metadata.to(device), labels.to(device)\n",
        "            outputs = model(images, metadata)\n",
        "            loss = criterion(outputs, labels)\n",
        "            total_loss += loss.item()\n",
        "            preds = outputs.argmax(1)\n",
        "            correct += (preds == labels).sum().item()\n",
        "            total += labels.size(0)\n",
        "            all_preds.extend(preds.cpu().numpy())\n",
        "            all_labels.extend(labels.cpu().numpy())\n",
        "    return total_loss / len(val_loader), correct / total, all_preds, all_labels"
      ]
    },
    {
      "cell_type": "markdown",
      "metadata": {
        "id": "HfMRuCa-KUns"
      },
      "source": [
        "# **Defining Model**"
      ]
    },
    {
      "cell_type": "code",
      "execution_count": null,
      "metadata": {
        "id": "cIE91tAxKUns"
      },
      "outputs": [],
      "source": [
        "# Paths\n",
        "train_csv = \"/content/drive/MyDrive/Final Year Project/Code/MetaBlock/Data/pad-ufes-20_parsed_folders.csv\"\n",
        "test_csv = \"/content/drive/MyDrive/Final Year Project/Code/MetaBlock/Data/pad-ufes-20_parsed_test.csv\"\n",
        "img_dir = \"/content/drive/MyDrive/Final Year Project/Data/PAD/imgs\""
      ]
    },
    {
      "cell_type": "code",
      "execution_count": null,
      "metadata": {
        "id": "o6AYc0KhKUnt"
      },
      "outputs": [],
      "source": [
        "# Load CSVs\n",
        "train_df = pd.read_csv(train_csv)\n",
        "test_df = pd.read_csv(test_csv)"
      ]
    },
    {
      "cell_type": "code",
      "execution_count": null,
      "metadata": {
        "id": "Lc5DOjHAKUnu"
      },
      "outputs": [],
      "source": [
        "# Define metadata columns\n",
        "exclude_cols = ['img_id', 'diagnostic', 'patient_id', 'lesion_id', 'folder', 'diagnostic_number', 'label_encoded']\n",
        "metadata_cols = [col for col in train_df.columns if col not in exclude_cols]"
      ]
    },
    {
      "cell_type": "code",
      "execution_count": null,
      "metadata": {
        "id": "Bc5yXoS0KUnu"
      },
      "outputs": [],
      "source": [
        "# Apply StandardScaler\n",
        "scaler = StandardScaler()\n",
        "train_df[metadata_cols] = scaler.fit_transform(train_df[metadata_cols])\n",
        "test_df[metadata_cols] = scaler.transform(test_df[metadata_cols])"
      ]
    },
    {
      "cell_type": "code",
      "execution_count": null,
      "metadata": {
        "id": "ED-7XtR8KUnv"
      },
      "outputs": [],
      "source": [
        "# Device\n",
        "device = torch.device(\"cuda\" if torch.cuda.is_available() else \"cpu\")"
      ]
    },
    {
      "cell_type": "code",
      "execution_count": null,
      "metadata": {
        "id": "MBrjM0SiKUnv"
      },
      "outputs": [],
      "source": [
        "# Datasets and Loaders\n",
        "train_ds = PADUFESDataset(train_df, img_dir, input_type=args.input)\n",
        "test_ds = PADUFESDataset(test_df, img_dir, augment=False, input_type=args.input)"
      ]
    },
    {
      "cell_type": "code",
      "execution_count": null,
      "metadata": {
        "id": "RSYQJ9a1KUnw"
      },
      "outputs": [],
      "source": [
        "weights = train_ds.skin_df['label_encoded'].value_counts()\n",
        "weights = [len(train_ds) / weights[l] for l in train_ds.skin_df['label_encoded']]\n",
        "sampler = WeightedRandomSampler(weights, len(weights))"
      ]
    },
    {
      "cell_type": "code",
      "execution_count": null,
      "metadata": {
        "id": "PwYgt7XnKUnw"
      },
      "outputs": [],
      "source": [
        "train_loader = DataLoader(train_ds, batch_size=12, sampler=sampler)\n",
        "test_loader = DataLoader(test_ds, batch_size=12)"
      ]
    },
    {
      "cell_type": "code",
      "execution_count": null,
      "metadata": {
        "colab": {
          "referenced_widgets": [
            "a4782bf9645f4465990132b1bb3d7f0e",
            "8be221d6b8344e08911d7352c8d09baf",
            "e87393c875774407876fbcdbbba5d8b6"
          ]
        },
        "id": "CDwFIqT6KUnw",
        "outputId": "ffe716aa-0485-4892-d100-880dba097116"
      },
      "outputs": [
        {
          "name": "stderr",
          "output_type": "stream",
          "text": [
            "/usr/local/lib/python3.11/dist-packages/huggingface_hub/utils/_auth.py:94: UserWarning: \n",
            "The secret `HF_TOKEN` does not exist in your Colab secrets.\n",
            "To authenticate with the Hugging Face Hub, create a token in your settings tab (https://huggingface.co/settings/tokens), set it as secret in your Google Colab and restart your session.\n",
            "You will be able to reuse this secret in all of your notebooks.\n",
            "Please note that authentication is recommended but still optional to access public models or datasets.\n",
            "  warnings.warn(\n"
          ]
        },
        {
          "data": {
            "application/vnd.jupyter.widget-view+json": {
              "model_id": "a4782bf9645f4465990132b1bb3d7f0e",
              "version_major": 2,
              "version_minor": 0
            },
            "text/plain": [
              "config.json:   0%|          | 0.00/69.9k [00:00<?, ?B/s]"
            ]
          },
          "metadata": {},
          "output_type": "display_data"
        },
        {
          "data": {
            "application/vnd.jupyter.widget-view+json": {
              "model_id": "8be221d6b8344e08911d7352c8d09baf",
              "version_major": 2,
              "version_minor": 0
            },
            "text/plain": [
              "pytorch_model.bin:   0%|          | 0.00/113M [00:00<?, ?B/s]"
            ]
          },
          "metadata": {},
          "output_type": "display_data"
        },
        {
          "data": {
            "application/vnd.jupyter.widget-view+json": {
              "model_id": "e87393c875774407876fbcdbbba5d8b6",
              "version_major": 2,
              "version_minor": 0
            },
            "text/plain": [
              "model.safetensors:   0%|          | 0.00/113M [00:00<?, ?B/s]"
            ]
          },
          "metadata": {},
          "output_type": "display_data"
        }
      ],
      "source": [
        "# Model\n",
        "model = get_model(args.fusion, args.freeze,\n",
        "                  len(train_ds.label_dict),\n",
        "                  len(train_ds.metadata_cols),\n",
        "                  args.input,\n",
        "                  args.mlp_depth)"
      ]
    },
    {
      "cell_type": "code",
      "execution_count": null,
      "metadata": {
        "id": "O38Je_oQKUnx",
        "outputId": "24f24194-7796-4fb7-b627-3e268734b733"
      },
      "outputs": [
        {
          "name": "stdout",
          "output_type": "stream",
          "text": [
            "Label Dictionary: {'ACK': 0, 'BCC': 1, 'MEL': 2, 'NEV': 3, 'SCC': 4, 'SEK': 5}\n"
          ]
        }
      ],
      "source": [
        "print(\"Label Dictionary:\", train_ds.label_dict)"
      ]
    },
    {
      "cell_type": "code",
      "execution_count": null,
      "metadata": {
        "id": "JOAcfhzDKUnx"
      },
      "outputs": [],
      "source": [
        "# Training setup\n",
        "optimizer = torch.optim.Adam(filter(lambda p: p.requires_grad, model.parameters()), lr=1e-4)\n",
        "criterion = FocalLoss(alpha=torch.tensor([1.0, 1.0, 2.0, 1.0, 4.0, 1.0]).to(device)) if args.loss == 'focal' else nn.CrossEntropyLoss()\n",
        "scheduler = ReduceLROnPlateau(optimizer, mode='max', factor=0.5, patience=2, verbose=True)\n",
        "\n",
        "best_val_acc = 0.0\n",
        "epochs_no_improve = 0\n",
        "patience = 10"
      ]
    },
    {
      "cell_type": "markdown",
      "metadata": {
        "id": "FK9IvSrlKUny"
      },
      "source": [
        "# **Training Model**"
      ]
    },
    {
      "cell_type": "code",
      "execution_count": null,
      "metadata": {
        "id": "7o0NFdSvKUny",
        "outputId": "76a31fa6-70a8-4858-ff36-de455a455d6f"
      },
      "outputs": [
        {
          "name": "stderr",
          "output_type": "stream",
          "text": []
        },
        {
          "name": "stdout",
          "output_type": "stream",
          "text": [
            "Epoch 01 | Train Acc: 0.2136 | Val Acc: 0.1436\n",
            "Saved best model to /content/drive/MyDrive/Final Year Project/Code/Ablation Study/Data/swin_tiny_experiment_shallow_mlp.pth\n"
          ]
        },
        {
          "name": "stderr",
          "output_type": "stream",
          "text": []
        },
        {
          "name": "stdout",
          "output_type": "stream",
          "text": [
            "Epoch 02 | Train Acc: 0.4909 | Val Acc: 0.3708\n",
            "Saved best model to /content/drive/MyDrive/Final Year Project/Code/Ablation Study/Data/swin_tiny_experiment_shallow_mlp.pth\n"
          ]
        },
        {
          "name": "stderr",
          "output_type": "stream",
          "text": []
        },
        {
          "name": "stdout",
          "output_type": "stream",
          "text": [
            "Epoch 03 | Train Acc: 0.6000 | Val Acc: 0.3812\n",
            "Saved best model to /content/drive/MyDrive/Final Year Project/Code/Ablation Study/Data/swin_tiny_experiment_shallow_mlp.pth\n"
          ]
        },
        {
          "name": "stderr",
          "output_type": "stream",
          "text": []
        },
        {
          "name": "stdout",
          "output_type": "stream",
          "text": [
            "Epoch 04 | Train Acc: 0.6209 | Val Acc: 0.4021\n",
            "Saved best model to /content/drive/MyDrive/Final Year Project/Code/Ablation Study/Data/swin_tiny_experiment_shallow_mlp.pth\n"
          ]
        },
        {
          "name": "stderr",
          "output_type": "stream",
          "text": []
        },
        {
          "name": "stdout",
          "output_type": "stream",
          "text": [
            "Epoch 05 | Train Acc: 0.6454 | Val Acc: 0.4282\n",
            "Saved best model to /content/drive/MyDrive/Final Year Project/Code/Ablation Study/Data/swin_tiny_experiment_shallow_mlp.pth\n"
          ]
        },
        {
          "name": "stderr",
          "output_type": "stream",
          "text": []
        },
        {
          "name": "stdout",
          "output_type": "stream",
          "text": [
            "Epoch 06 | Train Acc: 0.6653 | Val Acc: 0.4465\n",
            "Saved best model to /content/drive/MyDrive/Final Year Project/Code/Ablation Study/Data/swin_tiny_experiment_shallow_mlp.pth\n"
          ]
        },
        {
          "name": "stderr",
          "output_type": "stream",
          "text": []
        },
        {
          "name": "stdout",
          "output_type": "stream",
          "text": [
            "Epoch 07 | Train Acc: 0.6851 | Val Acc: 0.4830\n",
            "Saved best model to /content/drive/MyDrive/Final Year Project/Code/Ablation Study/Data/swin_tiny_experiment_shallow_mlp.pth\n"
          ]
        },
        {
          "name": "stderr",
          "output_type": "stream",
          "text": []
        },
        {
          "name": "stdout",
          "output_type": "stream",
          "text": [
            "Epoch 08 | Train Acc: 0.6856 | Val Acc: 0.4804\n"
          ]
        },
        {
          "name": "stderr",
          "output_type": "stream",
          "text": []
        },
        {
          "name": "stdout",
          "output_type": "stream",
          "text": [
            "Epoch 09 | Train Acc: 0.7347 | Val Acc: 0.5535\n",
            "Saved best model to /content/drive/MyDrive/Final Year Project/Code/Ablation Study/Data/swin_tiny_experiment_shallow_mlp.pth\n"
          ]
        },
        {
          "name": "stderr",
          "output_type": "stream",
          "text": []
        },
        {
          "name": "stdout",
          "output_type": "stream",
          "text": [
            "Epoch 10 | Train Acc: 0.7352 | Val Acc: 0.5300\n"
          ]
        },
        {
          "name": "stderr",
          "output_type": "stream",
          "text": []
        },
        {
          "name": "stdout",
          "output_type": "stream",
          "text": [
            "Epoch 11 | Train Acc: 0.7258 | Val Acc: 0.6084\n",
            "Saved best model to /content/drive/MyDrive/Final Year Project/Code/Ablation Study/Data/swin_tiny_experiment_shallow_mlp.pth\n"
          ]
        },
        {
          "name": "stderr",
          "output_type": "stream",
          "text": []
        },
        {
          "name": "stdout",
          "output_type": "stream",
          "text": [
            "Epoch 12 | Train Acc: 0.7640 | Val Acc: 0.5692\n"
          ]
        },
        {
          "name": "stderr",
          "output_type": "stream",
          "text": []
        },
        {
          "name": "stdout",
          "output_type": "stream",
          "text": [
            "Epoch 13 | Train Acc: 0.7781 | Val Acc: 0.6162\n",
            "Saved best model to /content/drive/MyDrive/Final Year Project/Code/Ablation Study/Data/swin_tiny_experiment_shallow_mlp.pth\n"
          ]
        },
        {
          "name": "stderr",
          "output_type": "stream",
          "text": []
        },
        {
          "name": "stdout",
          "output_type": "stream",
          "text": [
            "Epoch 14 | Train Acc: 0.7953 | Val Acc: 0.6319\n",
            "Saved best model to /content/drive/MyDrive/Final Year Project/Code/Ablation Study/Data/swin_tiny_experiment_shallow_mlp.pth\n"
          ]
        },
        {
          "name": "stderr",
          "output_type": "stream",
          "text": []
        },
        {
          "name": "stdout",
          "output_type": "stream",
          "text": [
            "Epoch 15 | Train Acc: 0.7990 | Val Acc: 0.6527\n",
            "Saved best model to /content/drive/MyDrive/Final Year Project/Code/Ablation Study/Data/swin_tiny_experiment_shallow_mlp.pth\n"
          ]
        },
        {
          "name": "stderr",
          "output_type": "stream",
          "text": []
        },
        {
          "name": "stdout",
          "output_type": "stream",
          "text": [
            "Epoch 16 | Train Acc: 0.8026 | Val Acc: 0.6527\n"
          ]
        },
        {
          "name": "stderr",
          "output_type": "stream",
          "text": []
        },
        {
          "name": "stdout",
          "output_type": "stream",
          "text": [
            "Epoch 17 | Train Acc: 0.8178 | Val Acc: 0.6658\n",
            "Saved best model to /content/drive/MyDrive/Final Year Project/Code/Ablation Study/Data/swin_tiny_experiment_shallow_mlp.pth\n"
          ]
        },
        {
          "name": "stderr",
          "output_type": "stream",
          "text": []
        },
        {
          "name": "stdout",
          "output_type": "stream",
          "text": [
            "Epoch 18 | Train Acc: 0.8172 | Val Acc: 0.6789\n",
            "Saved best model to /content/drive/MyDrive/Final Year Project/Code/Ablation Study/Data/swin_tiny_experiment_shallow_mlp.pth\n"
          ]
        },
        {
          "name": "stderr",
          "output_type": "stream",
          "text": []
        },
        {
          "name": "stdout",
          "output_type": "stream",
          "text": [
            "Epoch 19 | Train Acc: 0.8292 | Val Acc: 0.6789\n"
          ]
        },
        {
          "name": "stderr",
          "output_type": "stream",
          "text": []
        },
        {
          "name": "stdout",
          "output_type": "stream",
          "text": [
            "Epoch 20 | Train Acc: 0.8439 | Val Acc: 0.7180\n",
            "Saved best model to /content/drive/MyDrive/Final Year Project/Code/Ablation Study/Data/swin_tiny_experiment_shallow_mlp.pth\n"
          ]
        },
        {
          "name": "stderr",
          "output_type": "stream",
          "text": []
        },
        {
          "name": "stdout",
          "output_type": "stream",
          "text": [
            "Epoch 21 | Train Acc: 0.8423 | Val Acc: 0.6919\n"
          ]
        },
        {
          "name": "stderr",
          "output_type": "stream",
          "text": []
        },
        {
          "name": "stdout",
          "output_type": "stream",
          "text": [
            "Epoch 22 | Train Acc: 0.8522 | Val Acc: 0.7180\n"
          ]
        },
        {
          "name": "stderr",
          "output_type": "stream",
          "text": []
        },
        {
          "name": "stdout",
          "output_type": "stream",
          "text": [
            "Epoch 23 | Train Acc: 0.8595 | Val Acc: 0.7285\n",
            "Saved best model to /content/drive/MyDrive/Final Year Project/Code/Ablation Study/Data/swin_tiny_experiment_shallow_mlp.pth\n"
          ]
        },
        {
          "name": "stderr",
          "output_type": "stream",
          "text": []
        },
        {
          "name": "stdout",
          "output_type": "stream",
          "text": [
            "Epoch 24 | Train Acc: 0.8689 | Val Acc: 0.7232\n"
          ]
        },
        {
          "name": "stderr",
          "output_type": "stream",
          "text": [
            "                                                           "
          ]
        },
        {
          "name": "stdout",
          "output_type": "stream",
          "text": [
            "Epoch 25 | Train Acc: 0.8674 | Val Acc: 0.7285\n"
          ]
        },
        {
          "name": "stderr",
          "output_type": "stream",
          "text": [
            "\r"
          ]
        }
      ],
      "source": [
        "# Training loop\n",
        "for epoch in range(args.epochs):\n",
        "    train_loss, train_acc = train(model, train_loader, criterion, optimizer, device)\n",
        "    val_loss, val_acc, val_preds, val_labels = evaluate(model, test_loader, criterion, device)\n",
        "\n",
        "    print(f\"Epoch {epoch+1:02d} | Train Acc: {train_acc:.4f} | Val Acc: {val_acc:.4f}\")\n",
        "\n",
        "    # W&B logging\n",
        "    if args.use_wandb:\n",
        "        wandb.log({\n",
        "            \"epoch\": epoch + 1,\n",
        "            \"train_loss\": train_loss,\n",
        "            \"val_loss\": val_loss,\n",
        "            \"train_acc\": train_acc,\n",
        "            \"val_acc\": val_acc,\n",
        "            \"lr\": optimizer.param_groups[0]['lr']\n",
        "        })\n",
        "\n",
        "    scheduler.step(val_acc)\n",
        "\n",
        "    if val_acc > best_val_acc:\n",
        "        best_val_acc = val_acc\n",
        "        epochs_no_improve = 0\n",
        "        torch.save(model.state_dict(), args.save_path)\n",
        "        print(f\"Saved best model to {args.save_path}\")\n",
        "    else:\n",
        "        epochs_no_improve += 1\n",
        "        if epochs_no_improve >= patience:\n",
        "            print(f\"Early stopping triggered at epoch {epoch+1}\")\n",
        "            break"
      ]
    },
    {
      "cell_type": "markdown",
      "metadata": {
        "id": "kLNd1e1eKUnz"
      },
      "source": [
        "# **Evaluation**"
      ]
    },
    {
      "cell_type": "code",
      "execution_count": null,
      "metadata": {
        "id": "VgzOpcBPKUnz"
      },
      "outputs": [],
      "source": [
        "class_names = [label for label, idx in sorted(train_ds.label_dict.items(), key=lambda x: x[1])]"
      ]
    },
    {
      "cell_type": "code",
      "execution_count": null,
      "metadata": {
        "id": "wRoAXHs-KUn0",
        "outputId": "109cb719-3026-4e8f-c807-f9514525436d"
      },
      "outputs": [
        {
          "name": "stdout",
          "output_type": "stream",
          "text": [
            "\n",
            "Classification Report:\n",
            "               precision    recall  f1-score   support\n",
            "\n",
            "         ACK       0.88      0.75      0.81       122\n",
            "         BCC       0.81      0.72      0.76       141\n",
            "         MEL       0.67      0.89      0.76         9\n",
            "         NEV       0.75      0.82      0.79        40\n",
            "         SCC       0.33      0.56      0.42        32\n",
            "         SEK       0.64      0.72      0.67        39\n",
            "\n",
            "    accuracy                           0.73       383\n",
            "   macro avg       0.68      0.74      0.70       383\n",
            "weighted avg       0.76      0.73      0.74       383\n",
            "\n"
          ]
        },
        {
          "data": {
            "image/png": "[encoded data removed]",
            "text/plain": [
              "<Figure size 1000x800 with 2 Axes>"
            ]
          },
          "metadata": {},
          "output_type": "display_data"
        }
      ],
      "source": [
        "val_preds = [int(p) for p in val_preds]\n",
        "val_labels = [int(l) for l in val_labels]\n",
        "\n",
        "# Classification report\n",
        "report = classification_report(val_labels, val_preds, target_names=class_names)\n",
        "print(\"\\nClassification Report:\\n\", report)\n",
        "\n",
        "# Confusion matrix\n",
        "cm = confusion_matrix(val_labels, val_preds)\n",
        "\n",
        "# Plot confusion matrix\n",
        "fig, ax = plt.subplots(figsize=(10, 8))\n",
        "sns.heatmap(cm, annot=True, fmt=\"d\", cmap=\"Blues\", xticklabels=class_names, yticklabels=class_names, ax=ax)\n",
        "plt.xlabel(\"Predicted Label\")\n",
        "plt.ylabel(\"True Label\")\n",
        "plt.title(\"Confusion Matrix\")\n",
        "plt.tight_layout()\n",
        "plt.show()"
      ]
    },
    {
      "cell_type": "code",
      "execution_count": null,
      "metadata": {
        "id": "TWxRUr_QKUn1",
        "outputId": "f45d50ac-8f9e-4522-ad4c-793fa3558a05"
      },
      "outputs": [
        {
          "name": "stdout",
          "output_type": "stream",
          "text": [
            "Saved evaluation metrics to /content/drive/MyDrive/Final Year Project/Code/Ablation Study/Data/eval_metrics_attention_focal_multi_shallow.csv\n"
          ]
        }
      ],
      "source": [
        "# Get detailed metrics\n",
        "prec, recall, f1, support = precision_recall_fscore_support(val_labels, val_preds, labels=list(range(len(class_names))))\n",
        "\n",
        "# Save evaluation metrics to CSV\n",
        "eval_df = pd.DataFrame({\n",
        "    \"Class\": class_names,\n",
        "    \"Precision\": prec,\n",
        "    \"Recall\": recall,\n",
        "    \"F1-Score\": f1,\n",
        "    \"Support\": support\n",
        "})\n",
        "\n",
        "# Save to disk drive\n",
        "csv_path = f\"/content/drive/MyDrive/Final Year Project/Code/Ablation Study/Data/eval_metrics_{args.fusion}_{args.loss}_{args.input}_{args.mlp_depth}.csv\"\n",
        "eval_df.to_csv(csv_path, index=False)\n",
        "print(f\"Saved evaluation metrics to {csv_path}\")\n",
        "\n",
        "\n",
        "# Create W&B table\n",
        "table = wandb.Table(columns=[\"Class\", \"Precision\", \"Recall\", \"F1-Score\", \"Support\"])\n",
        "for i, cls in enumerate(class_names):\n",
        "    table.add_data(cls, round(prec[i], 4), round(recall[i], 4), round(f1[i], 4), support[i])\n",
        "\n",
        "# Log it\n",
        "wandb.log({\"Per-Class Metrics\": table})"
      ]
    },
    {
      "cell_type": "code",
      "execution_count": null,
      "metadata": {
        "id": "2yoQqomPKUn1",
        "outputId": "453ec975-00b4-4797-be5f-f7add99c29e9"
      },
      "outputs": [
        {
          "name": "stderr",
          "output_type": "stream",
          "text": [
            "\u001b[34m\u001b[1mwandb\u001b[0m: \u001b[33mWARNING\u001b[0m Saving files without folders. If you want to preserve subdirectories pass base_path to wandb.save, i.e. wandb.save(\"/mnt/folder/file.h5\", base_path=\"/mnt\")\n"
          ]
        }
      ],
      "source": [
        "# W&B Final Logs\n",
        "if args.use_wandb:\n",
        "    wandb.log({\n",
        "        \"classification_report\": wandb.Html(f\"<pre>{report}</pre>\"),\n",
        "        \"confusion_matrix\": wandb.Image(fig)\n",
        "    })\n",
        "    wandb.save(args.save_path)"
      ]
    }
  ],
  "metadata": {
    "colab": {
      "provenance": [],
      "include_colab_link": true
    }
  },
  "nbformat": 4,
  "nbformat_minor": 0
}
