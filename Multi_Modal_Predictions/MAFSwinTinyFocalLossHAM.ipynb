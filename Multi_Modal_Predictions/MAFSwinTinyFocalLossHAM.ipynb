{
  "cells": [
    {
      "cell_type": "markdown",
      "metadata": {
        "id": "view-in-github",
        "colab_type": "text"
      },
      "source": [
        "<a href=\"https://colab.research.google.com/github/ConanOReilly/Final_Year_Project/blob/main/Multi_Modal_Predictions/MAFSwinTinyFocalLossHAM.ipynb\" target=\"_parent\"><img src=\"https://colab.research.google.com/assets/colab-badge.svg\" alt=\"Open In Colab\"/></a>"
      ]
    },
    {
      "cell_type": "markdown",
      "metadata": {
        "id": "dbKWkkx5BJlr"
      },
      "source": [
        "# **Swin-Tiny Modality Attention Fusion with Focal Loss Trained on Ham 10000**\n",
        "\n",
        "To test the valididaty of the results from the proposed method, the Swin-Tiny MAF model will be trained on the Ham 10000 dataset."
      ]
    },
    {
      "cell_type": "code",
      "execution_count": null,
      "metadata": {
        "id": "YSlgymHPBJl3",
        "outputId": "fb2bf789-50f2-4bb8-e6fa-3dfb293f87b8"
      },
      "outputs": [
        {
          "name": "stdout",
          "output_type": "stream",
          "text": [
            "Mounted at /content/drive\n"
          ]
        }
      ],
      "source": [
        "from google.colab import drive\n",
        "drive.mount('/content/drive')"
      ]
    },
    {
      "cell_type": "markdown",
      "metadata": {
        "id": "fqqNi-yXBJl9"
      },
      "source": [
        "# **Libraries**"
      ]
    },
    {
      "cell_type": "code",
      "execution_count": null,
      "metadata": {
        "id": "Cqy5eqa1BJl_"
      },
      "outputs": [],
      "source": [
        "import torch\n",
        "from torch import nn\n",
        "from torch.utils.data import Dataset, DataLoader, WeightedRandomSampler\n",
        "from transformers import Swinv2Model\n",
        "from torchvision import transforms\n",
        "from PIL import Image, UnidentifiedImageError\n",
        "import os\n",
        "import pandas as pd\n",
        "import random\n",
        "from tqdm import tqdm\n",
        "from sklearn.metrics import classification_report, confusion_matrix\n",
        "import matplotlib.pyplot as plt\n",
        "import seaborn as sns\n",
        "from sklearn.preprocessing import StandardScaler\n",
        "from torch.optim.lr_scheduler import ReduceLROnPlateau\n",
        "import torch.nn.functional as F\n",
        "import numpy as np\n",
        "from sklearn.preprocessing import LabelEncoder\n",
        "from sklearn.model_selection import train_test_split"
      ]
    },
    {
      "cell_type": "markdown",
      "metadata": {
        "id": "Nr5EolVfBJmA"
      },
      "source": [
        "# **Importing Ham 10000**"
      ]
    },
    {
      "cell_type": "code",
      "execution_count": null,
      "metadata": {
        "id": "U-57rdv7BJmB",
        "outputId": "131ba8f0-0806-407c-ed9b-bb43fe37d036"
      },
      "outputs": [
        {
          "name": "stdout",
          "output_type": "stream",
          "text": [
            "Requirement already satisfied: kaggle in /usr/local/lib/python3.11/dist-packages (1.7.4.2)\n",
            "Requirement already satisfied: bleach in /usr/local/lib/python3.11/dist-packages (from kaggle) (6.2.0)\n",
            "Requirement already satisfied: certifi>=14.05.14 in /usr/local/lib/python3.11/dist-packages (from kaggle) (2025.1.31)\n",
            "Requirement already satisfied: charset-normalizer in /usr/local/lib/python3.11/dist-packages (from kaggle) (3.4.1)\n",
            "Requirement already satisfied: idna in /usr/local/lib/python3.11/dist-packages (from kaggle) (3.10)\n",
            "Requirement already satisfied: protobuf in /usr/local/lib/python3.11/dist-packages (from kaggle) (5.29.4)\n",
            "Requirement already satisfied: python-dateutil>=2.5.3 in /usr/local/lib/python3.11/dist-packages (from kaggle) (2.8.2)\n",
            "Requirement already satisfied: python-slugify in /usr/local/lib/python3.11/dist-packages (from kaggle) (8.0.4)\n",
            "Requirement already satisfied: requests in /usr/local/lib/python3.11/dist-packages (from kaggle) (2.32.3)\n",
            "Requirement already satisfied: setuptools>=21.0.0 in /usr/local/lib/python3.11/dist-packages (from kaggle) (75.2.0)\n",
            "Requirement already satisfied: six>=1.10 in /usr/local/lib/python3.11/dist-packages (from kaggle) (1.17.0)\n",
            "Requirement already satisfied: text-unidecode in /usr/local/lib/python3.11/dist-packages (from kaggle) (1.3)\n",
            "Requirement already satisfied: tqdm in /usr/local/lib/python3.11/dist-packages (from kaggle) (4.67.1)\n",
            "Requirement already satisfied: urllib3>=1.15.1 in /usr/local/lib/python3.11/dist-packages (from kaggle) (2.3.0)\n",
            "Requirement already satisfied: webencodings in /usr/local/lib/python3.11/dist-packages (from kaggle) (0.5.1)\n"
          ]
        }
      ],
      "source": [
        "! pip install kaggle"
      ]
    },
    {
      "cell_type": "code",
      "execution_count": null,
      "metadata": {
        "id": "svRkxn-SBJmD"
      },
      "outputs": [],
      "source": [
        "# Remove the file if it exists and is not a directory\n",
        "if os.path.exists(\"/root/.kaggle\") and not os.path.isdir(\"/root/.kaggle\"):\n",
        "    os.remove(\"/root/.kaggle\")\n",
        "\n",
        "# Create the directory\n",
        "os.makedirs(\"/root/.kaggle\", exist_ok=True)"
      ]
    },
    {
      "cell_type": "code",
      "execution_count": null,
      "metadata": {
        "id": "bN3Eu0haBJmE"
      },
      "outputs": [],
      "source": [
        "!cp /content/drive/MyDrive/Final\\ Year\\ Project/Data/Kaggle\\ API/kaggle.json /root/.kaggle/"
      ]
    },
    {
      "cell_type": "code",
      "execution_count": null,
      "metadata": {
        "id": "13bN01YKBJmG"
      },
      "outputs": [],
      "source": [
        "!chmod 600 /root/.kaggle/kaggle.json"
      ]
    },
    {
      "cell_type": "code",
      "execution_count": null,
      "metadata": {
        "id": "cOkShV_bBJmH",
        "outputId": "9703e580-90e6-4b97-c0e5-b8a1aa049347"
      },
      "outputs": [
        {
          "name": "stdout",
          "output_type": "stream",
          "text": [
            "Dataset URL: https://www.kaggle.com/datasets/kmader/skin-cancer-mnist-ham10000\n",
            "License(s): CC-BY-NC-SA-4.0\n"
          ]
        }
      ],
      "source": [
        "!kaggle datasets download -d kmader/skin-cancer-mnist-ham10000 -p /content --unzip"
      ]
    },
    {
      "cell_type": "markdown",
      "metadata": {
        "id": "mzsH4aPmBJmI"
      },
      "source": [
        "# **Defining Dataset, Classes, Weights, and Focal Loss**"
      ]
    },
    {
      "cell_type": "code",
      "execution_count": null,
      "metadata": {
        "id": "_AIDGibgBJmJ"
      },
      "outputs": [],
      "source": [
        "# Dataset\n",
        "class HAMDataset(Dataset):\n",
        "    def __init__(self, dataframe, img_dir, augment=True):\n",
        "        self.df = dataframe.copy()\n",
        "        self.img_dir = img_dir\n",
        "        self.augment = augment\n",
        "\n",
        "        # Rename for consistency\n",
        "        if 'image_id' in self.df.columns:\n",
        "            self.df.rename(columns={'image_id': 'img_id', 'dx': 'diagnostic'}, inplace=True)\n",
        "\n",
        "        # Label encoding (if not already done)\n",
        "        if 'label_encoded' not in self.df.columns:\n",
        "            label_dict = {label: idx for idx, label in enumerate(sorted(self.df['diagnostic'].unique()))}\n",
        "            self.df['label_encoded'] = self.df['diagnostic'].map(label_dict)\n",
        "            self.label_dict = label_dict\n",
        "        else:\n",
        "            self.label_dict = {label: idx for idx, label in enumerate(sorted(self.df['diagnostic'].unique()))}\n",
        "        if 'sex' in self.df.columns:\n",
        "            self.df['sex'] = self.df['sex'].map({'male': 0, 'female': 1}).fillna(0)\n",
        "        if 'localization' in self.df.columns:\n",
        "            self.df['localization'] = self.df['localization'].astype('category').cat.codes\n",
        "        if 'age' in self.df.columns:\n",
        "            self.df['age'] = self.df['age'].fillna(0)\n",
        "\n",
        "        # Metadata columns used for the MLP\n",
        "        self.metadata_cols = ['age', 'sex', 'localization']\n",
        "\n",
        "        # Final image transforms\n",
        "        self.transform = transforms.Compose([\n",
        "            transforms.Resize((256, 256)),\n",
        "            transforms.RandomRotation(20),\n",
        "            transforms.RandomHorizontalFlip(),\n",
        "            transforms.RandomVerticalFlip(),\n",
        "            transforms.ToTensor(),\n",
        "            transforms.Normalize(mean=[0.485, 0.456, 0.406],\n",
        "                                 std=[0.229, 0.224, 0.225])\n",
        "        ])\n",
        "        self.base_transform = transforms.Compose([\n",
        "            transforms.Resize((256, 256)),\n",
        "            transforms.ToTensor(),\n",
        "            transforms.Normalize(mean=[0.485, 0.456, 0.406],\n",
        "                                 std=[0.229, 0.224, 0.225])\n",
        "        ])\n",
        "\n",
        "        print(\"Using metadata columns:\", self.metadata_cols)\n",
        "        print(\"Label dictionary:\", self.label_dict)\n",
        "\n",
        "    def __len__(self):\n",
        "        return len(self.df)\n",
        "\n",
        "    def __getitem__(self, idx):\n",
        "        attempts = 0\n",
        "        max_attempts = 100\n",
        "        while attempts < max_attempts:\n",
        "            try:\n",
        "                row = self.df.iloc[idx]\n",
        "                img_path = os.path.join(self.img_dir, row['img_id'] + \".jpg\") if not row['img_id'].endswith(\".jpg\") else os.path.join(self.img_dir, row['img_id'])\n",
        "                image = Image.open(img_path).convert(\"RGB\")\n",
        "                image = self.transform(image) if self.augment else self.base_transform(image)\n",
        "\n",
        "                metadata = torch.tensor(row[self.metadata_cols].astype(float).values, dtype=torch.float32)\n",
        "                label = row['label_encoded']\n",
        "                return image, metadata, label\n",
        "\n",
        "            except (FileNotFoundError, UnidentifiedImageError):\n",
        "                attempts += 1\n",
        "                idx = random.randint(0, len(self.df) - 1)\n",
        "\n",
        "        raise Exception(f\"Failed to load image after {max_attempts} attempts.\")\n"
      ]
    },
    {
      "cell_type": "code",
      "execution_count": null,
      "metadata": {
        "id": "Cw5Lgn7kBJmK"
      },
      "outputs": [],
      "source": [
        "# Balanced sampling\n",
        "def make_weights_for_balanced_classes(dataset):\n",
        "    class_counts = dataset.df['label_encoded'].value_counts()\n",
        "    num_samples = len(dataset)\n",
        "    class_weights = {i: num_samples / class_counts[i] for i in range(len(class_counts))}\n",
        "    weights = [class_weights[label] for label in dataset.df['label_encoded']]\n",
        "    return weights"
      ]
    },
    {
      "cell_type": "code",
      "execution_count": null,
      "metadata": {
        "id": "r6iTEEGcBJmL"
      },
      "outputs": [],
      "source": [
        "class ModalityAttentionFusion(nn.Module):\n",
        "    def __init__(self, dim_img, dim_meta):\n",
        "        super(ModalityAttentionFusion, self).__init__()\n",
        "        self.attn_layer = nn.Sequential(\n",
        "            nn.Linear(dim_img + dim_meta, 128),\n",
        "            nn.ReLU(),\n",
        "            nn.Linear(128, 2),\n",
        "            nn.Softmax(dim=1)\n",
        "        )\n",
        "\n",
        "    def forward(self, img_feat, meta_feat):\n",
        "        combined = torch.cat([img_feat, meta_feat], dim=1)\n",
        "        attn_weights = self.attn_layer(combined)\n",
        "\n",
        "        # Split weights\n",
        "        img_alpha = attn_weights[:, 0].unsqueeze(1)\n",
        "        meta_alpha = attn_weights[:, 1].unsqueeze(1)\n",
        "\n",
        "        # Weighted fusion\n",
        "        fused = img_alpha * img_feat + meta_alpha * meta_feat\n",
        "        return fused"
      ]
    },
    {
      "cell_type": "code",
      "execution_count": null,
      "metadata": {
        "id": "tqN0o7t7BJmN"
      },
      "outputs": [],
      "source": [
        "# Multi-modal model\n",
        "class MultiModalSwinClassifier(nn.Module):\n",
        "    def __init__(self, num_classes, metadata_dim):\n",
        "        super(MultiModalSwinClassifier, self).__init__()\n",
        "\n",
        "        self.image_model = Swinv2Model.from_pretrained(\"microsoft/swinv2-tiny-patch4-window8-256\")\n",
        "\n",
        "        self.image_fc = nn.Sequential(\n",
        "            nn.Linear(self.image_model.config.hidden_size, 128),\n",
        "            nn.ReLU(),\n",
        "            nn.Dropout(0.3)\n",
        "        )\n",
        "\n",
        "        self.metadata_fc = nn.Sequential(\n",
        "            nn.Linear(metadata_dim, 64),\n",
        "            nn.ReLU(),\n",
        "            nn.LayerNorm(64),\n",
        "            nn.Dropout(0.3),\n",
        "            nn.Linear(64, 64),\n",
        "            nn.ReLU(),\n",
        "            nn.Linear(64, 128)\n",
        "        )\n",
        "\n",
        "        self.fusion = ModalityAttentionFusion(128, 128)\n",
        "        self.classifier = nn.Linear(128, num_classes)\n",
        "\n",
        "    def forward(self, image, metadata):\n",
        "        image_features = self.image_model(image).pooler_output\n",
        "        image_features = self.image_fc(image_features)\n",
        "\n",
        "        metadata_features = self.metadata_fc(metadata)\n",
        "        fused = self.fusion(image_features, metadata_features)\n",
        "\n",
        "        return self.classifier(fused)"
      ]
    },
    {
      "cell_type": "code",
      "execution_count": null,
      "metadata": {
        "id": "9tPxUjGDBJmO"
      },
      "outputs": [],
      "source": [
        "# Training function\n",
        "def train(model, train_loader, criterion, optimizer, device):\n",
        "    model.train()\n",
        "    total_loss, correct, total = 0, 0, 0\n",
        "\n",
        "    loop = tqdm(train_loader, desc=\"Training\", leave=False)\n",
        "    for images, metadata, labels in loop:\n",
        "        images, metadata, labels = images.to(device), metadata.to(device), labels.to(device)\n",
        "        optimizer.zero_grad()\n",
        "        outputs = model(images, metadata)\n",
        "        loss = criterion(outputs, labels)\n",
        "        loss.backward()\n",
        "        optimizer.step()\n",
        "\n",
        "        total_loss += loss.item()\n",
        "        correct += (outputs.argmax(1) == labels).sum().item()\n",
        "        total += labels.size(0)\n",
        "\n",
        "    return total_loss / len(train_loader), correct / total\n"
      ]
    },
    {
      "cell_type": "code",
      "execution_count": null,
      "metadata": {
        "id": "MNYEM4o9BJmP"
      },
      "outputs": [],
      "source": [
        "# Evaluation function\n",
        "def evaluate(model, val_loader, criterion, device):\n",
        "    model.eval()\n",
        "    total_loss, correct, total = 0, 0, 0\n",
        "    all_preds, all_labels = [], []\n",
        "\n",
        "    loop = tqdm(val_loader, desc=\"Evaluating\", leave=False)\n",
        "    with torch.no_grad():\n",
        "        for images, metadata, labels in loop:\n",
        "            images, metadata, labels = images.to(device), metadata.to(device), labels.to(device)\n",
        "            outputs = model(images, metadata)\n",
        "            loss = criterion(outputs, labels)\n",
        "\n",
        "            total_loss += loss.item()\n",
        "            preds = outputs.argmax(1)\n",
        "            correct += (preds == labels).sum().item()\n",
        "            total += labels.size(0)\n",
        "\n",
        "            all_preds.extend(preds.cpu().numpy())\n",
        "            all_labels.extend(labels.cpu().numpy())\n",
        "\n",
        "    return total_loss / len(val_loader), correct / total, all_preds, all_labels"
      ]
    },
    {
      "cell_type": "code",
      "execution_count": null,
      "metadata": {
        "id": "DKv8cTsABJmQ"
      },
      "outputs": [],
      "source": [
        "# Focal Loss\n",
        "class FocalLoss(nn.Module):\n",
        "    def __init__(self, alpha=None, gamma=2.0, reduction='mean'):\n",
        "        super(FocalLoss, self).__init__()\n",
        "        self.alpha = alpha\n",
        "        self.gamma = gamma\n",
        "        self.reduction = reduction\n",
        "\n",
        "    def forward(self, inputs, targets):\n",
        "        ce_loss = F.cross_entropy(inputs, targets, reduction='none', weight=self.alpha)\n",
        "        pt = torch.exp(-ce_loss)\n",
        "        focal_loss = (1 - pt) ** self.gamma * ce_loss\n",
        "\n",
        "        if self.reduction == 'mean':\n",
        "            return focal_loss.mean()\n",
        "        elif self.reduction == 'sum':\n",
        "            return focal_loss.sum()\n",
        "        else:\n",
        "            return focal_loss"
      ]
    },
    {
      "cell_type": "markdown",
      "metadata": {
        "id": "pe_EzP5nBJmR"
      },
      "source": [
        "# **Defining Model**"
      ]
    },
    {
      "cell_type": "code",
      "execution_count": null,
      "metadata": {
        "id": "3odq08cWBJmR"
      },
      "outputs": [],
      "source": [
        "# Load metadata\n",
        "ham_df = pd.read_csv(\"/content/HAM10000_metadata.csv\")\n",
        "\n",
        "# Renamed columns to match PAD-UFES dataset\n",
        "ham_df = ham_df.rename(columns={\n",
        "    \"image_id\": \"img_id\",\n",
        "    \"dx\": \"diagnostic\",\n",
        "    \"lesion_id\": \"lesion_id\",\n",
        "    \"age\": \"age\",\n",
        "    \"sex\": \"sex\",\n",
        "    \"localization\": \"localization\"\n",
        "})\n",
        "\n",
        "# Encode labels\n",
        "ham_df['label_encoded'] = LabelEncoder().fit_transform(ham_df['diagnostic'])\n",
        "\n",
        "# Convert categorical metadata to numeric\n",
        "ham_df['sex'] = ham_df['sex'].map({'male': 0, 'female': 1}).fillna(0)\n",
        "ham_df['localization'] = ham_df['localization'].astype('category').cat.codes\n",
        "\n",
        "# Fill missing values\n",
        "ham_df[['age']] = ham_df[['age']].fillna(0)\n",
        "\n",
        "# Save for reproducibility\n",
        "ham_df.to_csv(\"/content/ham10000_preprocessed.csv\", index=False)"
      ]
    },
    {
      "cell_type": "code",
      "execution_count": null,
      "metadata": {
        "id": "Hk-tHGQKBJmS"
      },
      "outputs": [],
      "source": [
        "!mkdir /content/HAM10000_all\n",
        "!cp /content/HAM10000_images_part_1/*.jpg /content/HAM10000_all/\n",
        "!cp /content/HAM10000_images_part_2/*.jpg /content/HAM10000_all/"
      ]
    },
    {
      "cell_type": "code",
      "execution_count": null,
      "metadata": {
        "id": "cK02Q-ybBJmT"
      },
      "outputs": [],
      "source": [
        "train_csv = \"/content/ham10000_preprocessed.csv\"\n",
        "img_dir = \"/content/HAM10000_all\""
      ]
    },
    {
      "cell_type": "code",
      "execution_count": null,
      "metadata": {
        "id": "d2K65kndBJmT"
      },
      "outputs": [],
      "source": [
        "train_df, test_df = train_test_split(ham_df, test_size=0.2, stratify=ham_df['label_encoded'], random_state=42)"
      ]
    },
    {
      "cell_type": "code",
      "execution_count": null,
      "metadata": {
        "id": "tBX7NAITBJmU"
      },
      "outputs": [],
      "source": [
        "metadata_cols = ['age', 'sex', 'localization']"
      ]
    },
    {
      "cell_type": "code",
      "execution_count": null,
      "metadata": {
        "id": "LzJhYi3WBJmU"
      },
      "outputs": [],
      "source": [
        "# StandardScaler\n",
        "scaler = StandardScaler()\n",
        "train_df[metadata_cols] = scaler.fit_transform(train_df[metadata_cols])\n",
        "test_df[metadata_cols] = scaler.transform(test_df[metadata_cols])"
      ]
    },
    {
      "cell_type": "code",
      "execution_count": null,
      "metadata": {
        "id": "5pnXKRjvBJmV"
      },
      "outputs": [],
      "source": [
        "# Device\n",
        "device = torch.device(\"cuda\" if torch.cuda.is_available() else \"cpu\")"
      ]
    },
    {
      "cell_type": "code",
      "execution_count": null,
      "metadata": {
        "id": "xnzNXp5cBJmV",
        "outputId": "a93f073c-ea0b-4faf-cf95-23b6579e98bd"
      },
      "outputs": [
        {
          "name": "stdout",
          "output_type": "stream",
          "text": [
            "Using metadata columns: ['age', 'sex', 'localization']\n",
            "Label dictionary: {'akiec': 0, 'bcc': 1, 'bkl': 2, 'df': 3, 'mel': 4, 'nv': 5, 'vasc': 6}\n",
            "Using metadata columns: ['age', 'sex', 'localization']\n",
            "Label dictionary: {'akiec': 0, 'bcc': 1, 'bkl': 2, 'df': 3, 'mel': 4, 'nv': 5, 'vasc': 6}\n"
          ]
        }
      ],
      "source": [
        "# Datasets and Loaders\n",
        "train_ds = HAMDataset(train_df, img_dir)\n",
        "test_ds = HAMDataset(test_df, img_dir, augment=False)"
      ]
    },
    {
      "cell_type": "code",
      "execution_count": null,
      "metadata": {
        "id": "Y2JgIl0TBJmW"
      },
      "outputs": [],
      "source": [
        "weights = make_weights_for_balanced_classes(train_ds)\n",
        "sampler = WeightedRandomSampler(weights, len(weights))"
      ]
    },
    {
      "cell_type": "code",
      "execution_count": null,
      "metadata": {
        "id": "PCnPOab3BJmW"
      },
      "outputs": [],
      "source": [
        "train_loader = DataLoader(train_ds, batch_size=12, sampler=sampler)\n",
        "test_loader = DataLoader(test_ds, batch_size=12)"
      ]
    },
    {
      "cell_type": "code",
      "execution_count": null,
      "metadata": {
        "id": "Ep6YqIa9BJmX",
        "outputId": "402de1f1-73e9-4ef7-dc77-c60a6f3244f1",
        "colab": {
          "referenced_widgets": [
            "0e5477799667441ab4e73e7a2382ab47",
            "04ae2c41526848029f25b5439bcca8b3",
            "908e0fa302674062befbf5f8cc66047c"
          ]
        }
      },
      "outputs": [
        {
          "name": "stderr",
          "output_type": "stream",
          "text": [
            "/usr/local/lib/python3.11/dist-packages/huggingface_hub/utils/_auth.py:94: UserWarning: \n",
            "The secret `HF_TOKEN` does not exist in your Colab secrets.\n",
            "To authenticate with the Hugging Face Hub, create a token in your settings tab (https://huggingface.co/settings/tokens), set it as secret in your Google Colab and restart your session.\n",
            "You will be able to reuse this secret in all of your notebooks.\n",
            "Please note that authentication is recommended but still optional to access public models or datasets.\n",
            "  warnings.warn(\n"
          ]
        },
        {
          "data": {
            "application/vnd.jupyter.widget-view+json": {
              "model_id": "0e5477799667441ab4e73e7a2382ab47",
              "version_major": 2,
              "version_minor": 0
            },
            "text/plain": [
              "config.json:   0%|          | 0.00/69.9k [00:00<?, ?B/s]"
            ]
          },
          "metadata": {},
          "output_type": "display_data"
        },
        {
          "data": {
            "application/vnd.jupyter.widget-view+json": {
              "model_id": "04ae2c41526848029f25b5439bcca8b3",
              "version_major": 2,
              "version_minor": 0
            },
            "text/plain": [
              "pytorch_model.bin:   0%|          | 0.00/113M [00:00<?, ?B/s]"
            ]
          },
          "metadata": {},
          "output_type": "display_data"
        },
        {
          "data": {
            "application/vnd.jupyter.widget-view+json": {
              "model_id": "908e0fa302674062befbf5f8cc66047c",
              "version_major": 2,
              "version_minor": 0
            },
            "text/plain": [
              "model.safetensors:   0%|          | 0.00/113M [00:00<?, ?B/s]"
            ]
          },
          "metadata": {},
          "output_type": "display_data"
        }
      ],
      "source": [
        "# Model\n",
        "model = MultiModalSwinClassifier(\n",
        "    num_classes=len(train_ds.label_dict),\n",
        "    metadata_dim=len(train_ds.metadata_cols)\n",
        ").to(device)"
      ]
    },
    {
      "cell_type": "code",
      "execution_count": null,
      "metadata": {
        "id": "_UZi-LAfBJmX",
        "outputId": "0f2c77ca-d7f0-4024-d6a5-41f8c5294c9a"
      },
      "outputs": [
        {
          "name": "stdout",
          "output_type": "stream",
          "text": [
            "Label Dictionary: {'akiec': 0, 'bcc': 1, 'bkl': 2, 'df': 3, 'mel': 4, 'nv': 5, 'vasc': 6}\n"
          ]
        }
      ],
      "source": [
        "print(\"Label Dictionary:\", train_ds.label_dict)"
      ]
    },
    {
      "cell_type": "code",
      "execution_count": null,
      "metadata": {
        "id": "2vsllpaYBJmY"
      },
      "outputs": [],
      "source": [
        "alpha = torch.tensor([1.0, 1.0, 1.0, 2.0, 1.0, 1.0, 2.0]).to(device)"
      ]
    },
    {
      "cell_type": "code",
      "execution_count": null,
      "metadata": {
        "id": "mtu5p7MPBJmY"
      },
      "outputs": [],
      "source": [
        "# Training setup\n",
        "criterion = FocalLoss(alpha=alpha, gamma=2.0)\n",
        "optimizer = torch.optim.Adam(model.parameters(), lr=1e-4)\n",
        "scheduler = ReduceLROnPlateau(optimizer, mode='max', factor=0.5, patience=2, verbose=True)\n",
        "\n",
        "epochs = 25\n",
        "patience = 10\n",
        "best_val_acc = 0.0\n",
        "epochs_no_improve = 0\n",
        "\n",
        "# Track metrics\n",
        "train_losses = []\n",
        "val_losses = []\n",
        "\n",
        "train_accuracies = []\n",
        "val_accuracies = []\n",
        "\n",
        "lrs = []"
      ]
    },
    {
      "cell_type": "markdown",
      "metadata": {
        "id": "fSkyqcr6BJmZ"
      },
      "source": [
        "# **Training Model**"
      ]
    },
    {
      "cell_type": "code",
      "execution_count": null,
      "metadata": {
        "id": "aDbb9dTSBJmZ"
      },
      "outputs": [],
      "source": [
        "save_path = \"/content/drive/MyDrive/Final Year Project/Code/Hugging Face Models/WandB model/Model Paths/ham10000_best_model.pth\""
      ]
    },
    {
      "cell_type": "code",
      "execution_count": null,
      "metadata": {
        "id": "5UkRg0UTBJma",
        "outputId": "b96f35e2-1c12-4ce2-d35b-22ad92389aa2",
        "colab": {
          "referenced_widgets": [
            "e7967e1745c84806b1a8f488c1c39852"
          ]
        }
      },
      "outputs": [
        {
          "name": "stderr",
          "output_type": "stream",
          "text": [
            "\r",
            "Training:   0%|          | 0/668 [00:00<?, ?it/s]"
          ]
        },
        {
          "data": {
            "application/vnd.jupyter.widget-view+json": {
              "model_id": "e7967e1745c84806b1a8f488c1c39852",
              "version_major": 2,
              "version_minor": 0
            },
            "text/plain": [
              "model.safetensors:   0%|          | 0.00/113M [00:00<?, ?B/s]"
            ]
          },
          "metadata": {},
          "output_type": "display_data"
        },
        {
          "name": "stderr",
          "output_type": "stream",
          "text": []
        },
        {
          "name": "stdout",
          "output_type": "stream",
          "text": [
            "Epoch 01 | Train Loss: 0.6543 | Val Loss: 0.3620 | Train Acc: 0.6459 | Val Acc: 0.6800\n",
            "Saved best model to /content/drive/MyDrive/Final Year Project/Code/Hugging Face Models/WandB model/Model Paths/ham10000_best_model.pth\n"
          ]
        },
        {
          "name": "stderr",
          "output_type": "stream",
          "text": []
        },
        {
          "name": "stdout",
          "output_type": "stream",
          "text": [
            "Epoch 02 | Train Loss: 0.2861 | Val Loss: 0.3144 | Train Acc: 0.8100 | Val Acc: 0.7449\n",
            "Saved best model to /content/drive/MyDrive/Final Year Project/Code/Hugging Face Models/WandB model/Model Paths/ham10000_best_model.pth\n"
          ]
        },
        {
          "name": "stderr",
          "output_type": "stream",
          "text": []
        },
        {
          "name": "stdout",
          "output_type": "stream",
          "text": [
            "Epoch 03 | Train Loss: 0.1996 | Val Loss: 0.2472 | Train Acc: 0.8480 | Val Acc: 0.7968\n",
            "Saved best model to /content/drive/MyDrive/Final Year Project/Code/Hugging Face Models/WandB model/Model Paths/ham10000_best_model.pth\n"
          ]
        },
        {
          "name": "stderr",
          "output_type": "stream",
          "text": []
        },
        {
          "name": "stdout",
          "output_type": "stream",
          "text": [
            "Epoch 04 | Train Loss: 0.1923 | Val Loss: 0.3567 | Train Acc: 0.8528 | Val Acc: 0.7089\n"
          ]
        },
        {
          "name": "stderr",
          "output_type": "stream",
          "text": []
        },
        {
          "name": "stdout",
          "output_type": "stream",
          "text": [
            "Epoch 05 | Train Loss: 0.1452 | Val Loss: 0.3444 | Train Acc: 0.8787 | Val Acc: 0.6910\n"
          ]
        },
        {
          "name": "stderr",
          "output_type": "stream",
          "text": []
        },
        {
          "name": "stdout",
          "output_type": "stream",
          "text": [
            "Epoch 06 | Train Loss: 0.1154 | Val Loss: 0.2119 | Train Acc: 0.9008 | Val Acc: 0.8263\n",
            "Saved best model to /content/drive/MyDrive/Final Year Project/Code/Hugging Face Models/WandB model/Model Paths/ham10000_best_model.pth\n"
          ]
        },
        {
          "name": "stderr",
          "output_type": "stream",
          "text": []
        },
        {
          "name": "stdout",
          "output_type": "stream",
          "text": [
            "Epoch 07 | Train Loss: 0.1233 | Val Loss: 0.2003 | Train Acc: 0.8970 | Val Acc: 0.8313\n",
            "Saved best model to /content/drive/MyDrive/Final Year Project/Code/Hugging Face Models/WandB model/Model Paths/ham10000_best_model.pth\n"
          ]
        },
        {
          "name": "stderr",
          "output_type": "stream",
          "text": []
        },
        {
          "name": "stdout",
          "output_type": "stream",
          "text": [
            "Epoch 08 | Train Loss: 0.1178 | Val Loss: 0.2518 | Train Acc: 0.9043 | Val Acc: 0.8303\n"
          ]
        },
        {
          "name": "stderr",
          "output_type": "stream",
          "text": []
        },
        {
          "name": "stdout",
          "output_type": "stream",
          "text": [
            "Epoch 09 | Train Loss: 0.1169 | Val Loss: 0.2503 | Train Acc: 0.9015 | Val Acc: 0.7913\n"
          ]
        },
        {
          "name": "stderr",
          "output_type": "stream",
          "text": []
        },
        {
          "name": "stdout",
          "output_type": "stream",
          "text": [
            "Epoch 10 | Train Loss: 0.0921 | Val Loss: 0.2833 | Train Acc: 0.9179 | Val Acc: 0.7823\n"
          ]
        },
        {
          "name": "stderr",
          "output_type": "stream",
          "text": []
        },
        {
          "name": "stdout",
          "output_type": "stream",
          "text": [
            "Epoch 11 | Train Loss: 0.0543 | Val Loss: 0.2456 | Train Acc: 0.9438 | Val Acc: 0.7993\n"
          ]
        },
        {
          "name": "stderr",
          "output_type": "stream",
          "text": []
        },
        {
          "name": "stdout",
          "output_type": "stream",
          "text": [
            "Epoch 12 | Train Loss: 0.0374 | Val Loss: 0.2306 | Train Acc: 0.9598 | Val Acc: 0.8098\n"
          ]
        },
        {
          "name": "stderr",
          "output_type": "stream",
          "text": []
        },
        {
          "name": "stdout",
          "output_type": "stream",
          "text": [
            "Epoch 13 | Train Loss: 0.0432 | Val Loss: 0.1893 | Train Acc: 0.9563 | Val Acc: 0.8532\n",
            "Saved best model to /content/drive/MyDrive/Final Year Project/Code/Hugging Face Models/WandB model/Model Paths/ham10000_best_model.pth\n"
          ]
        },
        {
          "name": "stderr",
          "output_type": "stream",
          "text": []
        },
        {
          "name": "stdout",
          "output_type": "stream",
          "text": [
            "Epoch 14 | Train Loss: 0.0369 | Val Loss: 0.1786 | Train Acc: 0.9601 | Val Acc: 0.8657\n",
            "Saved best model to /content/drive/MyDrive/Final Year Project/Code/Hugging Face Models/WandB model/Model Paths/ham10000_best_model.pth\n"
          ]
        },
        {
          "name": "stderr",
          "output_type": "stream",
          "text": []
        },
        {
          "name": "stdout",
          "output_type": "stream",
          "text": [
            "Epoch 15 | Train Loss: 0.0415 | Val Loss: 0.1548 | Train Acc: 0.9608 | Val Acc: 0.8932\n",
            "Saved best model to /content/drive/MyDrive/Final Year Project/Code/Hugging Face Models/WandB model/Model Paths/ham10000_best_model.pth\n"
          ]
        },
        {
          "name": "stderr",
          "output_type": "stream",
          "text": []
        },
        {
          "name": "stdout",
          "output_type": "stream",
          "text": [
            "Epoch 16 | Train Loss: 0.0396 | Val Loss: 0.1923 | Train Acc: 0.9591 | Val Acc: 0.8512\n"
          ]
        },
        {
          "name": "stderr",
          "output_type": "stream",
          "text": []
        },
        {
          "name": "stdout",
          "output_type": "stream",
          "text": [
            "Epoch 17 | Train Loss: 0.0387 | Val Loss: 0.2102 | Train Acc: 0.9603 | Val Acc: 0.8432\n"
          ]
        },
        {
          "name": "stderr",
          "output_type": "stream",
          "text": []
        },
        {
          "name": "stdout",
          "output_type": "stream",
          "text": [
            "Epoch 18 | Train Loss: 0.0399 | Val Loss: 0.1930 | Train Acc: 0.9599 | Val Acc: 0.8432\n"
          ]
        },
        {
          "name": "stderr",
          "output_type": "stream",
          "text": []
        },
        {
          "name": "stdout",
          "output_type": "stream",
          "text": [
            "Epoch 19 | Train Loss: 0.0239 | Val Loss: 0.1687 | Train Acc: 0.9733 | Val Acc: 0.8907\n"
          ]
        },
        {
          "name": "stderr",
          "output_type": "stream",
          "text": []
        },
        {
          "name": "stdout",
          "output_type": "stream",
          "text": [
            "Epoch 20 | Train Loss: 0.0154 | Val Loss: 0.1729 | Train Acc: 0.9812 | Val Acc: 0.8992\n",
            "Saved best model to /content/drive/MyDrive/Final Year Project/Code/Hugging Face Models/WandB model/Model Paths/ham10000_best_model.pth\n"
          ]
        },
        {
          "name": "stderr",
          "output_type": "stream",
          "text": []
        },
        {
          "name": "stdout",
          "output_type": "stream",
          "text": [
            "Epoch 21 | Train Loss: 0.0187 | Val Loss: 0.1944 | Train Acc: 0.9794 | Val Acc: 0.8892\n"
          ]
        },
        {
          "name": "stderr",
          "output_type": "stream",
          "text": []
        },
        {
          "name": "stdout",
          "output_type": "stream",
          "text": [
            "Epoch 22 | Train Loss: 0.0185 | Val Loss: 0.1735 | Train Acc: 0.9813 | Val Acc: 0.9066\n",
            "Saved best model to /content/drive/MyDrive/Final Year Project/Code/Hugging Face Models/WandB model/Model Paths/ham10000_best_model.pth\n"
          ]
        },
        {
          "name": "stderr",
          "output_type": "stream",
          "text": []
        },
        {
          "name": "stdout",
          "output_type": "stream",
          "text": [
            "Epoch 23 | Train Loss: 0.0177 | Val Loss: 0.1722 | Train Acc: 0.9798 | Val Acc: 0.9041\n"
          ]
        },
        {
          "name": "stderr",
          "output_type": "stream",
          "text": []
        },
        {
          "name": "stdout",
          "output_type": "stream",
          "text": [
            "Epoch 24 | Train Loss: 0.0136 | Val Loss: 0.1865 | Train Acc: 0.9846 | Val Acc: 0.9076\n",
            "Saved best model to /content/drive/MyDrive/Final Year Project/Code/Hugging Face Models/WandB model/Model Paths/ham10000_best_model.pth\n"
          ]
        },
        {
          "name": "stderr",
          "output_type": "stream",
          "text": [
            "                                                             "
          ]
        },
        {
          "name": "stdout",
          "output_type": "stream",
          "text": [
            "Epoch 25 | Train Loss: 0.0156 | Val Loss: 0.1699 | Train Acc: 0.9824 | Val Acc: 0.9011\n"
          ]
        },
        {
          "name": "stderr",
          "output_type": "stream",
          "text": [
            "\r"
          ]
        }
      ],
      "source": [
        "# Training loop\n",
        "for epoch in range(epochs):\n",
        "    train_loss, train_acc = train(model, train_loader, criterion, optimizer, device)\n",
        "    val_loss, val_acc, val_preds, val_labels = evaluate(model, test_loader, criterion, device)\n",
        "\n",
        "    # Logging\n",
        "    train_losses.append(train_loss)\n",
        "    val_losses.append(val_loss)\n",
        "    train_accuracies.append(train_acc)\n",
        "    val_accuracies.append(val_acc)\n",
        "    lrs.append(optimizer.param_groups[0]['lr'])\n",
        "\n",
        "    print(f\"Epoch {epoch+1:02d} | Train Loss: {train_loss:.4f} | Val Loss: {val_loss:.4f} | Train Acc: {train_acc:.4f} | Val Acc: {val_acc:.4f}\")\n",
        "\n",
        "    scheduler.step(val_acc)\n",
        "\n",
        "    # Early stopping\n",
        "    if val_acc > best_val_acc:\n",
        "        best_val_acc = val_acc\n",
        "        epochs_no_improve = 0\n",
        "        torch.save(model.state_dict(), save_path)\n",
        "        print(f\"Saved best model to {save_path}\")\n",
        "    else:\n",
        "        epochs_no_improve += 1\n",
        "        if epochs_no_improve >= patience:\n",
        "            print(f\"Early stopping triggered at epoch {epoch+1}\")\n",
        "            break"
      ]
    },
    {
      "cell_type": "markdown",
      "metadata": {
        "id": "J9Mp9nToBJma"
      },
      "source": [
        "# **Evaluation**"
      ]
    },
    {
      "cell_type": "code",
      "execution_count": null,
      "metadata": {
        "id": "43fhKtr_BJmb"
      },
      "outputs": [],
      "source": [
        "class_names = [label for label, idx in sorted(train_ds.label_dict.items(), key=lambda x: x[1])]"
      ]
    },
    {
      "cell_type": "code",
      "execution_count": null,
      "metadata": {
        "id": "ZeUSIbwKBJmb",
        "outputId": "68eb9d5d-1949-4202-dcb8-c240e9b50649"
      },
      "outputs": [
        {
          "name": "stderr",
          "output_type": "stream",
          "text": []
        }
      ],
      "source": [
        "# Load best model\n",
        "model.load_state_dict(torch.load(save_path))\n",
        "model.to(device)\n",
        "\n",
        "val_loss, val_acc, val_preds, val_labels = evaluate(model, test_loader, criterion, device)"
      ]
    },
    {
      "cell_type": "code",
      "execution_count": null,
      "metadata": {
        "id": "yETAlwqmBJmp",
        "outputId": "7361a933-5d79-40a3-8256-207e642885c0"
      },
      "outputs": [
        {
          "name": "stdout",
          "output_type": "stream",
          "text": [
            "\n",
            "Classification Report:\n",
            "               precision    recall  f1-score   support\n",
            "\n",
            "       akiec       0.85      0.86      0.85        65\n",
            "         bcc       0.90      0.92      0.91       103\n",
            "         bkl       0.79      0.83      0.81       220\n",
            "          df       0.96      1.00      0.98        23\n",
            "         mel       0.75      0.74      0.75       223\n",
            "          nv       0.95      0.95      0.95      1341\n",
            "        vasc       1.00      0.89      0.94        28\n",
            "\n",
            "    accuracy                           0.91      2003\n",
            "   macro avg       0.89      0.89      0.88      2003\n",
            "weighted avg       0.91      0.91      0.91      2003\n",
            "\n"
          ]
        },
        {
          "data": {
            "image/png": "[encoded data removed]",
            "text/plain": [
              "<Figure size 1000x800 with 2 Axes>"
            ]
          },
          "metadata": {},
          "output_type": "display_data"
        }
      ],
      "source": [
        "val_preds = [int(p) for p in val_preds]\n",
        "val_labels = [int(l) for l in val_labels]\n",
        "\n",
        "# Classification report\n",
        "report = classification_report(val_labels, val_preds, target_names=class_names)\n",
        "print(\"\\nClassification Report:\\n\", report)\n",
        "\n",
        "# Confusion matrix\n",
        "cm = confusion_matrix(val_labels, val_preds)\n",
        "\n",
        "# Plot confusion matrix\n",
        "plt.figure(figsize=(10, 8))\n",
        "sns.heatmap(cm, annot=True, fmt=\"d\", cmap=\"Blues\", xticklabels=class_names, yticklabels=class_names)\n",
        "plt.xlabel(\"Predicted Label\")\n",
        "plt.ylabel(\"True Label\")\n",
        "plt.title(\"Confusion Matrix\")\n",
        "plt.tight_layout()\n",
        "plt.show()"
      ]
    }
  ],
  "metadata": {
    "colab": {
      "provenance": [],
      "include_colab_link": true
    }
  },
  "nbformat": 4,
  "nbformat_minor": 0
}