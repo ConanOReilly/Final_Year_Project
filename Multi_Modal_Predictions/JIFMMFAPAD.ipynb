{
  "cells": [
    {
      "cell_type": "markdown",
      "metadata": {
        "id": "view-in-github",
        "colab_type": "text"
      },
      "source": [
        "<a href=\"https://colab.research.google.com/github/ConanOReilly/Final_Year_Project/blob/main/Multi_Modal_Predictions/JIFMMFAPAD.ipynb\" target=\"_parent\"><img src=\"https://colab.research.google.com/assets/colab-badge.svg\" alt=\"Open In Colab\"/></a>"
      ]
    },
    {
      "cell_type": "markdown",
      "metadata": {
        "id": "vZ15JdQdWiP4"
      },
      "source": [
        "# **Joint-individual fusion structure with fusion attention module for multi-modal skin cancer classification**\n",
        "Source code was not available for this model, however the architecture from the paper was replicated to attempt to achieve similar results.\n",
        "\n",
        "Tang, Peng, et al. \"Joint-individual fusion structure with fusion attention module for multi-modal skin cancer classification.\" Pattern Recognition 154 (2024): 110604."
      ]
    },
    {
      "cell_type": "code",
      "execution_count": null,
      "metadata": {
        "id": "0EDNozIhWiP-",
        "outputId": "81a8bd6f-1ed8-47a4-c6d3-5edeaf235970"
      },
      "outputs": [
        {
          "name": "stdout",
          "output_type": "stream",
          "text": [
            "Mounted at /content/drive\n"
          ]
        }
      ],
      "source": [
        "from google.colab import drive\n",
        "drive.mount('/content/drive')"
      ]
    },
    {
      "cell_type": "markdown",
      "metadata": {
        "id": "5ndM9FQKWiQE"
      },
      "source": [
        "# **Libraries**"
      ]
    },
    {
      "cell_type": "code",
      "execution_count": null,
      "metadata": {
        "id": "jDbaXAMYWiQG"
      },
      "outputs": [],
      "source": [
        "import os\n",
        "import torch\n",
        "import torch.nn as nn\n",
        "import torch.optim as optim\n",
        "import pandas as pd\n",
        "import numpy as np\n",
        "from PIL import Image\n",
        "from torchvision import transforms\n",
        "from torch.utils.data import Dataset, DataLoader\n",
        "import albumentations as A\n",
        "from albumentations.pytorch import ToTensorV2\n",
        "from sklearn.metrics import classification_report, confusion_matrix, ConfusionMatrixDisplay\n",
        "from sklearn.preprocessing import LabelEncoder\n",
        "import matplotlib.pyplot as plt\n",
        "import timm\n",
        "from tqdm import tqdm"
      ]
    },
    {
      "cell_type": "code",
      "execution_count": null,
      "metadata": {
        "id": "YVGu8tStWiQI"
      },
      "outputs": [],
      "source": [
        "# Dataset\n",
        "class PADUFESDataset(Dataset):\n",
        "    def __init__(self, df, img_dir, transform=None):\n",
        "        self.df = df\n",
        "        self.img_dir = img_dir\n",
        "        self.transform = transform\n",
        "        self.meta_cols = [col for col in df.columns if col not in ['img_id', 'image_path', 'diagnostic', 'patient_id']]\n",
        "\n",
        "        self.label_encoder = LabelEncoder()\n",
        "        self.df['label'] = self.label_encoder.fit_transform(self.df['diagnostic'])\n",
        "        self.num_classes = len(self.df['label'].unique())\n",
        "\n",
        "    def __len__(self):\n",
        "        return len(self.df)\n",
        "\n",
        "    def __getitem__(self, idx):\n",
        "        row = self.df.iloc[idx]\n",
        "        img_path = os.path.join(self.img_dir, row['image_path'])\n",
        "        image = np.array(Image.open(img_path).convert(\"RGB\"))\n",
        "\n",
        "        if self.transform:\n",
        "            image = self.transform(image=image)[\"image\"]\n",
        "\n",
        "        metadata = torch.tensor(row[self.meta_cols].values.astype(np.float32))\n",
        "        label = torch.tensor(row['label']).long()\n",
        "        return image, metadata, label"
      ]
    },
    {
      "cell_type": "markdown",
      "metadata": {
        "id": "0sq-O8lGWiQK"
      },
      "source": [
        "# **Model**"
      ]
    },
    {
      "cell_type": "code",
      "execution_count": null,
      "metadata": {
        "id": "9l8pfYzrWiQN"
      },
      "outputs": [],
      "source": [
        "class MMFA(nn.Module):\n",
        "    def __init__(self, dim, heads):\n",
        "        super(MMFA, self).__init__()\n",
        "        self.qkv_image = nn.Linear(dim, dim * 3)\n",
        "        self.qkv_meta = nn.Linear(dim, dim * 3)\n",
        "        self.attn = nn.MultiheadAttention(embed_dim=dim, num_heads=heads, batch_first=True)\n",
        "        self.out_proj = nn.Linear(dim, dim)\n",
        "\n",
        "    def forward(self, image_feat, meta_feat):\n",
        "        qkv_i = self.qkv_image(image_feat)\n",
        "        qkv_m = self.qkv_meta(meta_feat)\n",
        "        q_i, k_i, v_i = torch.chunk(qkv_i, 3, dim=-1)\n",
        "        q_m, k_m, v_m = torch.chunk(qkv_m, 3, dim=-1)\n",
        "\n",
        "        q = torch.cat([q_i, q_m], dim=1)\n",
        "        k = torch.cat([k_i, k_m], dim=1)\n",
        "        v = torch.cat([v_i, v_m], dim=1)\n",
        "\n",
        "        attn_output, _ = self.attn(q, k, v)\n",
        "        fused = self.out_proj(attn_output.mean(dim=1))\n",
        "        return torch.cat([fused, image_feat.squeeze(1), meta_feat.squeeze(1)], dim=-1)\n",
        "\n",
        "\n",
        "class JIF_MMFA_Model(nn.Module):\n",
        "    def __init__(self, image_model, meta_dim, num_classes, dim_hidden=128, num_heads=4):\n",
        "        super(JIF_MMFA_Model, self).__init__()\n",
        "        self.image_model = image_model\n",
        "        self.meta_net = nn.Sequential(\n",
        "            nn.Linear(meta_dim, dim_hidden),\n",
        "            nn.ReLU()\n",
        "        )\n",
        "        self.mmfa = MMFA(dim=dim_hidden, heads=num_heads)\n",
        "\n",
        "        self.image_cls = nn.Linear(dim_hidden, num_classes)\n",
        "        self.meta_cls = nn.Linear(dim_hidden, num_classes)\n",
        "        self.fusion_cls = nn.Linear(384, num_classes)\n",
        "\n",
        "    def forward(self, image, meta):\n",
        "        image_feat = self.image_model(image)\n",
        "        meta_feat = self.meta_net(meta)\n",
        "\n",
        "        img_seq = image_feat.unsqueeze(1)\n",
        "        meta_seq = meta_feat.unsqueeze(1)\n",
        "\n",
        "        fusion_feat = self.mmfa(img_seq, meta_seq)\n",
        "\n",
        "        pred_image = self.image_cls(image_feat)\n",
        "        pred_meta = self.meta_cls(meta_feat)\n",
        "        pred_fused = self.fusion_cls(fusion_feat)\n",
        "\n",
        "        return pred_image, pred_meta, pred_fused"
      ]
    },
    {
      "cell_type": "markdown",
      "metadata": {
        "id": "7-OFFPjLWiQQ"
      },
      "source": [
        "**Training, Evaluation, Metrics**"
      ]
    },
    {
      "cell_type": "code",
      "execution_count": null,
      "metadata": {
        "id": "LthiOMh7WiQS"
      },
      "outputs": [],
      "source": [
        "def train_loop(model, loader, criterion, optimizer, device):\n",
        "    model.train()\n",
        "    total_loss = 0\n",
        "    correct = 0\n",
        "\n",
        "    for images, metadata, labels in tqdm(loader, desc=\"Training\"):\n",
        "        images, metadata, labels = images.to(device), metadata.to(device), labels.to(device)\n",
        "\n",
        "        pred_image, pred_meta, pred_fused = model(images, metadata)\n",
        "\n",
        "        loss_image = criterion(pred_image, labels)\n",
        "        loss_meta = criterion(pred_meta, labels)\n",
        "        loss_fused = criterion(pred_fused, labels)\n",
        "        loss = 0.5 * loss_image + 0.5 * loss_meta + loss_fused\n",
        "\n",
        "        optimizer.zero_grad()\n",
        "        loss.backward()\n",
        "        optimizer.step()\n",
        "\n",
        "        total_loss += loss.item() * images.size(0)\n",
        "        correct += (pred_fused.argmax(1) == labels).sum().item()\n",
        "\n",
        "    return total_loss / len(loader.dataset), correct / len(loader.dataset)\n",
        "\n",
        "def evaluate(model, loader, criterion, device):\n",
        "    model.eval()\n",
        "    total_loss = 0\n",
        "    correct = 0\n",
        "    with torch.no_grad():\n",
        "        for images, metadata, labels in tqdm(loader, desc=\"Evaluating\"):\n",
        "            images, metadata, labels = images.to(device), metadata.to(device), labels.to(device)\n",
        "            _, _, pred_fused = model(images, metadata)\n",
        "            loss = criterion(pred_fused, labels)\n",
        "            total_loss += loss.item() * images.size(0)\n",
        "            correct += (pred_fused.argmax(1) == labels).sum().item()\n",
        "    return total_loss / len(loader.dataset), correct / len(loader.dataset)\n",
        "\n",
        "def get_predictions(model, loader, device):\n",
        "    model.eval()\n",
        "    all_preds = []\n",
        "    all_labels = []\n",
        "    with torch.no_grad():\n",
        "        for images, metadata, labels in loader:\n",
        "            images, metadata = images.to(device), metadata.to(device)\n",
        "            _, _, preds = model(images, metadata)\n",
        "            all_preds.extend(preds.argmax(1).cpu().numpy())\n",
        "            all_labels.extend(labels.numpy())\n",
        "    return np.array(all_labels), np.array(all_preds)"
      ]
    },
    {
      "cell_type": "markdown",
      "metadata": {
        "id": "4aiGvWhdWiQV"
      },
      "source": [
        "**Running Model**"
      ]
    },
    {
      "cell_type": "code",
      "execution_count": null,
      "metadata": {
        "id": "OYsuCMhDWiQX"
      },
      "outputs": [],
      "source": [
        "def run_training():\n",
        "    IMG_DIR = \"/content/drive/MyDrive/Final Year Project/Code/MetaBlock/Data/imgs\"\n",
        "    CSV_TRAIN = \"/content/drive/MyDrive/Final Year Project/Code/MetaBlock/Data/pad-ufes-20_parsed_folders.csv\"\n",
        "    CSV_TEST = \"/content/drive/MyDrive/Final Year Project/Code/MetaBlock/Data/pad-ufes-20_parsed_test.csv\"\n",
        "\n",
        "    df_train = pd.read_csv(CSV_TRAIN)\n",
        "    df_test = pd.read_csv(CSV_TEST)\n",
        "\n",
        "    df_train['image_path'] = df_train['img_id']\n",
        "    df_test['image_path'] = df_test['img_id']\n",
        "    aug = A.Compose([\n",
        "        A.Resize(224, 224),\n",
        "        A.HorizontalFlip(),\n",
        "        A.VerticalFlip(),\n",
        "        A.Rotate(limit=30),\n",
        "        A.Normalize(),\n",
        "        ToTensorV2()\n",
        "    ])\n",
        "\n",
        "    train_dataset = PADUFESDataset(df_train, IMG_DIR, transform=aug)\n",
        "    test_dataset = PADUFESDataset(df_test, IMG_DIR, transform=aug)\n",
        "\n",
        "    train_loader = DataLoader(train_dataset, batch_size=16, shuffle=True)\n",
        "    test_loader = DataLoader(test_dataset, batch_size=16)\n",
        "\n",
        "    num_classes = train_dataset.num_classes\n",
        "    meta_dim = len(train_dataset.meta_cols)\n",
        "\n",
        "    device = torch.device(\"cuda\" if torch.cuda.is_available() else \"cpu\")\n",
        "\n",
        "    base_model = timm.create_model('tf_efficientnetv2_b0', pretrained=True, num_classes=128)\n",
        "    image_model = base_model\n",
        "\n",
        "    model = JIF_MMFA_Model(image_model=image_model, meta_dim=meta_dim, num_classes=num_classes).to(device)\n",
        "    optimizer = optim.AdamW(model.parameters(), lr=1e-4)\n",
        "    criterion = nn.CrossEntropyLoss()\n",
        "\n",
        "    train_losses, val_losses = [], []\n",
        "    train_accuracies, val_accuracies = [], []\n",
        "\n",
        "    for epoch in range(1, 21):\n",
        "        train_loss, train_acc = train_loop(model, train_loader, criterion, optimizer, device)\n",
        "        val_loss, val_acc = evaluate(model, test_loader, criterion, device)\n",
        "\n",
        "        train_losses.append(train_loss)\n",
        "        val_losses.append(val_loss)\n",
        "        train_accuracies.append(train_acc)\n",
        "        val_accuracies.append(val_acc)\n",
        "\n",
        "        print(f\"Epoch {epoch:02d} | Train Loss: {train_loss:.4f} | Val Loss: {val_loss:.4f} | \"\n",
        "              f\"Train Acc: {train_acc:.4f} | Val Acc: {val_acc:.4f}\")\n",
        "\n",
        "    # Save model\n",
        "    SAVE_PATH = \"/content/drive/MyDrive/Final Year Project/Code/JIFMMFA/jif_mmfa_model.pt\"\n",
        "    torch.save(model.state_dict(), SAVE_PATH)\n",
        "    print(f\"Model saved to {SAVE_PATH}\")\n",
        "\n",
        "    return model, train_loader, test_loader, train_losses, val_losses, train_accuracies, val_accuracies, device, train_dataset"
      ]
    },
    {
      "cell_type": "code",
      "execution_count": null,
      "metadata": {
        "id": "xsuCQAzXWiQZ",
        "outputId": "dc23a7fb-0810-42f3-fac9-10ecbb414f8f",
        "colab": {
          "referenced_widgets": [
            "8c6ff1ed82e447029664a0d1b076e9fe"
          ]
        }
      },
      "outputs": [
        {
          "name": "stderr",
          "output_type": "stream",
          "text": [
            "/usr/local/lib/python3.11/dist-packages/huggingface_hub/utils/_auth.py:94: UserWarning: \n",
            "The secret `HF_TOKEN` does not exist in your Colab secrets.\n",
            "To authenticate with the Hugging Face Hub, create a token in your settings tab (https://huggingface.co/settings/tokens), set it as secret in your Google Colab and restart your session.\n",
            "You will be able to reuse this secret in all of your notebooks.\n",
            "Please note that authentication is recommended but still optional to access public models or datasets.\n",
            "  warnings.warn(\n"
          ]
        },
        {
          "data": {
            "application/vnd.jupyter.widget-view+json": {
              "model_id": "8c6ff1ed82e447029664a0d1b076e9fe",
              "version_major": 2,
              "version_minor": 0
            },
            "text/plain": [
              "model.safetensors:   0%|          | 0.00/28.8M [00:00<?, ?B/s]"
            ]
          },
          "metadata": {},
          "output_type": "display_data"
        },
        {
          "name": "stderr",
          "output_type": "stream",
          "text": [
            "Training: 100%|██████████| 120/120 [15:48<00:00,  7.90s/it]\n",
            "Evaluating: 100%|██████████| 24/24 [02:29<00:00,  6.21s/it]\n"
          ]
        },
        {
          "name": "stdout",
          "output_type": "stream",
          "text": [
            "Epoch 01 | Train Loss: 12.4856 | Val Loss: 1.8564 | Train Acc: 0.3640 | Val Acc: 0.4178\n"
          ]
        },
        {
          "name": "stderr",
          "output_type": "stream",
          "text": [
            "Training: 100%|██████████| 120/120 [01:38<00:00,  1.22it/s]\n",
            "Evaluating: 100%|██████████| 24/24 [00:16<00:00,  1.41it/s]\n"
          ]
        },
        {
          "name": "stdout",
          "output_type": "stream",
          "text": [
            "Epoch 02 | Train Loss: 3.6136 | Val Loss: 1.2473 | Train Acc: 0.5347 | Val Acc: 0.5875\n"
          ]
        },
        {
          "name": "stderr",
          "output_type": "stream",
          "text": [
            "Training: 100%|██████████| 120/120 [01:35<00:00,  1.25it/s]\n",
            "Evaluating: 100%|██████████| 24/24 [00:16<00:00,  1.48it/s]\n"
          ]
        },
        {
          "name": "stdout",
          "output_type": "stream",
          "text": [
            "Epoch 03 | Train Loss: 2.4352 | Val Loss: 1.2042 | Train Acc: 0.6057 | Val Acc: 0.5561\n"
          ]
        },
        {
          "name": "stderr",
          "output_type": "stream",
          "text": [
            "Training: 100%|██████████| 120/120 [01:36<00:00,  1.25it/s]\n",
            "Evaluating: 100%|██████████| 24/24 [00:17<00:00,  1.41it/s]\n"
          ]
        },
        {
          "name": "stdout",
          "output_type": "stream",
          "text": [
            "Epoch 04 | Train Loss: 2.1845 | Val Loss: 1.0649 | Train Acc: 0.6527 | Val Acc: 0.6684\n"
          ]
        },
        {
          "name": "stderr",
          "output_type": "stream",
          "text": [
            "Training: 100%|██████████| 120/120 [01:36<00:00,  1.24it/s]\n",
            "Evaluating: 100%|██████████| 24/24 [00:16<00:00,  1.42it/s]\n"
          ]
        },
        {
          "name": "stdout",
          "output_type": "stream",
          "text": [
            "Epoch 05 | Train Loss: 2.0384 | Val Loss: 1.0134 | Train Acc: 0.6768 | Val Acc: 0.6632\n"
          ]
        },
        {
          "name": "stderr",
          "output_type": "stream",
          "text": [
            "Training: 100%|██████████| 120/120 [01:36<00:00,  1.25it/s]\n",
            "Evaluating: 100%|██████████| 24/24 [00:16<00:00,  1.46it/s]\n"
          ]
        },
        {
          "name": "stdout",
          "output_type": "stream",
          "text": [
            "Epoch 06 | Train Loss: 1.8467 | Val Loss: 0.9100 | Train Acc: 0.7144 | Val Acc: 0.6632\n"
          ]
        },
        {
          "name": "stderr",
          "output_type": "stream",
          "text": [
            "Training: 100%|██████████| 120/120 [01:34<00:00,  1.26it/s]\n",
            "Evaluating: 100%|██████████| 24/24 [00:16<00:00,  1.45it/s]\n"
          ]
        },
        {
          "name": "stdout",
          "output_type": "stream",
          "text": [
            "Epoch 07 | Train Loss: 1.7416 | Val Loss: 0.7217 | Train Acc: 0.7332 | Val Acc: 0.7624\n"
          ]
        },
        {
          "name": "stderr",
          "output_type": "stream",
          "text": [
            "Training: 100%|██████████| 120/120 [01:34<00:00,  1.27it/s]\n",
            "Evaluating: 100%|██████████| 24/24 [00:16<00:00,  1.47it/s]\n"
          ]
        },
        {
          "name": "stdout",
          "output_type": "stream",
          "text": [
            "Epoch 08 | Train Loss: 1.6307 | Val Loss: 0.7687 | Train Acc: 0.7462 | Val Acc: 0.7415\n"
          ]
        },
        {
          "name": "stderr",
          "output_type": "stream",
          "text": [
            "Training: 100%|██████████| 120/120 [01:33<00:00,  1.28it/s]\n",
            "Evaluating: 100%|██████████| 24/24 [00:16<00:00,  1.49it/s]\n"
          ]
        },
        {
          "name": "stdout",
          "output_type": "stream",
          "text": [
            "Epoch 09 | Train Loss: 1.5309 | Val Loss: 0.7691 | Train Acc: 0.7723 | Val Acc: 0.7180\n"
          ]
        },
        {
          "name": "stderr",
          "output_type": "stream",
          "text": [
            "Training: 100%|██████████| 120/120 [01:34<00:00,  1.28it/s]\n",
            "Evaluating: 100%|██████████| 24/24 [00:16<00:00,  1.42it/s]\n"
          ]
        },
        {
          "name": "stdout",
          "output_type": "stream",
          "text": [
            "Epoch 10 | Train Loss: 1.4018 | Val Loss: 0.7750 | Train Acc: 0.7864 | Val Acc: 0.7467\n"
          ]
        },
        {
          "name": "stderr",
          "output_type": "stream",
          "text": [
            "Training: 100%|██████████| 120/120 [01:33<00:00,  1.29it/s]\n",
            "Evaluating: 100%|██████████| 24/24 [00:16<00:00,  1.49it/s]\n"
          ]
        },
        {
          "name": "stdout",
          "output_type": "stream",
          "text": [
            "Epoch 11 | Train Loss: 1.3108 | Val Loss: 0.6297 | Train Acc: 0.8198 | Val Acc: 0.7781\n"
          ]
        },
        {
          "name": "stderr",
          "output_type": "stream",
          "text": [
            "Training: 100%|██████████| 120/120 [01:33<00:00,  1.28it/s]\n",
            "Evaluating: 100%|██████████| 24/24 [00:16<00:00,  1.48it/s]\n"
          ]
        },
        {
          "name": "stdout",
          "output_type": "stream",
          "text": [
            "Epoch 12 | Train Loss: 1.2112 | Val Loss: 0.5831 | Train Acc: 0.8319 | Val Acc: 0.7911\n"
          ]
        },
        {
          "name": "stderr",
          "output_type": "stream",
          "text": [
            "Training: 100%|██████████| 120/120 [01:33<00:00,  1.29it/s]\n",
            "Evaluating: 100%|██████████| 24/24 [00:16<00:00,  1.43it/s]\n"
          ]
        },
        {
          "name": "stdout",
          "output_type": "stream",
          "text": [
            "Epoch 13 | Train Loss: 1.1162 | Val Loss: 0.7350 | Train Acc: 0.8559 | Val Acc: 0.7598\n"
          ]
        },
        {
          "name": "stderr",
          "output_type": "stream",
          "text": [
            "Training: 100%|██████████| 120/120 [01:33<00:00,  1.28it/s]\n",
            "Evaluating: 100%|██████████| 24/24 [00:16<00:00,  1.48it/s]\n"
          ]
        },
        {
          "name": "stdout",
          "output_type": "stream",
          "text": [
            "Epoch 14 | Train Loss: 1.0435 | Val Loss: 0.6875 | Train Acc: 0.8752 | Val Acc: 0.7546\n"
          ]
        },
        {
          "name": "stderr",
          "output_type": "stream",
          "text": [
            "Training: 100%|██████████| 120/120 [01:33<00:00,  1.29it/s]\n",
            "Evaluating: 100%|██████████| 24/24 [00:16<00:00,  1.44it/s]\n"
          ]
        },
        {
          "name": "stdout",
          "output_type": "stream",
          "text": [
            "Epoch 15 | Train Loss: 0.9672 | Val Loss: 0.7520 | Train Acc: 0.8888 | Val Acc: 0.7520\n"
          ]
        },
        {
          "name": "stderr",
          "output_type": "stream",
          "text": [
            "Training: 100%|██████████| 120/120 [01:34<00:00,  1.27it/s]\n",
            "Evaluating: 100%|██████████| 24/24 [00:16<00:00,  1.48it/s]\n"
          ]
        },
        {
          "name": "stdout",
          "output_type": "stream",
          "text": [
            "Epoch 16 | Train Loss: 0.8976 | Val Loss: 0.7782 | Train Acc: 0.9044 | Val Acc: 0.7180\n"
          ]
        },
        {
          "name": "stderr",
          "output_type": "stream",
          "text": [
            "Training: 100%|██████████| 120/120 [01:33<00:00,  1.29it/s]\n",
            "Evaluating: 100%|██████████| 24/24 [00:16<00:00,  1.48it/s]\n"
          ]
        },
        {
          "name": "stdout",
          "output_type": "stream",
          "text": [
            "Epoch 17 | Train Loss: 0.8732 | Val Loss: 0.8858 | Train Acc: 0.9076 | Val Acc: 0.7337\n"
          ]
        },
        {
          "name": "stderr",
          "output_type": "stream",
          "text": [
            "Training: 100%|██████████| 120/120 [01:33<00:00,  1.28it/s]\n",
            "Evaluating: 100%|██████████| 24/24 [00:17<00:00,  1.38it/s]\n"
          ]
        },
        {
          "name": "stdout",
          "output_type": "stream",
          "text": [
            "Epoch 18 | Train Loss: 0.8060 | Val Loss: 0.9227 | Train Acc: 0.9264 | Val Acc: 0.7258\n"
          ]
        },
        {
          "name": "stderr",
          "output_type": "stream",
          "text": [
            "Training: 100%|██████████| 120/120 [01:34<00:00,  1.27it/s]\n",
            "Evaluating: 100%|██████████| 24/24 [00:16<00:00,  1.45it/s]\n"
          ]
        },
        {
          "name": "stdout",
          "output_type": "stream",
          "text": [
            "Epoch 19 | Train Loss: 0.7583 | Val Loss: 0.8347 | Train Acc: 0.9279 | Val Acc: 0.7546\n"
          ]
        },
        {
          "name": "stderr",
          "output_type": "stream",
          "text": [
            "Training: 100%|██████████| 120/120 [01:33<00:00,  1.28it/s]\n",
            "Evaluating: 100%|██████████| 24/24 [00:17<00:00,  1.40it/s]\n"
          ]
        },
        {
          "name": "stdout",
          "output_type": "stream",
          "text": [
            "Epoch 20 | Train Loss: 0.7439 | Val Loss: 0.8324 | Train Acc: 0.9238 | Val Acc: 0.7363\n",
            "Model saved to /content/drive/MyDrive/Final Year Project/Code/JIFMMFA/jif_mmfa_model.pt\n"
          ]
        }
      ],
      "source": [
        "model, train_loader, test_loader, train_losses, val_losses, train_accuracies, val_accuracies, device, train_dataset = run_training()"
      ]
    },
    {
      "cell_type": "markdown",
      "metadata": {
        "id": "ZJ1v385WWiQb"
      },
      "source": [
        "# **Evaluation**"
      ]
    },
    {
      "cell_type": "code",
      "execution_count": null,
      "metadata": {
        "id": "pgkXacKLWiQb",
        "outputId": "cd22f05d-e6b5-48da-946e-50420957018f"
      },
      "outputs": [
        {
          "data": {
            "image/png": "[encoded data removed]",
            "text/plain": [
              "<Figure size 1400x500 with 2 Axes>"
            ]
          },
          "metadata": {},
          "output_type": "display_data"
        },
        {
          "name": "stdout",
          "output_type": "stream",
          "text": [
            "Classification Report:\n",
            "\n",
            "              precision    recall  f1-score   support\n",
            "\n",
            "         ACK       0.87      0.81      0.84       122\n",
            "         BCC       0.84      0.74      0.79       141\n",
            "         MEL       0.80      0.44      0.57         9\n",
            "         NEV       0.69      0.88      0.77        40\n",
            "         SCC       0.38      0.59      0.46        32\n",
            "         SEK       0.87      0.85      0.86        39\n",
            "\n",
            "    accuracy                           0.77       383\n",
            "   macro avg       0.74      0.72      0.71       383\n",
            "weighted avg       0.80      0.77      0.78       383\n",
            "\n"
          ]
        },
        {
          "data": {
            "image/png": "[encoded data removed]",
            "text/plain": [
              "<Figure size 640x480 with 2 Axes>"
            ]
          },
          "metadata": {},
          "output_type": "display_data"
        }
      ],
      "source": [
        "# Plot Loss and Accuracy\n",
        "epochs = list(range(1, len(train_losses) + 1))\n",
        "plt.figure(figsize=(14, 5))\n",
        "plt.subplot(1, 2, 1)\n",
        "plt.plot(epochs, train_losses, label='Train Loss')\n",
        "plt.plot(epochs, val_losses, label='Val Loss')\n",
        "plt.title(\"Loss per Epoch\")\n",
        "plt.xlabel(\"Epoch\")\n",
        "plt.ylabel(\"Loss\")\n",
        "plt.legend()\n",
        "plt.grid(True)\n",
        "\n",
        "plt.subplot(1, 2, 2)\n",
        "plt.plot(epochs, train_accuracies, label='Train Accuracy')\n",
        "plt.plot(epochs, val_accuracies, label='Val Accuracy')\n",
        "plt.title(\"Accuracy per Epoch\")\n",
        "plt.xlabel(\"Epoch\")\n",
        "plt.ylabel(\"Accuracy\")\n",
        "plt.legend()\n",
        "plt.grid(True)\n",
        "plt.tight_layout()\n",
        "plt.show()\n",
        "\n",
        "# Classification report and confusion matrix\n",
        "y_true, y_pred = get_predictions(model, test_loader, device)\n",
        "class_names = train_dataset.label_encoder.classes_\n",
        "\n",
        "print(\"Classification Report:\\n\")\n",
        "print(classification_report(y_true, y_pred, target_names=class_names))\n",
        "\n",
        "cm = confusion_matrix(y_true, y_pred)\n",
        "disp = ConfusionMatrixDisplay(confusion_matrix=cm, display_labels=class_names)\n",
        "disp.plot(cmap='Blues', xticks_rotation=45)\n",
        "plt.title(\"Confusion Matrix\")\n",
        "plt.grid(False)\n",
        "plt.tight_layout()\n",
        "plt.show()"
      ]
    }
  ],
  "metadata": {
    "colab": {
      "provenance": [],
      "include_colab_link": true
    }
  },
  "nbformat": 4,
  "nbformat_minor": 0
}