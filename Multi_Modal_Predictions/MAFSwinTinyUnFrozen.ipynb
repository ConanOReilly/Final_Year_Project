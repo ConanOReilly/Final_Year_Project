{
  "cells": [
    {
      "cell_type": "markdown",
      "metadata": {
        "id": "view-in-github",
        "colab_type": "text"
      },
      "source": [
        "<a href=\"https://colab.research.google.com/github/ConanOReilly/Final_Year_Project/blob/main/Multi_Modal_Predictions/MAFSwinTinyUnFrozen_cleaned.ipynb\" target=\"_parent\"><img src=\"https://colab.research.google.com/assets/colab-badge.svg\" alt=\"Open In Colab\"/></a>"
      ]
    },
    {
      "cell_type": "markdown",
      "metadata": {
        "id": "O5ulyNTpT4-8"
      },
      "source": [
        "# **Unfrozen Swin-Tiny Modality Attention Fusion**\n",
        "Fine-tuning by unfreezing last two layers of the Swin-Tiny transformer, fully unfrozen model could lead to over-fitting due to the size of the dataset."
      ]
    },
    {
      "cell_type": "code",
      "execution_count": null,
      "metadata": {
        "id": "oQAeOjLnT4-_",
        "outputId": "df97959e-eefd-4ca0-df1a-5c3581a1176a"
      },
      "outputs": [
        {
          "name": "stdout",
          "output_type": "stream",
          "text": [
            "Mounted at /content/drive\n"
          ]
        }
      ],
      "source": [
        "from google.colab import drive\n",
        "drive.mount('/content/drive')"
      ]
    },
    {
      "cell_type": "markdown",
      "metadata": {
        "id": "Y1uYUV0CT4_B"
      },
      "source": [
        "# **Libraries**"
      ]
    },
    {
      "cell_type": "code",
      "execution_count": null,
      "metadata": {
        "id": "uIghkkt5T4_B"
      },
      "outputs": [],
      "source": [
        "import torch\n",
        "from torch import nn\n",
        "from torch.utils.data import Dataset, DataLoader, WeightedRandomSampler\n",
        "from transformers import Swinv2Model\n",
        "from torchvision import transforms\n",
        "from PIL import Image, UnidentifiedImageError\n",
        "import os\n",
        "import pandas as pd\n",
        "import random\n",
        "from tqdm import tqdm\n",
        "from sklearn.metrics import classification_report, confusion_matrix\n",
        "import matplotlib.pyplot as plt\n",
        "import seaborn as sns\n",
        "from sklearn.preprocessing import StandardScaler\n",
        "from torch.optim.lr_scheduler import ReduceLROnPlateau"
      ]
    },
    {
      "cell_type": "markdown",
      "metadata": {
        "id": "GwTxUcYDT4_B"
      },
      "source": [
        "# **Defining Dataset, Classes, and Weights**"
      ]
    },
    {
      "cell_type": "code",
      "execution_count": null,
      "metadata": {
        "id": "OOlb3hEQT4_C"
      },
      "outputs": [],
      "source": [
        "# Dataset\n",
        "class PADUFESDataset(Dataset):\n",
        "    def __init__(self, dataframe, img_dir, augment=True):\n",
        "      self.skin_df = dataframe\n",
        "      self.img_dir = img_dir\n",
        "      self.augment = augment\n",
        "\n",
        "      # Encode labels\n",
        "      self.label_dict = {label: idx for idx, label in enumerate(sorted(self.skin_df['diagnostic'].unique()))}\n",
        "      self.skin_df['label_encoded'] = self.skin_df['diagnostic'].map(self.label_dict)\n",
        "\n",
        "      # Columns to exclude from metadata\n",
        "      exclude_cols = [\n",
        "          'img_id', 'diagnostic', 'patient_id', 'lesion_id',\n",
        "          'folder', 'diagnostic_number', 'label_encoded'\n",
        "      ]\n",
        "\n",
        "      # Dynamically select all metadata columns\n",
        "      self.metadata_cols = [col for col in self.skin_df.columns if col not in exclude_cols]\n",
        "\n",
        "      # Fill missing values in metadata\n",
        "      self.skin_df[self.metadata_cols] = self.skin_df[self.metadata_cols].fillna(0)\n",
        "\n",
        "      # Transforms\n",
        "      self.transform = transforms.Compose([\n",
        "          transforms.Resize((256, 256)),\n",
        "          transforms.RandomRotation(20),\n",
        "          transforms.RandomHorizontalFlip(),\n",
        "          transforms.RandomVerticalFlip(),\n",
        "          transforms.ToTensor(),\n",
        "          transforms.Normalize(mean=[0.485, 0.456, 0.406],\n",
        "                                std=[0.229, 0.224, 0.225]),\n",
        "      ])\n",
        "\n",
        "      self.base_transform = transforms.Compose([\n",
        "          transforms.Resize((256, 256)),\n",
        "          transforms.ToTensor(),\n",
        "          transforms.Normalize(mean=[0.485, 0.456, 0.406],\n",
        "                                std=[0.229, 0.224, 0.225]),\n",
        "      ])\n",
        "\n",
        "      print(\"Using metadata columns:\", self.metadata_cols)\n",
        "\n",
        "    def __len__(self):\n",
        "        return len(self.skin_df)\n",
        "\n",
        "    def __getitem__(self, idx):\n",
        "        attempts = 0\n",
        "        max_attempts = 100\n",
        "        while attempts < max_attempts:\n",
        "            try:\n",
        "                row = self.skin_df.iloc[idx]\n",
        "                img_path = os.path.join(self.img_dir, row['img_id'])\n",
        "                image = Image.open(img_path).convert(\"RGB\")\n",
        "                image = self.transform(image) if self.augment else self.base_transform(image)\n",
        "                try:\n",
        "                    metadata = torch.tensor(row[self.metadata_cols].astype(float).values, dtype=torch.float32)\n",
        "                except Exception as e:\n",
        "                    print(\"Error converting metadata row:\", row[self.metadata_cols])\n",
        "                    raise e\n",
        "\n",
        "                label = row['label_encoded']\n",
        "                return image, metadata, label\n",
        "\n",
        "            except (FileNotFoundError, UnidentifiedImageError):\n",
        "                attempts += 1\n",
        "                idx = random.randint(0, len(self.skin_df) - 1)\n",
        "\n",
        "        raise Exception(f\"Failed to load image after {max_attempts} attempts.\")"
      ]
    },
    {
      "cell_type": "code",
      "execution_count": null,
      "metadata": {
        "id": "I6fUKc8OT4_C"
      },
      "outputs": [],
      "source": [
        "# Balanced sampling\n",
        "def make_weights_for_balanced_classes(dataset):\n",
        "    class_counts = dataset.skin_df['label_encoded'].value_counts()\n",
        "    num_samples = len(dataset)\n",
        "    class_weights = {i: num_samples / class_counts[i] for i in range(len(class_counts))}\n",
        "    weights = [class_weights[label] for label in dataset.skin_df['label_encoded']]\n",
        "    return weights"
      ]
    },
    {
      "cell_type": "code",
      "execution_count": null,
      "metadata": {
        "id": "ugIbYaLqT4_C"
      },
      "outputs": [],
      "source": [
        "class ModalityAttentionFusion(nn.Module):\n",
        "    def __init__(self, dim_img, dim_meta):\n",
        "        super(ModalityAttentionFusion, self).__init__()\n",
        "        self.attn_layer = nn.Sequential(\n",
        "            nn.Linear(dim_img + dim_meta, 128),\n",
        "            nn.ReLU(),\n",
        "            nn.Linear(128, 2),\n",
        "            nn.Softmax(dim=1)\n",
        "        )\n",
        "\n",
        "    def forward(self, img_feat, meta_feat):\n",
        "        combined = torch.cat([img_feat, meta_feat], dim=1)\n",
        "        attn_weights = self.attn_layer(combined)\n",
        "\n",
        "        # Split weights\n",
        "        img_alpha = attn_weights[:, 0].unsqueeze(1)\n",
        "        meta_alpha = attn_weights[:, 1].unsqueeze(1)\n",
        "\n",
        "        # Weighted fusion\n",
        "        fused = img_alpha * img_feat + meta_alpha * meta_feat\n",
        "        return fused"
      ]
    },
    {
      "cell_type": "code",
      "execution_count": null,
      "metadata": {
        "id": "sgD2T6fET4_D"
      },
      "outputs": [],
      "source": [
        "# Multi-modal model\n",
        "class MultiModalSwinClassifier(nn.Module):\n",
        "    def __init__(self, num_classes, metadata_dim):\n",
        "        super(MultiModalSwinClassifier, self).__init__()\n",
        "\n",
        "        self.image_model = Swinv2Model.from_pretrained(\"microsoft/swinv2-tiny-patch4-window8-256\")\n",
        "\n",
        "        self.image_fc = nn.Sequential(\n",
        "            nn.Linear(self.image_model.config.hidden_size, 128),\n",
        "            nn.ReLU(),\n",
        "            nn.Dropout(0.3)\n",
        "        )\n",
        "\n",
        "        self.metadata_fc = nn.Sequential(\n",
        "            nn.Linear(metadata_dim, 64),\n",
        "            nn.ReLU(),\n",
        "            nn.LayerNorm(64),\n",
        "            nn.Dropout(0.3),\n",
        "            nn.Linear(64, 64),\n",
        "            nn.ReLU(),\n",
        "            nn.Linear(64, 128)\n",
        "        )\n",
        "\n",
        "        self.fusion = ModalityAttentionFusion(128, 128)\n",
        "        self.classifier = nn.Linear(128, num_classes)\n",
        "\n",
        "    def forward(self, image, metadata):\n",
        "        image_features = self.image_model(image).pooler_output\n",
        "        image_features = self.image_fc(image_features)\n",
        "\n",
        "        metadata_features = self.metadata_fc(metadata)\n",
        "        fused = self.fusion(image_features, metadata_features)\n",
        "\n",
        "        return self.classifier(fused)"
      ]
    },
    {
      "cell_type": "code",
      "execution_count": null,
      "metadata": {
        "id": "_pMUQ4iFT4_D"
      },
      "outputs": [],
      "source": [
        "# Training function\n",
        "def train(model, train_loader, criterion, optimizer, device):\n",
        "    model.train()\n",
        "    total_loss, correct, total = 0, 0, 0\n",
        "\n",
        "    loop = tqdm(train_loader, desc=\"Training\", leave=False)\n",
        "    for images, metadata, labels in loop:\n",
        "        images, metadata, labels = images.to(device), metadata.to(device), labels.to(device)\n",
        "        optimizer.zero_grad()\n",
        "        outputs = model(images, metadata)\n",
        "        loss = criterion(outputs, labels)\n",
        "        loss.backward()\n",
        "        optimizer.step()\n",
        "\n",
        "        total_loss += loss.item()\n",
        "        correct += (outputs.argmax(1) == labels).sum().item()\n",
        "        total += labels.size(0)\n",
        "\n",
        "    return total_loss / len(train_loader), correct / total\n"
      ]
    },
    {
      "cell_type": "code",
      "execution_count": null,
      "metadata": {
        "id": "fPkQXIysT4_D"
      },
      "outputs": [],
      "source": [
        "# Evaluation function\n",
        "def evaluate(model, val_loader, criterion, device):\n",
        "    model.eval()\n",
        "    total_loss, correct, total = 0, 0, 0\n",
        "    all_preds, all_labels = [], []\n",
        "\n",
        "    loop = tqdm(val_loader, desc=\"Evaluating\", leave=False)\n",
        "    with torch.no_grad():\n",
        "        for images, metadata, labels in loop:\n",
        "            images, metadata, labels = images.to(device), metadata.to(device), labels.to(device)\n",
        "            outputs = model(images, metadata)\n",
        "            loss = criterion(outputs, labels)\n",
        "\n",
        "            total_loss += loss.item()\n",
        "            preds = outputs.argmax(1)\n",
        "            correct += (preds == labels).sum().item()\n",
        "            total += labels.size(0)\n",
        "\n",
        "            all_preds.extend(preds.cpu().numpy())\n",
        "            all_labels.extend(labels.cpu().numpy())\n",
        "\n",
        "    return total_loss / len(val_loader), correct / total, all_preds, all_labels"
      ]
    },
    {
      "cell_type": "code",
      "execution_count": null,
      "metadata": {
        "id": "8oAw-JB8T4_D"
      },
      "outputs": [],
      "source": [
        "# Paths\n",
        "train_csv = \"/content/drive/MyDrive/Final Year Project/Code/MetaBlock/Data/pad-ufes-20_parsed_folders.csv\"\n",
        "test_csv = \"/content/drive/MyDrive/Final Year Project/Code/MetaBlock/Data/pad-ufes-20_parsed_test.csv\"\n",
        "img_dir = \"/content/drive/MyDrive/Final Year Project/Data/PAD/imgs\"\n",
        "save_path = \"/content/drive/MyDrive/Final Year Project/Code/Hugging Face Models/WandB model/Model Paths/MAFSwinTinyUnFrozen_25_epochs.pth\""
      ]
    },
    {
      "cell_type": "code",
      "execution_count": null,
      "metadata": {
        "id": "XZ62jtTHT4_E"
      },
      "outputs": [],
      "source": [
        "# Load CSVs\n",
        "train_df = pd.read_csv(train_csv)\n",
        "test_df = pd.read_csv(test_csv)"
      ]
    },
    {
      "cell_type": "code",
      "execution_count": null,
      "metadata": {
        "id": "WBUb-k2JT4_E"
      },
      "outputs": [],
      "source": [
        "# Define metadata columns\n",
        "exclude_cols = ['img_id', 'diagnostic', 'patient_id', 'lesion_id', 'folder', 'diagnostic_number', 'label_encoded']\n",
        "metadata_cols = [col for col in train_df.columns if col not in exclude_cols]"
      ]
    },
    {
      "cell_type": "code",
      "execution_count": null,
      "metadata": {
        "id": "-_WTfp64T4_E"
      },
      "outputs": [],
      "source": [
        "# Apply StandardScaler\n",
        "scaler = StandardScaler()\n",
        "train_df[metadata_cols] = scaler.fit_transform(train_df[metadata_cols])\n",
        "test_df[metadata_cols] = scaler.transform(test_df[metadata_cols])"
      ]
    },
    {
      "cell_type": "code",
      "execution_count": null,
      "metadata": {
        "id": "5J84l3wHT4_E"
      },
      "outputs": [],
      "source": [
        "# Device\n",
        "device = torch.device(\"cuda\" if torch.cuda.is_available() else \"cpu\")"
      ]
    },
    {
      "cell_type": "code",
      "execution_count": null,
      "metadata": {
        "id": "zBInvYmMT4_E",
        "outputId": "981e012d-5e6c-48a9-db70-ffbffd5ec761"
      },
      "outputs": [
        {
          "name": "stdout",
          "output_type": "stream",
          "text": [
            "Using metadata columns: ['smoke_False', 'smoke_True', 'drink_False', 'drink_True', 'background_father_POMERANIA', 'background_father_GERMANY', 'background_father_BRAZIL', 'background_father_NETHERLANDS', 'background_father_ITALY', 'background_father_POLAND', 'background_father_UNK', 'background_father_PORTUGAL', 'background_father_BRASIL', 'background_father_CZECH', 'background_father_AUSTRIA', 'background_father_SPAIN', 'background_father_ISRAEL', 'background_mother_POMERANIA', 'background_mother_ITALY', 'background_mother_GERMANY', 'background_mother_BRAZIL', 'background_mother_UNK', 'background_mother_POLAND', 'background_mother_NORWAY', 'background_mother_PORTUGAL', 'background_mother_NETHERLANDS', 'background_mother_FRANCE', 'background_mother_SPAIN', 'age', 'pesticide_False', 'pesticide_True', 'gender_FEMALE', 'gender_MALE', 'skin_cancer_history_True', 'skin_cancer_history_False', 'cancer_history_True', 'cancer_history_False', 'has_piped_water_True', 'has_piped_water_False', 'has_sewage_system_True', 'has_sewage_system_False', 'fitspatrick_3.0', 'fitspatrick_1.0', 'fitspatrick_2.0', 'fitspatrick_4.0', 'fitspatrick_5.0', 'fitspatrick_6.0', 'region_ARM', 'region_NECK', 'region_FACE', 'region_HAND', 'region_FOREARM', 'region_CHEST', 'region_NOSE', 'region_THIGH', 'region_SCALP', 'region_EAR', 'region_BACK', 'region_FOOT', 'region_ABDOMEN', 'region_LIP', 'diameter_1', 'diameter_2', 'itch_False', 'itch_True', 'itch_UNK', 'grew_False', 'grew_True', 'grew_UNK', 'hurt_False', 'hurt_True', 'hurt_UNK', 'changed_False', 'changed_True', 'changed_UNK', 'bleed_False', 'bleed_True', 'bleed_UNK', 'elevation_False', 'elevation_True', 'elevation_UNK', 'biopsed']\n",
            "Using metadata columns: ['smoke_False', 'smoke_True', 'drink_False', 'drink_True', 'background_father_POMERANIA', 'background_father_GERMANY', 'background_father_BRAZIL', 'background_father_NETHERLANDS', 'background_father_ITALY', 'background_father_POLAND', 'background_father_UNK', 'background_father_PORTUGAL', 'background_father_BRASIL', 'background_father_CZECH', 'background_father_AUSTRIA', 'background_father_SPAIN', 'background_father_ISRAEL', 'background_mother_POMERANIA', 'background_mother_ITALY', 'background_mother_GERMANY', 'background_mother_BRAZIL', 'background_mother_UNK', 'background_mother_POLAND', 'background_mother_NORWAY', 'background_mother_PORTUGAL', 'background_mother_NETHERLANDS', 'background_mother_FRANCE', 'background_mother_SPAIN', 'age', 'pesticide_False', 'pesticide_True', 'gender_FEMALE', 'gender_MALE', 'skin_cancer_history_True', 'skin_cancer_history_False', 'cancer_history_True', 'cancer_history_False', 'has_piped_water_True', 'has_piped_water_False', 'has_sewage_system_True', 'has_sewage_system_False', 'fitspatrick_3.0', 'fitspatrick_1.0', 'fitspatrick_2.0', 'fitspatrick_4.0', 'fitspatrick_5.0', 'fitspatrick_6.0', 'region_ARM', 'region_NECK', 'region_FACE', 'region_HAND', 'region_FOREARM', 'region_CHEST', 'region_NOSE', 'region_THIGH', 'region_SCALP', 'region_EAR', 'region_BACK', 'region_FOOT', 'region_ABDOMEN', 'region_LIP', 'diameter_1', 'diameter_2', 'itch_False', 'itch_True', 'itch_UNK', 'grew_False', 'grew_True', 'grew_UNK', 'hurt_False', 'hurt_True', 'hurt_UNK', 'changed_False', 'changed_True', 'changed_UNK', 'bleed_False', 'bleed_True', 'bleed_UNK', 'elevation_False', 'elevation_True', 'elevation_UNK', 'biopsed']\n"
          ]
        }
      ],
      "source": [
        "# Datasets and Loaders\n",
        "train_ds = PADUFESDataset(train_df, img_dir)\n",
        "test_ds = PADUFESDataset(test_df, img_dir, augment=False)"
      ]
    },
    {
      "cell_type": "code",
      "execution_count": null,
      "metadata": {
        "id": "xNxvayICT4_E"
      },
      "outputs": [],
      "source": [
        "weights = make_weights_for_balanced_classes(train_ds)\n",
        "sampler = WeightedRandomSampler(weights, len(weights))"
      ]
    },
    {
      "cell_type": "code",
      "execution_count": null,
      "metadata": {
        "id": "7ONSQx1CT4_E"
      },
      "outputs": [],
      "source": [
        "train_loader = DataLoader(train_ds, batch_size=12, sampler=sampler)\n",
        "test_loader = DataLoader(test_ds, batch_size=12)"
      ]
    },
    {
      "cell_type": "code",
      "execution_count": null,
      "metadata": {
        "id": "20pdoe1XT4_F",
        "outputId": "e15e7652-cea2-4335-c610-82553a31af4b",
        "colab": {
          "referenced_widgets": [
            "a05a5f3d806a461cbc3d68038f3c8786",
            "632716ac7c6046948bd5cb7f00e963f1"
          ]
        }
      },
      "outputs": [
        {
          "name": "stderr",
          "output_type": "stream",
          "text": [
            "/usr/local/lib/python3.11/dist-packages/huggingface_hub/utils/_auth.py:94: UserWarning: \n",
            "The secret `HF_TOKEN` does not exist in your Colab secrets.\n",
            "To authenticate with the Hugging Face Hub, create a token in your settings tab (https://huggingface.co/settings/tokens), set it as secret in your Google Colab and restart your session.\n",
            "You will be able to reuse this secret in all of your notebooks.\n",
            "Please note that authentication is recommended but still optional to access public models or datasets.\n",
            "  warnings.warn(\n"
          ]
        },
        {
          "data": {
            "application/vnd.jupyter.widget-view+json": {
              "model_id": "a05a5f3d806a461cbc3d68038f3c8786",
              "version_major": 2,
              "version_minor": 0
            },
            "text/plain": [
              "config.json:   0%|          | 0.00/69.9k [00:00<?, ?B/s]"
            ]
          },
          "metadata": {},
          "output_type": "display_data"
        },
        {
          "data": {
            "application/vnd.jupyter.widget-view+json": {
              "model_id": "632716ac7c6046948bd5cb7f00e963f1",
              "version_major": 2,
              "version_minor": 0
            },
            "text/plain": [
              "pytorch_model.bin:   0%|          | 0.00/113M [00:00<?, ?B/s]"
            ]
          },
          "metadata": {},
          "output_type": "display_data"
        }
      ],
      "source": [
        "# Model\n",
        "model = MultiModalSwinClassifier(\n",
        "    num_classes=len(train_ds.label_dict),\n",
        "    metadata_dim=len(train_ds.metadata_cols)\n",
        ").to(device)"
      ]
    },
    {
      "cell_type": "markdown",
      "metadata": {
        "id": "dykCy_e_T4_F"
      },
      "source": [
        "# **Defining Model and Gradual Unfreezing**"
      ]
    },
    {
      "cell_type": "code",
      "execution_count": null,
      "metadata": {
        "id": "ZIUrX83_T4_F"
      },
      "outputs": [],
      "source": [
        "# Training setup\n",
        "# Freeze all SwinV2 layers at the start\n",
        "for param in model.image_model.parameters():\n",
        "    param.requires_grad = False\n",
        "\n",
        "# Prepare parameter groups\n",
        "image_params_to_unfreeze = []\n",
        "for name, param in model.image_model.named_parameters():\n",
        "    if \"layers.10\" in name or \"layers.11\" in name:\n",
        "        image_params_to_unfreeze.append(param)\n",
        "\n",
        "# Optimiser\n",
        "base_params = [p for p in model.parameters() if p.requires_grad]\n",
        "optimizer = torch.optim.Adam(base_params, lr=1e-4)\n",
        "criterion = nn.CrossEntropyLoss()\n",
        "scheduler = ReduceLROnPlateau(optimizer, mode='max', factor=0.5, patience=2, verbose=True)\n",
        "\n",
        "# Training configuration\n",
        "epochs = 25\n",
        "patience = 5\n",
        "best_val_acc = 0.0\n",
        "epochs_no_improve = 0\n",
        "unfreeze_at_epoch = 5\n",
        "\n",
        "# Track metrics\n",
        "train_losses, val_losses = [], []\n",
        "train_accuracies, val_accuracies = [], []\n",
        "lrs = []"
      ]
    },
    {
      "cell_type": "code",
      "execution_count": null,
      "metadata": {
        "id": "rSpQ1a0TT4_F",
        "outputId": "616a25e8-9fa5-4eda-9723-179c255a27e7"
      },
      "outputs": [
        {
          "name": "stderr",
          "output_type": "stream",
          "text": []
        },
        {
          "name": "stdout",
          "output_type": "stream",
          "text": [
            "Epoch 01 | Train Loss: 1.6704 | Val Loss: 1.5246 | Train Acc: 0.4010 | Val Acc: 0.4230\n",
            "Saved best model to /content/drive/MyDrive/Final Year Project/Code/Hugging Face Models/WandB model/Model Paths/MAFSwinTinyUnFrozen_25_epochs.pth\n"
          ]
        },
        {
          "name": "stderr",
          "output_type": "stream",
          "text": []
        },
        {
          "name": "stdout",
          "output_type": "stream",
          "text": [
            "Epoch 02 | Train Loss: 1.2695 | Val Loss: 1.2292 | Train Acc: 0.5593 | Val Acc: 0.4830\n",
            "Saved best model to /content/drive/MyDrive/Final Year Project/Code/Hugging Face Models/WandB model/Model Paths/MAFSwinTinyUnFrozen_25_epochs.pth\n"
          ]
        },
        {
          "name": "stderr",
          "output_type": "stream",
          "text": []
        },
        {
          "name": "stdout",
          "output_type": "stream",
          "text": [
            "Epoch 03 | Train Loss: 1.0300 | Val Loss: 0.9950 | Train Acc: 0.6037 | Val Acc: 0.6580\n",
            "Saved best model to /content/drive/MyDrive/Final Year Project/Code/Hugging Face Models/WandB model/Model Paths/MAFSwinTinyUnFrozen_25_epochs.pth\n"
          ]
        },
        {
          "name": "stderr",
          "output_type": "stream",
          "text": []
        },
        {
          "name": "stdout",
          "output_type": "stream",
          "text": [
            "Epoch 04 | Train Loss: 0.8784 | Val Loss: 0.9384 | Train Acc: 0.6778 | Val Acc: 0.6292\n"
          ]
        },
        {
          "name": "stderr",
          "output_type": "stream",
          "text": []
        },
        {
          "name": "stdout",
          "output_type": "stream",
          "text": [
            "Epoch 05 | Train Loss: 0.8035 | Val Loss: 0.8933 | Train Acc: 0.6825 | Val Acc: 0.6371\n",
            "Unfreezing SwinV2 layers at epoch 6\n"
          ]
        },
        {
          "name": "stderr",
          "output_type": "stream",
          "text": []
        },
        {
          "name": "stdout",
          "output_type": "stream",
          "text": [
            "Epoch 06 | Train Loss: 0.7347 | Val Loss: 0.8380 | Train Acc: 0.7269 | Val Acc: 0.6554\n"
          ]
        },
        {
          "name": "stderr",
          "output_type": "stream",
          "text": []
        },
        {
          "name": "stdout",
          "output_type": "stream",
          "text": [
            "Epoch 07 | Train Loss: 0.6891 | Val Loss: 0.7990 | Train Acc: 0.7373 | Val Acc: 0.6971\n",
            "Saved best model to /content/drive/MyDrive/Final Year Project/Code/Hugging Face Models/WandB model/Model Paths/MAFSwinTinyUnFrozen_25_epochs.pth\n"
          ]
        },
        {
          "name": "stderr",
          "output_type": "stream",
          "text": []
        },
        {
          "name": "stdout",
          "output_type": "stream",
          "text": [
            "Epoch 08 | Train Loss: 0.6718 | Val Loss: 0.8376 | Train Acc: 0.7556 | Val Acc: 0.6214\n"
          ]
        },
        {
          "name": "stderr",
          "output_type": "stream",
          "text": []
        },
        {
          "name": "stdout",
          "output_type": "stream",
          "text": [
            "Epoch 09 | Train Loss: 0.6578 | Val Loss: 0.7828 | Train Acc: 0.7587 | Val Acc: 0.6867\n"
          ]
        },
        {
          "name": "stderr",
          "output_type": "stream",
          "text": []
        },
        {
          "name": "stdout",
          "output_type": "stream",
          "text": [
            "Epoch 10 | Train Loss: 0.6355 | Val Loss: 0.7399 | Train Acc: 0.7603 | Val Acc: 0.7180\n",
            "Saved best model to /content/drive/MyDrive/Final Year Project/Code/Hugging Face Models/WandB model/Model Paths/MAFSwinTinyUnFrozen_25_epochs.pth\n"
          ]
        },
        {
          "name": "stderr",
          "output_type": "stream",
          "text": []
        },
        {
          "name": "stdout",
          "output_type": "stream",
          "text": [
            "Epoch 11 | Train Loss: 0.6353 | Val Loss: 0.7707 | Train Acc: 0.7540 | Val Acc: 0.6945\n"
          ]
        },
        {
          "name": "stderr",
          "output_type": "stream",
          "text": []
        },
        {
          "name": "stdout",
          "output_type": "stream",
          "text": [
            "Epoch 12 | Train Loss: 0.6405 | Val Loss: 0.7590 | Train Acc: 0.7483 | Val Acc: 0.7050\n"
          ]
        },
        {
          "name": "stderr",
          "output_type": "stream",
          "text": []
        },
        {
          "name": "stdout",
          "output_type": "stream",
          "text": [
            "Epoch 13 | Train Loss: 0.6086 | Val Loss: 0.7522 | Train Acc: 0.7760 | Val Acc: 0.7023\n"
          ]
        },
        {
          "name": "stderr",
          "output_type": "stream",
          "text": []
        },
        {
          "name": "stdout",
          "output_type": "stream",
          "text": [
            "Epoch 14 | Train Loss: 0.5762 | Val Loss: 0.7696 | Train Acc: 0.7765 | Val Acc: 0.6841\n"
          ]
        },
        {
          "name": "stderr",
          "output_type": "stream",
          "text": [
            "                                                           "
          ]
        },
        {
          "name": "stdout",
          "output_type": "stream",
          "text": [
            "Epoch 15 | Train Loss: 0.6093 | Val Loss: 0.7498 | Train Acc: 0.7572 | Val Acc: 0.7023\n",
            "Early stopping triggered at epoch 15\n"
          ]
        },
        {
          "name": "stderr",
          "output_type": "stream",
          "text": [
            "\r"
          ]
        }
      ],
      "source": [
        "# Training loop\n",
        "for epoch in range(epochs):\n",
        "    # Gradual unfreezing\n",
        "    if epoch == unfreeze_at_epoch:\n",
        "        print(f\"Unfreezing SwinV2 layers at epoch {epoch+1}\")\n",
        "        for name, param in model.image_model.named_parameters():\n",
        "            if \"layers.10\" in name or \"layers.11\" in name:\n",
        "                param.requires_grad = True\n",
        "\n",
        "        optimizer.add_param_group({'params': image_params_to_unfreeze, 'lr': 1e-5})\n",
        "\n",
        "    train_loss, train_acc = train(model, train_loader, criterion, optimizer, device)\n",
        "    val_loss, val_acc, val_preds, val_labels = evaluate(model, test_loader, criterion, device)\n",
        "\n",
        "    # Logging\n",
        "    train_losses.append(train_loss)\n",
        "    val_losses.append(val_loss)\n",
        "    train_accuracies.append(train_acc)\n",
        "    val_accuracies.append(val_acc)\n",
        "    lrs.append(optimizer.param_groups[0]['lr'])\n",
        "\n",
        "    print(f\"Epoch {epoch+1:02d} | Train Loss: {train_loss:.4f} | Val Loss: {val_loss:.4f} | Train Acc: {train_acc:.4f} | Val Acc: {val_acc:.4f}\")\n",
        "\n",
        "    scheduler.step(val_acc)\n",
        "\n",
        "    # Early stopping\n",
        "    if val_acc > best_val_acc:\n",
        "        best_val_acc = val_acc\n",
        "        epochs_no_improve = 0\n",
        "        torch.save(model.state_dict(), save_path)\n",
        "        print(f\"Saved best model to {save_path}\")\n",
        "    else:\n",
        "        epochs_no_improve += 1\n",
        "        if epochs_no_improve >= patience:\n",
        "            print(f\"Early stopping triggered at epoch {epoch+1}\")\n",
        "            break"
      ]
    },
    {
      "cell_type": "code",
      "execution_count": null,
      "metadata": {
        "id": "poGxRna5T4_F"
      },
      "outputs": [],
      "source": [
        "for name, param in model.image_model.named_parameters():\n",
        "    if \"layers.10\" in name or \"layers.11\" in name:\n",
        "        if param.grad is not None:\n",
        "            print(f\"{name} → gradient mean: {param.grad.abs().mean().item():.6f}\")\n",
        "        else:\n",
        "            print(f\"{name} → No gradient\")"
      ]
    },
    {
      "cell_type": "markdown",
      "metadata": {
        "id": "rUhNFU2AT4_F"
      },
      "source": [
        "# **Evaluation**"
      ]
    },
    {
      "cell_type": "code",
      "execution_count": null,
      "metadata": {
        "id": "IkWatfYzT4_G"
      },
      "outputs": [],
      "source": [
        "class_names = [label for label, idx in sorted(train_ds.label_dict.items(), key=lambda x: x[1])]"
      ]
    },
    {
      "cell_type": "code",
      "execution_count": null,
      "metadata": {
        "id": "68aljNgVT4_G",
        "outputId": "7bf54d33-6eb3-4a96-e906-091e15e75fe6"
      },
      "outputs": [
        {
          "name": "stdout",
          "output_type": "stream",
          "text": [
            "\n",
            "Classification Report:\n",
            "               precision    recall  f1-score   support\n",
            "\n",
            "         ACK       0.87      0.71      0.78       122\n",
            "         BCC       0.82      0.70      0.75       141\n",
            "         MEL       0.56      1.00      0.72         9\n",
            "         NEV       0.70      0.75      0.72        40\n",
            "         SCC       0.29      0.53      0.37        32\n",
            "         SEK       0.62      0.72      0.67        39\n",
            "\n",
            "    accuracy                           0.70       383\n",
            "   macro avg       0.64      0.73      0.67       383\n",
            "weighted avg       0.75      0.70      0.72       383\n",
            "\n"
          ]
        },
        {
          "data": {
            "image/png": "[encoded data removed]",
            "text/plain": [
              "<Figure size 1000x800 with 2 Axes>"
            ]
          },
          "metadata": {},
          "output_type": "display_data"
        }
      ],
      "source": [
        "# Ensure labels are integers\n",
        "val_preds = [int(p) for p in val_preds]\n",
        "val_labels = [int(l) for l in val_labels]\n",
        "\n",
        "# Classification report\n",
        "report = classification_report(val_labels, val_preds, target_names=class_names)\n",
        "print(\"\\nClassification Report:\\n\", report)\n",
        "\n",
        "# Confusion matrix\n",
        "cm = confusion_matrix(val_labels, val_preds)\n",
        "\n",
        "# Plot confusion matrix\n",
        "plt.figure(figsize=(10, 8))\n",
        "sns.heatmap(cm, annot=True, fmt=\"d\", cmap=\"Blues\", xticklabels=class_names, yticklabels=class_names)\n",
        "plt.xlabel(\"Predicted Label\")\n",
        "plt.ylabel(\"True Label\")\n",
        "plt.title(\"Confusion Matrix\")\n",
        "plt.tight_layout()\n",
        "plt.show()"
      ]
    }
  ],
  "metadata": {
    "colab": {
      "provenance": [],
      "include_colab_link": true
    }
  },
  "nbformat": 4,
  "nbformat_minor": 0
}
