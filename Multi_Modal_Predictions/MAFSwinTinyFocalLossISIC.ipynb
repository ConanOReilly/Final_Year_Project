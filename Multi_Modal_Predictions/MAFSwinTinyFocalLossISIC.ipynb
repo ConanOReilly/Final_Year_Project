{
  "cells": [
    {
      "cell_type": "markdown",
      "metadata": {
        "id": "view-in-github",
        "colab_type": "text"
      },
      "source": [
        "<a href=\"https://colab.research.google.com/github/ConanOReilly/Final_Year_Project/blob/main/Multi_Modal_Predictions/MAFSwinTinyFocalLossISIC.ipynb\" target=\"_parent\"><img src=\"https://colab.research.google.com/assets/colab-badge.svg\" alt=\"Open In Colab\"/></a>"
      ]
    },
    {
      "cell_type": "markdown",
      "metadata": {
        "id": "n6RuC2i-QPD-"
      },
      "source": [
        "# **Swin-Tiny Modality Attention Fusion with Focal Loss Trained on ISIC 2019**\n",
        "\n",
        "To test the valididaty of the results from the proposed method, the Swin-Tiny MAF model will be trained on the ISIC 2019 dataset."
      ]
    },
    {
      "cell_type": "code",
      "execution_count": null,
      "metadata": {
        "id": "-YnQ60UhQPEE",
        "outputId": "f21a2a23-3526-48b3-c2de-5c898226741c"
      },
      "outputs": [
        {
          "name": "stdout",
          "output_type": "stream",
          "text": [
            "Mounted at /content/drive\n"
          ]
        }
      ],
      "source": [
        "from google.colab import drive\n",
        "drive.mount('/content/drive')"
      ]
    },
    {
      "cell_type": "markdown",
      "metadata": {
        "id": "xZmAG8sMQPEM"
      },
      "source": [
        "# **Libraries**"
      ]
    },
    {
      "cell_type": "code",
      "execution_count": null,
      "metadata": {
        "id": "YwPQ7QDcQPEO"
      },
      "outputs": [],
      "source": [
        "import torch\n",
        "from torch import nn\n",
        "from torch.utils.data import Dataset, DataLoader, WeightedRandomSampler\n",
        "from transformers import Swinv2Model\n",
        "from torchvision import transforms\n",
        "from PIL import Image, UnidentifiedImageError\n",
        "import os\n",
        "import pandas as pd\n",
        "import random\n",
        "from tqdm import tqdm\n",
        "from sklearn.metrics import classification_report, confusion_matrix\n",
        "import matplotlib.pyplot as plt\n",
        "import seaborn as sns\n",
        "from sklearn.preprocessing import StandardScaler\n",
        "from torch.optim.lr_scheduler import ReduceLROnPlateau\n",
        "import torch.nn.functional as F\n",
        "import numpy as np\n",
        "from sklearn.preprocessing import LabelEncoder\n",
        "from sklearn.model_selection import train_test_split"
      ]
    },
    {
      "cell_type": "markdown",
      "metadata": {
        "id": "n8Lc4Fe9QPEQ"
      },
      "source": [
        "# **Importing ISIC 2019**"
      ]
    },
    {
      "cell_type": "code",
      "execution_count": null,
      "metadata": {
        "id": "yiIX-mFVQPES",
        "outputId": "3f07c32a-4210-4772-e7ea-ce6e60378a79"
      },
      "outputs": [
        {
          "name": "stdout",
          "output_type": "stream",
          "text": [
            "Requirement already satisfied: kaggle in /usr/local/lib/python3.11/dist-packages (1.7.4.2)\n",
            "Requirement already satisfied: bleach in /usr/local/lib/python3.11/dist-packages (from kaggle) (6.2.0)\n",
            "Requirement already satisfied: certifi>=14.05.14 in /usr/local/lib/python3.11/dist-packages (from kaggle) (2025.1.31)\n",
            "Requirement already satisfied: charset-normalizer in /usr/local/lib/python3.11/dist-packages (from kaggle) (3.4.1)\n",
            "Requirement already satisfied: idna in /usr/local/lib/python3.11/dist-packages (from kaggle) (3.10)\n",
            "Requirement already satisfied: protobuf in /usr/local/lib/python3.11/dist-packages (from kaggle) (5.29.4)\n",
            "Requirement already satisfied: python-dateutil>=2.5.3 in /usr/local/lib/python3.11/dist-packages (from kaggle) (2.8.2)\n",
            "Requirement already satisfied: python-slugify in /usr/local/lib/python3.11/dist-packages (from kaggle) (8.0.4)\n",
            "Requirement already satisfied: requests in /usr/local/lib/python3.11/dist-packages (from kaggle) (2.32.3)\n",
            "Requirement already satisfied: setuptools>=21.0.0 in /usr/local/lib/python3.11/dist-packages (from kaggle) (75.2.0)\n",
            "Requirement already satisfied: six>=1.10 in /usr/local/lib/python3.11/dist-packages (from kaggle) (1.17.0)\n",
            "Requirement already satisfied: text-unidecode in /usr/local/lib/python3.11/dist-packages (from kaggle) (1.3)\n",
            "Requirement already satisfied: tqdm in /usr/local/lib/python3.11/dist-packages (from kaggle) (4.67.1)\n",
            "Requirement already satisfied: urllib3>=1.15.1 in /usr/local/lib/python3.11/dist-packages (from kaggle) (2.3.0)\n",
            "Requirement already satisfied: webencodings in /usr/local/lib/python3.11/dist-packages (from kaggle) (0.5.1)\n"
          ]
        }
      ],
      "source": [
        "! pip install kaggle"
      ]
    },
    {
      "cell_type": "code",
      "execution_count": null,
      "metadata": {
        "id": "DfoMmanxQPEU"
      },
      "outputs": [],
      "source": [
        "# Remove the file if it exists and is not a directory\n",
        "if os.path.exists(\"/root/.kaggle\") and not os.path.isdir(\"/root/.kaggle\"):\n",
        "    os.remove(\"/root/.kaggle\")\n",
        "\n",
        "# Create the directory\n",
        "os.makedirs(\"/root/.kaggle\", exist_ok=True)"
      ]
    },
    {
      "cell_type": "code",
      "execution_count": null,
      "metadata": {
        "id": "4AEZTTDNQPEW"
      },
      "outputs": [],
      "source": [
        "!cp /content/drive/MyDrive/Final\\ Year\\ Project/Data/Kaggle\\ API/kaggle.json /root/.kaggle/"
      ]
    },
    {
      "cell_type": "code",
      "execution_count": null,
      "metadata": {
        "id": "HIbDOIsGQPEZ"
      },
      "outputs": [],
      "source": [
        "!chmod 600 /root/.kaggle/kaggle.json"
      ]
    },
    {
      "cell_type": "code",
      "execution_count": null,
      "metadata": {
        "id": "OVT5aP5mQPEb",
        "outputId": "70c91ac8-0241-484a-ce1c-69a7260dbd05"
      },
      "outputs": [
        {
          "name": "stdout",
          "output_type": "stream",
          "text": [
            "Dataset URL: https://www.kaggle.com/datasets/andrewmvd/isic-2019\n",
            "License(s): Attribution-NonCommercial 4.0 International (CC BY-NC 4.0)\n"
          ]
        }
      ],
      "source": [
        "!kaggle datasets download -d andrewmvd/isic-2019 -p /content --unzip"
      ]
    },
    {
      "cell_type": "markdown",
      "metadata": {
        "id": "h3OCYFuHQPEd"
      },
      "source": [
        "# **Defining Dataset, Classes, Weights, and Focal Loss**"
      ]
    },
    {
      "cell_type": "code",
      "execution_count": null,
      "metadata": {
        "id": "NVvFmquUQPEd"
      },
      "outputs": [],
      "source": [
        "# Dataset\n",
        "class ISIC2019Dataset(Dataset):\n",
        "    def __init__(self, dataframe, img_dir, augment=True):\n",
        "        self.df = dataframe.copy()\n",
        "        self.img_dir = img_dir\n",
        "        self.augment = augment\n",
        "\n",
        "        # Ensure img_id column is present\n",
        "        if 'img_id' not in self.df.columns:\n",
        "            raise ValueError(\"The dataframe must contain an 'img_id' column for image filenames.\")\n",
        "\n",
        "        # Label encoding\n",
        "        if 'label_encoded' not in self.df.columns:\n",
        "            label_dict = {label: idx for idx, label in enumerate(sorted(self.df['diagnostic'].unique()))}\n",
        "            self.df['label_encoded'] = self.df['diagnostic'].map(label_dict)\n",
        "            self.label_dict = label_dict\n",
        "        else:\n",
        "            self.label_dict = {label: idx for idx, label in enumerate(sorted(self.df['diagnostic'].unique()))}\n",
        "\n",
        "        # Convert metadata to usable numeric values\n",
        "        self.df['sex'] = self.df['sex'].map({'male': 0, 'female': 1}).fillna(0)\n",
        "        self.df['localization'] = self.df['localization'].astype('category').cat.codes\n",
        "        self.df['age'] = self.df['age'].fillna(0)\n",
        "\n",
        "        # Metadata columns used for the metadata branch\n",
        "        self.metadata_cols = ['age', 'sex', 'localization']\n",
        "\n",
        "        # Image transforms\n",
        "        self.transform = transforms.Compose([\n",
        "            transforms.Resize((256, 256)),\n",
        "            transforms.RandomRotation(20),\n",
        "            transforms.RandomHorizontalFlip(),\n",
        "            transforms.RandomVerticalFlip(),\n",
        "            transforms.ToTensor(),\n",
        "            transforms.Normalize(mean=[0.485, 0.456, 0.406],\n",
        "                                 std=[0.229, 0.224, 0.225])\n",
        "        ])\n",
        "        self.base_transform = transforms.Compose([\n",
        "            transforms.Resize((256, 256)),\n",
        "            transforms.ToTensor(),\n",
        "            transforms.Normalize(mean=[0.485, 0.456, 0.406],\n",
        "                                 std=[0.229, 0.224, 0.225])\n",
        "        ])\n",
        "\n",
        "        print(\"ISIC2019 Dataset Initialised\")\n",
        "        print(\"Using metadata columns:\", self.metadata_cols)\n",
        "        print(\"Label dictionary:\", self.label_dict)\n",
        "\n",
        "    def __len__(self):\n",
        "        return len(self.df)\n",
        "\n",
        "    def __getitem__(self, idx):\n",
        "        attempts = 0\n",
        "        max_attempts = 100\n",
        "\n",
        "        while attempts < max_attempts:\n",
        "            try:\n",
        "                row = self.df.iloc[idx]\n",
        "                img_name = row['img_id']\n",
        "                img_path = os.path.join(self.img_dir, img_name + \".jpg\") if not img_name.endswith(\".jpg\") else os.path.join(self.img_dir, img_name)\n",
        "                image = Image.open(img_path).convert(\"RGB\")\n",
        "\n",
        "                # Apply transforms\n",
        "                image = self.transform(image) if self.augment else self.base_transform(image)\n",
        "\n",
        "                # Extract metadata\n",
        "                metadata = torch.tensor(row[self.metadata_cols].astype(float).values, dtype=torch.float32)\n",
        "\n",
        "                # Label\n",
        "                label = int(row['label_encoded'])\n",
        "\n",
        "                return image, metadata, label\n",
        "\n",
        "            except (FileNotFoundError, UnidentifiedImageError):\n",
        "                attempts += 1\n",
        "                idx = random.randint(0, len(self.df) - 1)\n",
        "\n",
        "        raise Exception(f\"Failed to load image after {max_attempts} attempts.\")"
      ]
    },
    {
      "cell_type": "code",
      "execution_count": null,
      "metadata": {
        "id": "VlMG7hxOQPEf"
      },
      "outputs": [],
      "source": [
        "# Balanced sampling\n",
        "def make_weights_for_balanced_classes(dataset):\n",
        "    class_counts = dataset.df['label_encoded'].value_counts()\n",
        "    num_samples = len(dataset)\n",
        "    class_weights = {i: num_samples / class_counts[i] for i in range(len(class_counts))}\n",
        "    weights = [class_weights[label] for label in dataset.df['label_encoded']]\n",
        "    return weights"
      ]
    },
    {
      "cell_type": "code",
      "execution_count": null,
      "metadata": {
        "id": "wGsNkjkXQPEg"
      },
      "outputs": [],
      "source": [
        "class ModalityAttentionFusion(nn.Module):\n",
        "    def __init__(self, dim_img, dim_meta):\n",
        "        super(ModalityAttentionFusion, self).__init__()\n",
        "        self.attn_layer = nn.Sequential(\n",
        "            nn.Linear(dim_img + dim_meta, 128),\n",
        "            nn.ReLU(),\n",
        "            nn.Linear(128, 2),\n",
        "            nn.Softmax(dim=1)\n",
        "        )\n",
        "\n",
        "    def forward(self, img_feat, meta_feat):\n",
        "        combined = torch.cat([img_feat, meta_feat], dim=1)\n",
        "        attn_weights = self.attn_layer(combined)\n",
        "\n",
        "        # Split weights\n",
        "        img_alpha = attn_weights[:, 0].unsqueeze(1)\n",
        "        meta_alpha = attn_weights[:, 1].unsqueeze(1)\n",
        "\n",
        "        # Weighted fusion\n",
        "        fused = img_alpha * img_feat + meta_alpha * meta_feat\n",
        "        return fused"
      ]
    },
    {
      "cell_type": "code",
      "execution_count": null,
      "metadata": {
        "id": "BBOZ_1VQQPEh"
      },
      "outputs": [],
      "source": [
        "# Multi-modal model\n",
        "class MultiModalSwinClassifier(nn.Module):\n",
        "    def __init__(self, num_classes, metadata_dim):\n",
        "        super(MultiModalSwinClassifier, self).__init__()\n",
        "\n",
        "        self.image_model = Swinv2Model.from_pretrained(\"microsoft/swinv2-tiny-patch4-window8-256\")\n",
        "\n",
        "        self.image_fc = nn.Sequential(\n",
        "            nn.Linear(self.image_model.config.hidden_size, 128),\n",
        "            nn.ReLU(),\n",
        "            nn.Dropout(0.3)\n",
        "        )\n",
        "\n",
        "        self.metadata_fc = nn.Sequential(\n",
        "            nn.Linear(metadata_dim, 64),\n",
        "            nn.ReLU(),\n",
        "            nn.LayerNorm(64),\n",
        "            nn.Dropout(0.3),\n",
        "            nn.Linear(64, 64),\n",
        "            nn.ReLU(),\n",
        "            nn.Linear(64, 128)\n",
        "        )\n",
        "\n",
        "        self.fusion = ModalityAttentionFusion(128, 128)\n",
        "        self.classifier = nn.Linear(128, num_classes)\n",
        "\n",
        "    def forward(self, image, metadata):\n",
        "        image_features = self.image_model(image).pooler_output\n",
        "        image_features = self.image_fc(image_features)\n",
        "\n",
        "        metadata_features = self.metadata_fc(metadata)\n",
        "        fused = self.fusion(image_features, metadata_features)\n",
        "\n",
        "        return self.classifier(fused)"
      ]
    },
    {
      "cell_type": "code",
      "execution_count": null,
      "metadata": {
        "id": "1WWMkBEtQPEj"
      },
      "outputs": [],
      "source": [
        "# Training function\n",
        "def train(model, train_loader, criterion, optimizer, device):\n",
        "    model.train()\n",
        "    total_loss, correct, total = 0, 0, 0\n",
        "\n",
        "    loop = tqdm(train_loader, desc=\"Training\", leave=False)\n",
        "    for images, metadata, labels in loop:\n",
        "        images, metadata, labels = images.to(device), metadata.to(device), labels.to(device)\n",
        "        optimizer.zero_grad()\n",
        "        outputs = model(images, metadata)\n",
        "        loss = criterion(outputs, labels)\n",
        "        loss.backward()\n",
        "        optimizer.step()\n",
        "\n",
        "        total_loss += loss.item()\n",
        "        correct += (outputs.argmax(1) == labels).sum().item()\n",
        "        total += labels.size(0)\n",
        "\n",
        "    return total_loss / len(train_loader), correct / total\n"
      ]
    },
    {
      "cell_type": "code",
      "execution_count": null,
      "metadata": {
        "id": "sk2VA4pvQPEk"
      },
      "outputs": [],
      "source": [
        "# Evaluation function\n",
        "def evaluate(model, val_loader, criterion, device):\n",
        "    model.eval()\n",
        "    total_loss, correct, total = 0, 0, 0\n",
        "    all_preds, all_labels = [], []\n",
        "\n",
        "    loop = tqdm(val_loader, desc=\"Evaluating\", leave=False)\n",
        "    with torch.no_grad():\n",
        "        for images, metadata, labels in loop:\n",
        "            images, metadata, labels = images.to(device), metadata.to(device), labels.to(device)\n",
        "            outputs = model(images, metadata)\n",
        "            loss = criterion(outputs, labels)\n",
        "\n",
        "            total_loss += loss.item()\n",
        "            preds = outputs.argmax(1)\n",
        "            correct += (preds == labels).sum().item()\n",
        "            total += labels.size(0)\n",
        "\n",
        "            all_preds.extend(preds.cpu().numpy())\n",
        "            all_labels.extend(labels.cpu().numpy())\n",
        "\n",
        "    return total_loss / len(val_loader), correct / total, all_preds, all_labels"
      ]
    },
    {
      "cell_type": "code",
      "execution_count": null,
      "metadata": {
        "id": "RJihiKXRQPEk"
      },
      "outputs": [],
      "source": [
        "# Focal Loss\n",
        "class FocalLoss(nn.Module):\n",
        "    def __init__(self, alpha=None, gamma=2.0, reduction='mean'):\n",
        "        super(FocalLoss, self).__init__()\n",
        "        self.alpha = alpha\n",
        "        self.gamma = gamma\n",
        "        self.reduction = reduction\n",
        "\n",
        "    def forward(self, inputs, targets):\n",
        "        ce_loss = F.cross_entropy(inputs, targets, reduction='none', weight=self.alpha)\n",
        "        pt = torch.exp(-ce_loss)\n",
        "        focal_loss = (1 - pt) ** self.gamma * ce_loss\n",
        "\n",
        "        if self.reduction == 'mean':\n",
        "            return focal_loss.mean()\n",
        "        elif self.reduction == 'sum':\n",
        "            return focal_loss.sum()\n",
        "        else:\n",
        "            return focal_loss"
      ]
    },
    {
      "cell_type": "markdown",
      "metadata": {
        "id": "BxGHKI74QPEl"
      },
      "source": [
        "# **Defining Model**"
      ]
    },
    {
      "cell_type": "code",
      "execution_count": null,
      "metadata": {
        "id": "r0pl_bK1QPEl",
        "outputId": "91639d11-71e7-4643-cb1a-f863519443fc"
      },
      "outputs": [
        {
          "name": "stdout",
          "output_type": "stream",
          "text": [
            "         img_id diagnostic   age     sex     localization\n",
            "0  ISIC_0000000         NV  55.0  female   anterior torso\n",
            "1  ISIC_0000001         NV  30.0  female   anterior torso\n",
            "2  ISIC_0000002        MEL  60.0  female  upper extremity\n",
            "3  ISIC_0000003         NV  30.0    male  upper extremity\n",
            "4  ISIC_0000004        MEL  80.0    male  posterior torso\n"
          ]
        }
      ],
      "source": [
        "# Load the files\n",
        "meta_df = pd.read_csv(\"/content/ISIC_2019_Training_Metadata.csv\")\n",
        "gt_df = pd.read_csv(\"/content/ISIC_2019_Training_GroundTruth.csv\")\n",
        "\n",
        "# Filter out rows where no label is positive\n",
        "gt_df = gt_df[gt_df.iloc[:, 1:].sum(axis=1) > 0]\n",
        "\n",
        "# Merge on the 'image' column\n",
        "merged_df = pd.merge(gt_df, meta_df, on='image', how='inner')\n",
        "\n",
        "# Convert one-hot encoded diagnosis columns into a single label\n",
        "merged_df['diagnostic'] = merged_df.iloc[:, 1:10].idxmax(axis=1)\n",
        "\n",
        "# Rename image column\n",
        "merged_df['img_id'] = merged_df['image']\n",
        "\n",
        "# Rename metadata columns\n",
        "merged_df.rename(columns={\n",
        "    'age_approx': 'age',\n",
        "    'anatom_site_general': 'localization'\n",
        "}, inplace=True)\n",
        "\n",
        "# Preview result\n",
        "print(merged_df[['img_id', 'diagnostic', 'age', 'sex', 'localization']].head())\n",
        "\n",
        "# Save dataset\n",
        "merged_df.to_csv(\"/content/isic2019_merged_metadata.csv\", index=False)"
      ]
    },
    {
      "cell_type": "code",
      "execution_count": null,
      "metadata": {
        "id": "ZcYTOin0QPEn"
      },
      "outputs": [],
      "source": [
        "train_csv = \"/content/isic2019_merged_metadata.csv\"\n",
        "img_dir = \"/content/ISIC_2019_Training_Input/ISIC_2019_Training_Input\""
      ]
    },
    {
      "cell_type": "code",
      "execution_count": null,
      "metadata": {
        "id": "zw2EiYPBQPEo"
      },
      "outputs": [],
      "source": [
        "# Encode the 'diagnostic' column\n",
        "le = LabelEncoder()\n",
        "merged_df['label_encoded'] = le.fit_transform(merged_df['diagnostic'])"
      ]
    },
    {
      "cell_type": "code",
      "execution_count": null,
      "metadata": {
        "id": "GqNTwVS0QPEo"
      },
      "outputs": [],
      "source": [
        "train_df, test_df = train_test_split(merged_df, test_size=0.2, stratify=merged_df['label_encoded'], random_state=42)"
      ]
    },
    {
      "cell_type": "code",
      "execution_count": null,
      "metadata": {
        "id": "x1nd53tRQPEp"
      },
      "outputs": [],
      "source": [
        "metadata_cols = ['age', 'sex', 'localization']"
      ]
    },
    {
      "cell_type": "code",
      "execution_count": null,
      "metadata": {
        "id": "rJ6H02xZQPEp"
      },
      "outputs": [],
      "source": [
        "# Convert categorical metadata to numeric\n",
        "train_df['sex'] = train_df['sex'].map({'male': 0, 'female': 1}).fillna(0)\n",
        "test_df['sex'] = test_df['sex'].map({'male': 0, 'female': 1}).fillna(0)\n",
        "\n",
        "train_df['localization'] = train_df['localization'].astype('category').cat.codes\n",
        "test_df['localization'] = test_df['localization'].astype('category').cat.codes\n",
        "\n",
        "train_df['age'] = train_df['age'].fillna(0)\n",
        "test_df['age'] = test_df['age'].fillna(0)"
      ]
    },
    {
      "cell_type": "code",
      "execution_count": null,
      "metadata": {
        "id": "XyV81rTwQPEp"
      },
      "outputs": [],
      "source": [
        "# StandardScaler\n",
        "scaler = StandardScaler()\n",
        "train_df[metadata_cols] = scaler.fit_transform(train_df[metadata_cols])\n",
        "test_df[metadata_cols] = scaler.transform(test_df[metadata_cols])"
      ]
    },
    {
      "cell_type": "code",
      "execution_count": null,
      "metadata": {
        "id": "yvwtuTC_QPEq"
      },
      "outputs": [],
      "source": [
        "# Device\n",
        "device = torch.device(\"cuda\" if torch.cuda.is_available() else \"cpu\")"
      ]
    },
    {
      "cell_type": "code",
      "execution_count": null,
      "metadata": {
        "id": "Fu6iXng8QPEq",
        "outputId": "8fc90e47-a7a7-45f7-889b-406bd34b02a5"
      },
      "outputs": [
        {
          "name": "stdout",
          "output_type": "stream",
          "text": [
            "ISIC2019 Dataset Initialised\n",
            "Using metadata columns: ['age', 'sex', 'localization']\n",
            "Label dictionary: {'AK': 0, 'BCC': 1, 'BKL': 2, 'DF': 3, 'MEL': 4, 'NV': 5, 'SCC': 6, 'VASC': 7}\n",
            "ISIC2019 Dataset Initialised\n",
            "Using metadata columns: ['age', 'sex', 'localization']\n",
            "Label dictionary: {'AK': 0, 'BCC': 1, 'BKL': 2, 'DF': 3, 'MEL': 4, 'NV': 5, 'SCC': 6, 'VASC': 7}\n"
          ]
        }
      ],
      "source": [
        "# Datasets and Loaders\n",
        "train_ds = ISIC2019Dataset(train_df, img_dir)\n",
        "test_ds = ISIC2019Dataset(test_df, img_dir, augment=False)"
      ]
    },
    {
      "cell_type": "code",
      "execution_count": null,
      "metadata": {
        "id": "Bc0OwKRxQPEr"
      },
      "outputs": [],
      "source": [
        "weights = make_weights_for_balanced_classes(train_ds)\n",
        "sampler = WeightedRandomSampler(weights, len(weights))"
      ]
    },
    {
      "cell_type": "code",
      "execution_count": null,
      "metadata": {
        "id": "Jn7gPfMYQPEs"
      },
      "outputs": [],
      "source": [
        "train_loader = DataLoader(train_ds, batch_size=12, sampler=sampler)\n",
        "test_loader = DataLoader(test_ds, batch_size=12)"
      ]
    },
    {
      "cell_type": "code",
      "execution_count": null,
      "metadata": {
        "id": "S8V1iXT4QPEt"
      },
      "outputs": [],
      "source": [
        "# Model\n",
        "model = MultiModalSwinClassifier(\n",
        "    num_classes=len(train_ds.label_dict),\n",
        "    metadata_dim=len(train_ds.metadata_cols)\n",
        ").to(device)"
      ]
    },
    {
      "cell_type": "code",
      "execution_count": null,
      "metadata": {
        "id": "qcaiSbW1QPEt",
        "outputId": "0c5c0ade-cb92-4ef6-b7b6-e001886951dd"
      },
      "outputs": [
        {
          "name": "stdout",
          "output_type": "stream",
          "text": [
            "Label Dictionary: {'AK': 0, 'BCC': 1, 'BKL': 2, 'DF': 3, 'MEL': 4, 'NV': 5, 'SCC': 6, 'VASC': 7}\n"
          ]
        }
      ],
      "source": [
        "print(\"Label Dictionary:\", train_ds.label_dict)"
      ]
    },
    {
      "cell_type": "code",
      "execution_count": null,
      "metadata": {
        "id": "JAhuNsNhQPEv",
        "outputId": "b7ed60ca-6a0c-45d3-a38e-21c0a84565f5"
      },
      "outputs": [
        {
          "name": "stdout",
          "output_type": "stream",
          "text": [
            "Class Counts:\n",
            " label_encoded\n",
            "0      694\n",
            "1     2658\n",
            "2     2099\n",
            "3      191\n",
            "4     3618\n",
            "5    10300\n",
            "6      502\n",
            "7      202\n",
            "Name: count, dtype: int64\n",
            "\n",
            "Label Index to Class Name Mapping:\n",
            " label_encoded\n",
            "0      AK\n",
            "1     BCC\n",
            "2     BKL\n",
            "3      DF\n",
            "4     MEL\n",
            "5      NV\n",
            "6     SCC\n",
            "7    VASC\n",
            "Name: diagnostic, dtype: object\n"
          ]
        }
      ],
      "source": [
        "# View count of each class\n",
        "class_counts = train_df['label_encoded'].value_counts().sort_index()\n",
        "label_names = train_df.groupby('label_encoded')['diagnostic'].first()\n",
        "\n",
        "print(\"Class Counts:\\n\", class_counts)\n",
        "print(\"\\nLabel Index to Class Name Mapping:\\n\", label_names)"
      ]
    },
    {
      "cell_type": "code",
      "execution_count": null,
      "metadata": {
        "id": "mT8wcXy3QPEw"
      },
      "outputs": [],
      "source": [
        "alpha = torch.tensor([1.0, 1.0, 1.0, 1.0, 1.0, 1.0, 2.0, 1.0]).to(device)"
      ]
    },
    {
      "cell_type": "code",
      "execution_count": null,
      "metadata": {
        "id": "mwi0YRyZQPEw"
      },
      "outputs": [],
      "source": [
        "# Training setup\n",
        "criterion = FocalLoss(alpha=alpha, gamma=2.0)\n",
        "optimizer = torch.optim.Adam(model.parameters(), lr=1e-4)\n",
        "scheduler = ReduceLROnPlateau(optimizer, mode='max', factor=0.5, patience=2, verbose=True)\n",
        "\n",
        "epochs = 25\n",
        "patience = 10\n",
        "best_val_acc = 0.0\n",
        "epochs_no_improve = 0\n",
        "\n",
        "# Track metrics\n",
        "train_losses = []\n",
        "val_losses = []\n",
        "\n",
        "train_accuracies = []\n",
        "val_accuracies = []\n",
        "\n",
        "lrs = []"
      ]
    },
    {
      "cell_type": "markdown",
      "metadata": {
        "id": "JhwDSDdqQPEx"
      },
      "source": [
        "# **Training Model**"
      ]
    },
    {
      "cell_type": "code",
      "execution_count": null,
      "metadata": {
        "id": "vt2n0Cb8QPEx"
      },
      "outputs": [],
      "source": [
        "save_path = \"/content/drive/MyDrive/Final Year Project/Code/Hugging Face Models/WandB model/Model Paths/isic2019_best_model.pth\""
      ]
    },
    {
      "cell_type": "code",
      "execution_count": null,
      "metadata": {
        "id": "Ktd2sNgpQPEy",
        "outputId": "82f950dd-dae8-4703-d3bd-59b59d092ee5"
      },
      "outputs": [
        {
          "name": "stderr",
          "output_type": "stream",
          "text": []
        },
        {
          "name": "stdout",
          "output_type": "stream",
          "text": [
            "Epoch 01 | Train Loss: 0.7807 | Val Loss: 0.6257 | Train Acc: 0.5905 | Val Acc: 0.5171\n",
            "Saved best model to /content/drive/MyDrive/Final Year Project/Code/Hugging Face Models/WandB model/Model Paths/isic2019_best_model.pth\n"
          ]
        },
        {
          "name": "stderr",
          "output_type": "stream",
          "text": []
        },
        {
          "name": "stdout",
          "output_type": "stream",
          "text": [
            "Epoch 02 | Train Loss: 0.4167 | Val Loss: 0.4293 | Train Acc: 0.7448 | Val Acc: 0.6767\n",
            "Saved best model to /content/drive/MyDrive/Final Year Project/Code/Hugging Face Models/WandB model/Model Paths/isic2019_best_model.pth\n"
          ]
        },
        {
          "name": "stderr",
          "output_type": "stream",
          "text": []
        },
        {
          "name": "stdout",
          "output_type": "stream",
          "text": [
            "Epoch 03 | Train Loss: 0.3132 | Val Loss: 0.3682 | Train Acc: 0.7931 | Val Acc: 0.7312\n",
            "Saved best model to /content/drive/MyDrive/Final Year Project/Code/Hugging Face Models/WandB model/Model Paths/isic2019_best_model.pth\n"
          ]
        },
        {
          "name": "stderr",
          "output_type": "stream",
          "text": []
        },
        {
          "name": "stdout",
          "output_type": "stream",
          "text": [
            "Epoch 04 | Train Loss: 0.2495 | Val Loss: 0.3948 | Train Acc: 0.8311 | Val Acc: 0.7099\n"
          ]
        },
        {
          "name": "stderr",
          "output_type": "stream",
          "text": []
        },
        {
          "name": "stdout",
          "output_type": "stream",
          "text": [
            "Epoch 05 | Train Loss: 0.2070 | Val Loss: 0.4229 | Train Acc: 0.8506 | Val Acc: 0.7091\n"
          ]
        },
        {
          "name": "stderr",
          "output_type": "stream",
          "text": []
        },
        {
          "name": "stdout",
          "output_type": "stream",
          "text": [
            "Epoch 06 | Train Loss: 0.1931 | Val Loss: 0.3281 | Train Acc: 0.8576 | Val Acc: 0.7482\n",
            "Saved best model to /content/drive/MyDrive/Final Year Project/Code/Hugging Face Models/WandB model/Model Paths/isic2019_best_model.pth\n"
          ]
        },
        {
          "name": "stderr",
          "output_type": "stream",
          "text": []
        },
        {
          "name": "stdout",
          "output_type": "stream",
          "text": [
            "Epoch 07 | Train Loss: 0.1595 | Val Loss: 0.3218 | Train Acc: 0.8727 | Val Acc: 0.7713\n",
            "Saved best model to /content/drive/MyDrive/Final Year Project/Code/Hugging Face Models/WandB model/Model Paths/isic2019_best_model.pth\n"
          ]
        },
        {
          "name": "stderr",
          "output_type": "stream",
          "text": []
        },
        {
          "name": "stdout",
          "output_type": "stream",
          "text": [
            "Epoch 08 | Train Loss: 0.1488 | Val Loss: 0.3099 | Train Acc: 0.8819 | Val Acc: 0.7758\n",
            "Saved best model to /content/drive/MyDrive/Final Year Project/Code/Hugging Face Models/WandB model/Model Paths/isic2019_best_model.pth\n"
          ]
        },
        {
          "name": "stderr",
          "output_type": "stream",
          "text": []
        },
        {
          "name": "stdout",
          "output_type": "stream",
          "text": [
            "Epoch 09 | Train Loss: 0.1367 | Val Loss: 0.3327 | Train Acc: 0.8878 | Val Acc: 0.7401\n"
          ]
        },
        {
          "name": "stderr",
          "output_type": "stream",
          "text": []
        },
        {
          "name": "stdout",
          "output_type": "stream",
          "text": [
            "Epoch 10 | Train Loss: 0.1248 | Val Loss: 0.2824 | Train Acc: 0.8953 | Val Acc: 0.8007\n",
            "Saved best model to /content/drive/MyDrive/Final Year Project/Code/Hugging Face Models/WandB model/Model Paths/isic2019_best_model.pth\n"
          ]
        },
        {
          "name": "stderr",
          "output_type": "stream",
          "text": []
        },
        {
          "name": "stdout",
          "output_type": "stream",
          "text": [
            "Epoch 11 | Train Loss: 0.1212 | Val Loss: 0.2826 | Train Acc: 0.8970 | Val Acc: 0.8076\n",
            "Saved best model to /content/drive/MyDrive/Final Year Project/Code/Hugging Face Models/WandB model/Model Paths/isic2019_best_model.pth\n"
          ]
        },
        {
          "name": "stderr",
          "output_type": "stream",
          "text": []
        },
        {
          "name": "stdout",
          "output_type": "stream",
          "text": [
            "Epoch 12 | Train Loss: 0.1083 | Val Loss: 0.2972 | Train Acc: 0.9043 | Val Acc: 0.7874\n"
          ]
        },
        {
          "name": "stderr",
          "output_type": "stream",
          "text": []
        },
        {
          "name": "stdout",
          "output_type": "stream",
          "text": [
            "Epoch 13 | Train Loss: 0.1068 | Val Loss: 0.3046 | Train Acc: 0.9056 | Val Acc: 0.7794\n"
          ]
        },
        {
          "name": "stderr",
          "output_type": "stream",
          "text": []
        },
        {
          "name": "stdout",
          "output_type": "stream",
          "text": [
            "Epoch 14 | Train Loss: 0.0973 | Val Loss: 0.2947 | Train Acc: 0.9137 | Val Acc: 0.8216\n",
            "Saved best model to /content/drive/MyDrive/Final Year Project/Code/Hugging Face Models/WandB model/Model Paths/isic2019_best_model.pth\n"
          ]
        },
        {
          "name": "stderr",
          "output_type": "stream",
          "text": []
        },
        {
          "name": "stdout",
          "output_type": "stream",
          "text": [
            "Epoch 15 | Train Loss: 0.0968 | Val Loss: 0.3076 | Train Acc: 0.9131 | Val Acc: 0.7671\n"
          ]
        },
        {
          "name": "stderr",
          "output_type": "stream",
          "text": []
        },
        {
          "name": "stdout",
          "output_type": "stream",
          "text": [
            "Epoch 16 | Train Loss: 0.0901 | Val Loss: 0.3221 | Train Acc: 0.9182 | Val Acc: 0.7869\n"
          ]
        },
        {
          "name": "stderr",
          "output_type": "stream",
          "text": []
        },
        {
          "name": "stdout",
          "output_type": "stream",
          "text": [
            "Epoch 17 | Train Loss: 0.0893 | Val Loss: 0.2904 | Train Acc: 0.9209 | Val Acc: 0.8068\n"
          ]
        },
        {
          "name": "stderr",
          "output_type": "stream",
          "text": []
        },
        {
          "name": "stdout",
          "output_type": "stream",
          "text": [
            "Epoch 18 | Train Loss: 0.0505 | Val Loss: 0.2619 | Train Acc: 0.9476 | Val Acc: 0.8309\n",
            "Saved best model to /content/drive/MyDrive/Final Year Project/Code/Hugging Face Models/WandB model/Model Paths/isic2019_best_model.pth\n"
          ]
        },
        {
          "name": "stderr",
          "output_type": "stream",
          "text": []
        },
        {
          "name": "stdout",
          "output_type": "stream",
          "text": [
            "Epoch 19 | Train Loss: 0.0472 | Val Loss: 0.2821 | Train Acc: 0.9478 | Val Acc: 0.8368\n",
            "Saved best model to /content/drive/MyDrive/Final Year Project/Code/Hugging Face Models/WandB model/Model Paths/isic2019_best_model.pth\n"
          ]
        },
        {
          "name": "stderr",
          "output_type": "stream",
          "text": []
        },
        {
          "name": "stdout",
          "output_type": "stream",
          "text": [
            "Epoch 20 | Train Loss: 0.0392 | Val Loss: 0.2562 | Train Acc: 0.9566 | Val Acc: 0.8502\n",
            "Saved best model to /content/drive/MyDrive/Final Year Project/Code/Hugging Face Models/WandB model/Model Paths/isic2019_best_model.pth\n"
          ]
        },
        {
          "name": "stderr",
          "output_type": "stream",
          "text": []
        },
        {
          "name": "stdout",
          "output_type": "stream",
          "text": [
            "Epoch 21 | Train Loss: 0.0378 | Val Loss: 0.2686 | Train Acc: 0.9591 | Val Acc: 0.8504\n",
            "Saved best model to /content/drive/MyDrive/Final Year Project/Code/Hugging Face Models/WandB model/Model Paths/isic2019_best_model.pth\n"
          ]
        },
        {
          "name": "stderr",
          "output_type": "stream",
          "text": []
        },
        {
          "name": "stdout",
          "output_type": "stream",
          "text": [
            "Epoch 22 | Train Loss: 0.0396 | Val Loss: 0.2596 | Train Acc: 0.9592 | Val Acc: 0.8476\n"
          ]
        },
        {
          "name": "stderr",
          "output_type": "stream",
          "text": []
        },
        {
          "name": "stdout",
          "output_type": "stream",
          "text": [
            "Epoch 23 | Train Loss: 0.0345 | Val Loss: 0.2731 | Train Acc: 0.9630 | Val Acc: 0.8220\n"
          ]
        },
        {
          "name": "stderr",
          "output_type": "stream",
          "text": []
        },
        {
          "name": "stdout",
          "output_type": "stream",
          "text": [
            "Epoch 24 | Train Loss: 0.0337 | Val Loss: 0.2640 | Train Acc: 0.9626 | Val Acc: 0.8362\n"
          ]
        },
        {
          "name": "stderr",
          "output_type": "stream",
          "text": []
        },
        {
          "name": "stdout",
          "output_type": "stream",
          "text": [
            "Epoch 25 | Train Loss: 0.0222 | Val Loss: 0.2520 | Train Acc: 0.9723 | Val Acc: 0.8581\n",
            "Saved best model to /content/drive/MyDrive/Final Year Project/Code/Hugging Face Models/WandB model/Model Paths/isic2019_best_model.pth\n"
          ]
        }
      ],
      "source": [
        "# Training loop\n",
        "for epoch in range(epochs):\n",
        "    train_loss, train_acc = train(model, train_loader, criterion, optimizer, device)\n",
        "    val_loss, val_acc, val_preds, val_labels = evaluate(model, test_loader, criterion, device)\n",
        "\n",
        "    # Logging\n",
        "    train_losses.append(train_loss)\n",
        "    val_losses.append(val_loss)\n",
        "    train_accuracies.append(train_acc)\n",
        "    val_accuracies.append(val_acc)\n",
        "    lrs.append(optimizer.param_groups[0]['lr'])\n",
        "\n",
        "    print(f\"Epoch {epoch+1:02d} | Train Loss: {train_loss:.4f} | Val Loss: {val_loss:.4f} | Train Acc: {train_acc:.4f} | Val Acc: {val_acc:.4f}\")\n",
        "\n",
        "    scheduler.step(val_acc)\n",
        "\n",
        "    # Early stopping\n",
        "    if val_acc > best_val_acc:\n",
        "        best_val_acc = val_acc\n",
        "        epochs_no_improve = 0\n",
        "        torch.save(model.state_dict(), save_path)\n",
        "        print(f\"Saved best model to {save_path}\")\n",
        "    else:\n",
        "        epochs_no_improve += 1\n",
        "        if epochs_no_improve >= patience:\n",
        "            print(f\"Early stopping triggered at epoch {epoch+1}\")\n",
        "            break"
      ]
    },
    {
      "cell_type": "markdown",
      "metadata": {
        "id": "5uRVbRU6QPEz"
      },
      "source": [
        "# **Evaluation**"
      ]
    },
    {
      "cell_type": "code",
      "execution_count": null,
      "metadata": {
        "id": "4alGIqA5QPFD"
      },
      "outputs": [],
      "source": [
        "class_names = [label for label, idx in sorted(train_ds.label_dict.items(), key=lambda x: x[1])]"
      ]
    },
    {
      "cell_type": "code",
      "execution_count": null,
      "metadata": {
        "id": "CTaxTcALQPFE",
        "outputId": "05f35743-ad72-4d1a-c6ef-6fb52e0d363c"
      },
      "outputs": [
        {
          "name": "stderr",
          "output_type": "stream",
          "text": []
        }
      ],
      "source": [
        "# Load best model\n",
        "model.load_state_dict(torch.load(save_path))\n",
        "model.to(device)\n",
        "\n",
        "val_loss, val_acc, val_preds, val_labels = evaluate(model, test_loader, criterion, device)"
      ]
    },
    {
      "cell_type": "code",
      "execution_count": null,
      "metadata": {
        "id": "3PTSjJKuQPFF",
        "outputId": "7b5f8948-f7ed-46eb-be2c-e78332389c89"
      },
      "outputs": [
        {
          "name": "stdout",
          "output_type": "stream",
          "text": [
            "\n",
            "Classification Report:\n",
            "               precision    recall  f1-score   support\n",
            "\n",
            "          AK       0.79      0.75      0.77       173\n",
            "         BCC       0.87      0.90      0.89       665\n",
            "         BKL       0.84      0.76      0.80       525\n",
            "          DF       0.91      0.85      0.88        48\n",
            "         MEL       0.75      0.76      0.76       904\n",
            "          NV       0.90      0.91      0.90      2575\n",
            "         SCC       0.81      0.75      0.78       126\n",
            "        VASC       0.92      0.96      0.94        51\n",
            "\n",
            "    accuracy                           0.86      5067\n",
            "   macro avg       0.85      0.83      0.84      5067\n",
            "weighted avg       0.86      0.86      0.86      5067\n",
            "\n"
          ]
        },
        {
          "data": {
            "image/png": "[encoded data removed]",
            "text/plain": [
              "<Figure size 1000x800 with 2 Axes>"
            ]
          },
          "metadata": {},
          "output_type": "display_data"
        }
      ],
      "source": [
        "val_preds = [int(p) for p in val_preds]\n",
        "val_labels = [int(l) for l in val_labels]\n",
        "\n",
        "# Classification report\n",
        "report = classification_report(val_labels, val_preds, target_names=class_names)\n",
        "print(\"\\nClassification Report:\\n\", report)\n",
        "\n",
        "# Confusion matrix\n",
        "cm = confusion_matrix(val_labels, val_preds)\n",
        "\n",
        "# Plot confusion matrix\n",
        "plt.figure(figsize=(10, 8))\n",
        "sns.heatmap(cm, annot=True, fmt=\"d\", cmap=\"Blues\", xticklabels=class_names, yticklabels=class_names)\n",
        "plt.xlabel(\"Predicted Label\")\n",
        "plt.ylabel(\"True Label\")\n",
        "plt.title(\"Confusion Matrix\")\n",
        "plt.tight_layout()\n",
        "plt.show()"
      ]
    }
  ],
  "metadata": {
    "colab": {
      "provenance": [],
      "include_colab_link": true
    }
  },
  "nbformat": 4,
  "nbformat_minor": 0
}